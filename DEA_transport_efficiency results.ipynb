{
 "cells": [
  {
   "cell_type": "code",
   "execution_count": 1,
   "metadata": {},
   "outputs": [
    {
     "data": {
      "application/javascript": [
       "\n",
       "            setTimeout(function() {\n",
       "                var nbb_cell_id = 1;\n",
       "                var nbb_unformatted_code = \"from multiprocessing import Pool\\nfrom itertools import product\\nimport matplotlib as mpl\\nimport matplotlib.pyplot as plt\\nimport numpy as np\\nimport os\\nimport pandas as pd\\nimport pickle\\nimport seaborn as sns\\n\\n%load_ext nb_black\";\n",
       "                var nbb_formatted_code = \"from multiprocessing import Pool\\nfrom itertools import product\\nimport matplotlib as mpl\\nimport matplotlib.pyplot as plt\\nimport numpy as np\\nimport os\\nimport pandas as pd\\nimport pickle\\nimport seaborn as sns\\n\\n%load_ext nb_black\";\n",
       "                var nbb_cells = Jupyter.notebook.get_cells();\n",
       "                for (var i = 0; i < nbb_cells.length; ++i) {\n",
       "                    if (nbb_cells[i].input_prompt_number == nbb_cell_id) {\n",
       "                        if (nbb_cells[i].get_text() == nbb_unformatted_code) {\n",
       "                             nbb_cells[i].set_text(nbb_formatted_code);\n",
       "                        }\n",
       "                        break;\n",
       "                    }\n",
       "                }\n",
       "            }, 500);\n",
       "            "
      ],
      "text/plain": [
       "<IPython.core.display.Javascript object>"
      ]
     },
     "metadata": {},
     "output_type": "display_data"
    }
   ],
   "source": [
    "from multiprocessing import Pool\n",
    "from itertools import product\n",
    "from scipy import stats\n",
    "from scipy.optimize import curve_fit\n",
    "\n",
    "import matplotlib as mpl\n",
    "import matplotlib.pyplot as plt\n",
    "import numpy as np\n",
    "import os\n",
    "import pandas as pd\n",
    "import pickle\n",
    "import seaborn as sns\n",
    "\n",
    "%load_ext nb_black"
   ]
  },
  {
   "cell_type": "code",
   "execution_count": 2,
   "metadata": {},
   "outputs": [
    {
     "data": {
      "application/javascript": [
       "\n",
       "            setTimeout(function() {\n",
       "                var nbb_cell_id = 2;\n",
       "                var nbb_unformatted_code = \"dir_data = r\\\"E:\\\\tencent files\\\\chrome Download\\\\Research\\\\DEA\\\\DEA_transport\\\\Data_input\\\"\\nxls = r\\\"DEA_inout.xlsx\\\"\\n\\nfile_path = r\\\"E:\\\\tencent files\\\\chrome Download\\\\Research\\\\DEA\\\\DEA_transport\\\\Data_input\\\\city_efficency\\\"\\nfile_path_strong_dis = r\\\"E:\\\\tencent files\\\\chrome Download\\\\Research\\\\DEA\\\\DEA_transport\\\\Data_input\\\\eff_strong_reg\\\"\";\n",
       "                var nbb_formatted_code = \"dir_data = r\\\"E:\\\\tencent files\\\\chrome Download\\\\Research\\\\DEA\\\\DEA_transport\\\\Data_input\\\"\\nxls = r\\\"DEA_inout.xlsx\\\"\\n\\nfile_path = r\\\"E:\\\\tencent files\\\\chrome Download\\\\Research\\\\DEA\\\\DEA_transport\\\\Data_input\\\\city_efficency\\\"\\nfile_path_strong_dis = r\\\"E:\\\\tencent files\\\\chrome Download\\\\Research\\\\DEA\\\\DEA_transport\\\\Data_input\\\\eff_strong_reg\\\"\";\n",
       "                var nbb_cells = Jupyter.notebook.get_cells();\n",
       "                for (var i = 0; i < nbb_cells.length; ++i) {\n",
       "                    if (nbb_cells[i].input_prompt_number == nbb_cell_id) {\n",
       "                        if (nbb_cells[i].get_text() == nbb_unformatted_code) {\n",
       "                             nbb_cells[i].set_text(nbb_formatted_code);\n",
       "                        }\n",
       "                        break;\n",
       "                    }\n",
       "                }\n",
       "            }, 500);\n",
       "            "
      ],
      "text/plain": [
       "<IPython.core.display.Javascript object>"
      ]
     },
     "metadata": {},
     "output_type": "display_data"
    }
   ],
   "source": [
    "dir_data = r\"E:\\tencent files\\chrome Download\\Research\\DEA\\DEA_transport\\Data_input\"\n",
    "xls = r\"DEA_inout.xlsx\"\n",
    "\n",
    "file_path = r\"E:\\tencent files\\chrome Download\\Research\\DEA\\DEA_transport\\Data_input\\city_efficency\"\n",
    "file_path_strong_dis = r\"E:\\tencent files\\chrome Download\\Research\\DEA\\DEA_transport\\Data_input\\eff_strong_reg\""
   ]
  },
  {
   "cell_type": "code",
   "execution_count": 3,
   "metadata": {},
   "outputs": [
    {
     "data": {
      "application/javascript": [
       "\n",
       "            setTimeout(function() {\n",
       "                var nbb_cell_id = 3;\n",
       "                var nbb_unformatted_code = \"def load_pickle(\\n    iteration, columns=[\\\"scalingFacotr_b_0\\\", \\\"scalingFacotr_b_1\\\"], file_path=file_path\\n):\\n    pickle_ls = os.listdir(file_path)\\n    os.chdir(file_path)\\n    with open(pickle_ls[iteration], \\\"rb\\\") as file:\\n        results = pickle.load(file)\\n    efficiency_results = results.loc[:, columns]\\n    return efficiency_results\";\n",
       "                var nbb_formatted_code = \"def load_pickle(\\n    iteration, columns=[\\\"scalingFacotr_b_0\\\", \\\"scalingFacotr_b_1\\\"], file_path=file_path\\n):\\n    pickle_ls = os.listdir(file_path)\\n    os.chdir(file_path)\\n    with open(pickle_ls[iteration], \\\"rb\\\") as file:\\n        results = pickle.load(file)\\n    efficiency_results = results.loc[:, columns]\\n    return efficiency_results\";\n",
       "                var nbb_cells = Jupyter.notebook.get_cells();\n",
       "                for (var i = 0; i < nbb_cells.length; ++i) {\n",
       "                    if (nbb_cells[i].input_prompt_number == nbb_cell_id) {\n",
       "                        if (nbb_cells[i].get_text() == nbb_unformatted_code) {\n",
       "                             nbb_cells[i].set_text(nbb_formatted_code);\n",
       "                        }\n",
       "                        break;\n",
       "                    }\n",
       "                }\n",
       "            }, 500);\n",
       "            "
      ],
      "text/plain": [
       "<IPython.core.display.Javascript object>"
      ]
     },
     "metadata": {},
     "output_type": "display_data"
    }
   ],
   "source": [
    "def load_pickle(\n",
    "    iteration, columns=[\"scalingFacotr_b_0\", \"scalingFacotr_b_1\"], file_path=file_path\n",
    "):\n",
    "    pickle_ls = os.listdir(file_path)\n",
    "    os.chdir(file_path)\n",
    "    with open(pickle_ls[iteration], \"rb\") as file:\n",
    "        results = pickle.load(file)\n",
    "    efficiency_results = results.loc[:, columns]\n",
    "    return efficiency_results"
   ]
  },
  {
   "cell_type": "code",
   "execution_count": 4,
   "metadata": {},
   "outputs": [
    {
     "data": {
      "application/javascript": [
       "\n",
       "            setTimeout(function() {\n",
       "                var nbb_cell_id = 4;\n",
       "                var nbb_unformatted_code = \"def cal_AEE(iteration):\\n    results_df = load_pickle(iteration)\\n    results_df.loc[:, iteration] = (\\n        1 - (results_df.iloc[:, 0] + results_df.iloc[:, 1]) / 2\\n    )\\n    contribute_GWP = (1 - results_df.iloc[:, 0]) / 2\\n    contribute_PM = (1 - results_df.iloc[:, 1]) / 2\\n    return results_df.loc[:, [iteration]], contribute_GWP, contribute_PM\";\n",
       "                var nbb_formatted_code = \"def cal_AEE(iteration):\\n    results_df = load_pickle(iteration)\\n    results_df.loc[:, iteration] = (\\n        1 - (results_df.iloc[:, 0] + results_df.iloc[:, 1]) / 2\\n    )\\n    contribute_GWP = (1 - results_df.iloc[:, 0]) / 2\\n    contribute_PM = (1 - results_df.iloc[:, 1]) / 2\\n    return results_df.loc[:, [iteration]], contribute_GWP, contribute_PM\";\n",
       "                var nbb_cells = Jupyter.notebook.get_cells();\n",
       "                for (var i = 0; i < nbb_cells.length; ++i) {\n",
       "                    if (nbb_cells[i].input_prompt_number == nbb_cell_id) {\n",
       "                        if (nbb_cells[i].get_text() == nbb_unformatted_code) {\n",
       "                             nbb_cells[i].set_text(nbb_formatted_code);\n",
       "                        }\n",
       "                        break;\n",
       "                    }\n",
       "                }\n",
       "            }, 500);\n",
       "            "
      ],
      "text/plain": [
       "<IPython.core.display.Javascript object>"
      ]
     },
     "metadata": {},
     "output_type": "display_data"
    }
   ],
   "source": [
    "def cal_AEE(iteration):\n",
    "    results_df = load_pickle(iteration)\n",
    "    results_df.loc[:, iteration] = (\n",
    "        1 - (results_df.iloc[:, 0] + results_df.iloc[:, 1]) / 2\n",
    "    )\n",
    "    contribute_GWP = (1 - results_df.iloc[:, 0]) / 2\n",
    "    contribute_PM = (1 - results_df.iloc[:, 1]) / 2\n",
    "    return results_df.loc[:, [iteration]], contribute_GWP, contribute_PM"
   ]
  },
  {
   "cell_type": "code",
   "execution_count": 5,
   "metadata": {},
   "outputs": [
    {
     "data": {
      "application/javascript": [
       "\n",
       "            setTimeout(function() {\n",
       "                var nbb_cell_id = 5;\n",
       "                var nbb_unformatted_code = \"def concat_df(iteration, DMU_columns=[\\\"City name\\\", \\\"year\\\"]):\\n    AEE_ls = []\\n    AEE_ls_GWP = []\\n    AEE_ls_PM = []\\n    for iteration in range(iteration):\\n        eff_total, eff_GWP, eff_PM = cal_AEE(iteration)\\n        AEE_ls.append(eff_total)\\n        AEE_ls_GWP.append(eff_GWP)\\n        AEE_ls_PM.append(eff_PM)\\n    AEE_df = pd.concat(AEE_ls, axis=1)\\n    AEE_df_GWP = pd.concat(AEE_ls_GWP, axis=1)\\n    AEE_df_PM = pd.concat(AEE_ls_PM, axis=1)\\n    DMU_df = load_pickle(0, columns=DMU_columns)\\n    DMU_cluster = pd.DataFrame(\\n        [\\n            \\\"Central\\\",\\n            \\\"Eastern\\\",\\n            \\\"Western\\\",\\n            \\\"Eastern\\\",\\n            \\\"Western\\\",\\n            \\\"Eastern\\\",\\n            \\\"Western\\\",\\n            \\\"Western\\\",\\n            \\\"Eastern\\\",\\n            \\\"Eastern\\\",\\n            \\\"Central\\\",\\n            \\\"Central\\\",\\n            \\\"Central\\\",\\n            \\\"Central\\\",\\n            \\\"Western\\\",\\n            \\\"Eastern\\\",\\n            \\\"Central\\\",\\n            \\\"Central\\\",\\n            \\\"Eastern\\\",\\n            \\\"Western\\\",\\n            \\\"Western\\\",\\n            \\\"Western\\\",\\n            \\\"Eastern\\\",\\n            \\\"Eastern\\\",\\n            \\\"Central\\\",\\n            \\\"Western\\\",\\n            \\\"Eastern\\\",\\n            \\\"Western\\\",\\n            \\\"Western\\\",\\n            \\\"Eastern\\\",\\n        ]\\n        * 5,\\n        columns=[\\\"region\\\"],\\n    )\\n    DMU_AEE_df = pd.concat([DMU_cluster, DMU_df, AEE_df], axis=1)\\n    DMU_AEE_df_GWP = pd.concat([DMU_cluster, DMU_df, AEE_df_GWP], axis=1)\\n    DMU_AEE_df_PM = pd.concat([DMU_cluster, DMU_df, AEE_df_PM], axis=1)\\n    return DMU_AEE_df, DMU_AEE_df_GWP, DMU_AEE_df_PM\";\n",
       "                var nbb_formatted_code = \"def concat_df(iteration, DMU_columns=[\\\"City name\\\", \\\"year\\\"]):\\n    AEE_ls = []\\n    AEE_ls_GWP = []\\n    AEE_ls_PM = []\\n    for iteration in range(iteration):\\n        eff_total, eff_GWP, eff_PM = cal_AEE(iteration)\\n        AEE_ls.append(eff_total)\\n        AEE_ls_GWP.append(eff_GWP)\\n        AEE_ls_PM.append(eff_PM)\\n    AEE_df = pd.concat(AEE_ls, axis=1)\\n    AEE_df_GWP = pd.concat(AEE_ls_GWP, axis=1)\\n    AEE_df_PM = pd.concat(AEE_ls_PM, axis=1)\\n    DMU_df = load_pickle(0, columns=DMU_columns)\\n    DMU_cluster = pd.DataFrame(\\n        [\\n            \\\"Central\\\",\\n            \\\"Eastern\\\",\\n            \\\"Western\\\",\\n            \\\"Eastern\\\",\\n            \\\"Western\\\",\\n            \\\"Eastern\\\",\\n            \\\"Western\\\",\\n            \\\"Western\\\",\\n            \\\"Eastern\\\",\\n            \\\"Eastern\\\",\\n            \\\"Central\\\",\\n            \\\"Central\\\",\\n            \\\"Central\\\",\\n            \\\"Central\\\",\\n            \\\"Western\\\",\\n            \\\"Eastern\\\",\\n            \\\"Central\\\",\\n            \\\"Central\\\",\\n            \\\"Eastern\\\",\\n            \\\"Western\\\",\\n            \\\"Western\\\",\\n            \\\"Western\\\",\\n            \\\"Eastern\\\",\\n            \\\"Eastern\\\",\\n            \\\"Central\\\",\\n            \\\"Western\\\",\\n            \\\"Eastern\\\",\\n            \\\"Western\\\",\\n            \\\"Western\\\",\\n            \\\"Eastern\\\",\\n        ]\\n        * 5,\\n        columns=[\\\"region\\\"],\\n    )\\n    DMU_AEE_df = pd.concat([DMU_cluster, DMU_df, AEE_df], axis=1)\\n    DMU_AEE_df_GWP = pd.concat([DMU_cluster, DMU_df, AEE_df_GWP], axis=1)\\n    DMU_AEE_df_PM = pd.concat([DMU_cluster, DMU_df, AEE_df_PM], axis=1)\\n    return DMU_AEE_df, DMU_AEE_df_GWP, DMU_AEE_df_PM\";\n",
       "                var nbb_cells = Jupyter.notebook.get_cells();\n",
       "                for (var i = 0; i < nbb_cells.length; ++i) {\n",
       "                    if (nbb_cells[i].input_prompt_number == nbb_cell_id) {\n",
       "                        if (nbb_cells[i].get_text() == nbb_unformatted_code) {\n",
       "                             nbb_cells[i].set_text(nbb_formatted_code);\n",
       "                        }\n",
       "                        break;\n",
       "                    }\n",
       "                }\n",
       "            }, 500);\n",
       "            "
      ],
      "text/plain": [
       "<IPython.core.display.Javascript object>"
      ]
     },
     "metadata": {},
     "output_type": "display_data"
    }
   ],
   "source": [
    "def concat_df(iteration, DMU_columns=[\"City name\", \"year\"]):\n",
    "    AEE_ls = []\n",
    "    AEE_ls_GWP = []\n",
    "    AEE_ls_PM = []\n",
    "    for iteration in range(iteration):\n",
    "        eff_total, eff_GWP, eff_PM = cal_AEE(iteration)\n",
    "        AEE_ls.append(eff_total)\n",
    "        AEE_ls_GWP.append(eff_GWP)\n",
    "        AEE_ls_PM.append(eff_PM)\n",
    "    AEE_df = pd.concat(AEE_ls, axis=1)\n",
    "    AEE_df_GWP = pd.concat(AEE_ls_GWP, axis=1)\n",
    "    AEE_df_PM = pd.concat(AEE_ls_PM, axis=1)\n",
    "    DMU_df = load_pickle(0, columns=DMU_columns)\n",
    "    DMU_cluster = pd.DataFrame(\n",
    "        [\n",
    "            \"Central\",\n",
    "            \"Eastern\",\n",
    "            \"Western\",\n",
    "            \"Eastern\",\n",
    "            \"Western\",\n",
    "            \"Eastern\",\n",
    "            \"Western\",\n",
    "            \"Western\",\n",
    "            \"Eastern\",\n",
    "            \"Eastern\",\n",
    "            \"Central\",\n",
    "            \"Central\",\n",
    "            \"Central\",\n",
    "            \"Central\",\n",
    "            \"Western\",\n",
    "            \"Eastern\",\n",
    "            \"Central\",\n",
    "            \"Central\",\n",
    "            \"Eastern\",\n",
    "            \"Western\",\n",
    "            \"Western\",\n",
    "            \"Western\",\n",
    "            \"Eastern\",\n",
    "            \"Eastern\",\n",
    "            \"Central\",\n",
    "            \"Western\",\n",
    "            \"Eastern\",\n",
    "            \"Western\",\n",
    "            \"Western\",\n",
    "            \"Eastern\",\n",
    "        ]\n",
    "        * 5,\n",
    "        columns=[\"region\"],\n",
    "    )\n",
    "    DMU_AEE_df = pd.concat([DMU_cluster, DMU_df, AEE_df], axis=1)\n",
    "    DMU_AEE_df_GWP = pd.concat([DMU_cluster, DMU_df, AEE_df_GWP], axis=1)\n",
    "    DMU_AEE_df_PM = pd.concat([DMU_cluster, DMU_df, AEE_df_PM], axis=1)\n",
    "    return DMU_AEE_df, DMU_AEE_df_GWP, DMU_AEE_df_PM"
   ]
  },
  {
   "cell_type": "code",
   "execution_count": 6,
   "metadata": {},
   "outputs": [
    {
     "data": {
      "application/javascript": [
       "\n",
       "            setTimeout(function() {\n",
       "                var nbb_cell_id = 6;\n",
       "                var nbb_unformatted_code = \"iteration = 1000\";\n",
       "                var nbb_formatted_code = \"iteration = 1000\";\n",
       "                var nbb_cells = Jupyter.notebook.get_cells();\n",
       "                for (var i = 0; i < nbb_cells.length; ++i) {\n",
       "                    if (nbb_cells[i].input_prompt_number == nbb_cell_id) {\n",
       "                        if (nbb_cells[i].get_text() == nbb_unformatted_code) {\n",
       "                             nbb_cells[i].set_text(nbb_formatted_code);\n",
       "                        }\n",
       "                        break;\n",
       "                    }\n",
       "                }\n",
       "            }, 500);\n",
       "            "
      ],
      "text/plain": [
       "<IPython.core.display.Javascript object>"
      ]
     },
     "metadata": {},
     "output_type": "display_data"
    }
   ],
   "source": [
    "iteration = 1000"
   ]
  },
  {
   "cell_type": "code",
   "execution_count": 7,
   "metadata": {},
   "outputs": [
    {
     "name": "stdout",
     "output_type": "stream",
     "text": [
      "Wall time: 17.2 s\n"
     ]
    },
    {
     "data": {
      "application/javascript": [
       "\n",
       "            setTimeout(function() {\n",
       "                var nbb_cell_id = 7;\n",
       "                var nbb_unformatted_code = \"%%time\\nAEE_df, AEE_df_GWP, AEE_df_PM = concat_df(iteration)\";\n",
       "                var nbb_formatted_code = \"%%time\\nAEE_df, AEE_df_GWP, AEE_df_PM = concat_df(iteration)\";\n",
       "                var nbb_cells = Jupyter.notebook.get_cells();\n",
       "                for (var i = 0; i < nbb_cells.length; ++i) {\n",
       "                    if (nbb_cells[i].input_prompt_number == nbb_cell_id) {\n",
       "                        if (nbb_cells[i].get_text() == nbb_unformatted_code) {\n",
       "                             nbb_cells[i].set_text(nbb_formatted_code);\n",
       "                        }\n",
       "                        break;\n",
       "                    }\n",
       "                }\n",
       "            }, 500);\n",
       "            "
      ],
      "text/plain": [
       "<IPython.core.display.Javascript object>"
      ]
     },
     "metadata": {},
     "output_type": "display_data"
    }
   ],
   "source": [
    "%%time\n",
    "AEE_df, AEE_df_GWP, AEE_df_PM = concat_df(iteration)"
   ]
  },
  {
   "cell_type": "code",
   "execution_count": 8,
   "metadata": {},
   "outputs": [
    {
     "data": {
      "application/javascript": [
       "\n",
       "            setTimeout(function() {\n",
       "                var nbb_cell_id = 8;\n",
       "                var nbb_unformatted_code = \"AEE_df_sort = AEE_df.sort_values([\\\"year\\\", \\\"region\\\"])\";\n",
       "                var nbb_formatted_code = \"AEE_df_sort = AEE_df.sort_values([\\\"year\\\", \\\"region\\\"])\";\n",
       "                var nbb_cells = Jupyter.notebook.get_cells();\n",
       "                for (var i = 0; i < nbb_cells.length; ++i) {\n",
       "                    if (nbb_cells[i].input_prompt_number == nbb_cell_id) {\n",
       "                        if (nbb_cells[i].get_text() == nbb_unformatted_code) {\n",
       "                             nbb_cells[i].set_text(nbb_formatted_code);\n",
       "                        }\n",
       "                        break;\n",
       "                    }\n",
       "                }\n",
       "            }, 500);\n",
       "            "
      ],
      "text/plain": [
       "<IPython.core.display.Javascript object>"
      ]
     },
     "metadata": {},
     "output_type": "display_data"
    }
   ],
   "source": [
    "AEE_df_sort = AEE_df.sort_values([\"year\", \"region\"])"
   ]
  },
  {
   "cell_type": "code",
   "execution_count": 9,
   "metadata": {},
   "outputs": [
    {
     "data": {
      "text/html": [
       "<div>\n",
       "<style scoped>\n",
       "    .dataframe tbody tr th:only-of-type {\n",
       "        vertical-align: middle;\n",
       "    }\n",
       "\n",
       "    .dataframe tbody tr th {\n",
       "        vertical-align: top;\n",
       "    }\n",
       "\n",
       "    .dataframe thead th {\n",
       "        text-align: right;\n",
       "    }\n",
       "</style>\n",
       "<table border=\"1\" class=\"dataframe\">\n",
       "  <thead>\n",
       "    <tr style=\"text-align: right;\">\n",
       "      <th></th>\n",
       "      <th>region</th>\n",
       "      <th>City name</th>\n",
       "      <th>year</th>\n",
       "      <th>0</th>\n",
       "      <th>1</th>\n",
       "      <th>2</th>\n",
       "      <th>3</th>\n",
       "      <th>4</th>\n",
       "      <th>5</th>\n",
       "      <th>6</th>\n",
       "      <th>...</th>\n",
       "      <th>990</th>\n",
       "      <th>991</th>\n",
       "      <th>992</th>\n",
       "      <th>993</th>\n",
       "      <th>994</th>\n",
       "      <th>995</th>\n",
       "      <th>996</th>\n",
       "      <th>997</th>\n",
       "      <th>998</th>\n",
       "      <th>999</th>\n",
       "    </tr>\n",
       "  </thead>\n",
       "  <tbody>\n",
       "    <tr>\n",
       "      <th>23</th>\n",
       "      <td>Eastern</td>\n",
       "      <td>Shanghai</td>\n",
       "      <td>2013</td>\n",
       "      <td>1.00000</td>\n",
       "      <td>1.0000</td>\n",
       "      <td>1.00000</td>\n",
       "      <td>1.00000</td>\n",
       "      <td>1.00000</td>\n",
       "      <td>1.00000</td>\n",
       "      <td>1.00000</td>\n",
       "      <td>...</td>\n",
       "      <td>1.00000</td>\n",
       "      <td>1.00000</td>\n",
       "      <td>1.00000</td>\n",
       "      <td>1.00000</td>\n",
       "      <td>1.00000</td>\n",
       "      <td>1.00000</td>\n",
       "      <td>1.00000</td>\n",
       "      <td>1.00000</td>\n",
       "      <td>1.0000</td>\n",
       "      <td>1.00000</td>\n",
       "    </tr>\n",
       "    <tr>\n",
       "      <th>53</th>\n",
       "      <td>Eastern</td>\n",
       "      <td>Shanghai</td>\n",
       "      <td>2014</td>\n",
       "      <td>0.85365</td>\n",
       "      <td>1.0000</td>\n",
       "      <td>1.00000</td>\n",
       "      <td>1.00000</td>\n",
       "      <td>1.00000</td>\n",
       "      <td>1.00000</td>\n",
       "      <td>1.00000</td>\n",
       "      <td>...</td>\n",
       "      <td>1.00000</td>\n",
       "      <td>1.00000</td>\n",
       "      <td>1.00000</td>\n",
       "      <td>0.76115</td>\n",
       "      <td>1.00000</td>\n",
       "      <td>0.72620</td>\n",
       "      <td>0.77795</td>\n",
       "      <td>0.76515</td>\n",
       "      <td>1.0000</td>\n",
       "      <td>1.00000</td>\n",
       "    </tr>\n",
       "    <tr>\n",
       "      <th>83</th>\n",
       "      <td>Eastern</td>\n",
       "      <td>Shanghai</td>\n",
       "      <td>2015</td>\n",
       "      <td>0.51695</td>\n",
       "      <td>0.5151</td>\n",
       "      <td>0.57235</td>\n",
       "      <td>0.57735</td>\n",
       "      <td>0.59140</td>\n",
       "      <td>0.49355</td>\n",
       "      <td>0.47455</td>\n",
       "      <td>...</td>\n",
       "      <td>0.46130</td>\n",
       "      <td>0.56835</td>\n",
       "      <td>0.45455</td>\n",
       "      <td>0.44935</td>\n",
       "      <td>0.41610</td>\n",
       "      <td>0.45770</td>\n",
       "      <td>0.42230</td>\n",
       "      <td>0.44440</td>\n",
       "      <td>0.5014</td>\n",
       "      <td>0.50360</td>\n",
       "    </tr>\n",
       "    <tr>\n",
       "      <th>113</th>\n",
       "      <td>Eastern</td>\n",
       "      <td>Shanghai</td>\n",
       "      <td>2016</td>\n",
       "      <td>0.21370</td>\n",
       "      <td>0.2089</td>\n",
       "      <td>0.21200</td>\n",
       "      <td>0.20950</td>\n",
       "      <td>0.22755</td>\n",
       "      <td>0.20490</td>\n",
       "      <td>0.21635</td>\n",
       "      <td>...</td>\n",
       "      <td>0.23800</td>\n",
       "      <td>0.23945</td>\n",
       "      <td>0.17420</td>\n",
       "      <td>0.17880</td>\n",
       "      <td>0.25990</td>\n",
       "      <td>0.19340</td>\n",
       "      <td>0.22085</td>\n",
       "      <td>0.21310</td>\n",
       "      <td>0.1946</td>\n",
       "      <td>0.21965</td>\n",
       "    </tr>\n",
       "    <tr>\n",
       "      <th>143</th>\n",
       "      <td>Eastern</td>\n",
       "      <td>Shanghai</td>\n",
       "      <td>2017</td>\n",
       "      <td>0.22390</td>\n",
       "      <td>0.1943</td>\n",
       "      <td>0.20165</td>\n",
       "      <td>0.26590</td>\n",
       "      <td>0.24415</td>\n",
       "      <td>0.17365</td>\n",
       "      <td>0.20880</td>\n",
       "      <td>...</td>\n",
       "      <td>0.18255</td>\n",
       "      <td>0.22400</td>\n",
       "      <td>0.16975</td>\n",
       "      <td>0.17130</td>\n",
       "      <td>0.20755</td>\n",
       "      <td>0.18955</td>\n",
       "      <td>0.18050</td>\n",
       "      <td>0.20285</td>\n",
       "      <td>0.2196</td>\n",
       "      <td>0.18170</td>\n",
       "    </tr>\n",
       "  </tbody>\n",
       "</table>\n",
       "<p>5 rows × 1003 columns</p>\n",
       "</div>"
      ],
      "text/plain": [
       "      region City name  year        0       1        2        3        4  \\\n",
       "23   Eastern  Shanghai  2013  1.00000  1.0000  1.00000  1.00000  1.00000   \n",
       "53   Eastern  Shanghai  2014  0.85365  1.0000  1.00000  1.00000  1.00000   \n",
       "83   Eastern  Shanghai  2015  0.51695  0.5151  0.57235  0.57735  0.59140   \n",
       "113  Eastern  Shanghai  2016  0.21370  0.2089  0.21200  0.20950  0.22755   \n",
       "143  Eastern  Shanghai  2017  0.22390  0.1943  0.20165  0.26590  0.24415   \n",
       "\n",
       "           5        6  ...      990      991      992      993      994  \\\n",
       "23   1.00000  1.00000  ...  1.00000  1.00000  1.00000  1.00000  1.00000   \n",
       "53   1.00000  1.00000  ...  1.00000  1.00000  1.00000  0.76115  1.00000   \n",
       "83   0.49355  0.47455  ...  0.46130  0.56835  0.45455  0.44935  0.41610   \n",
       "113  0.20490  0.21635  ...  0.23800  0.23945  0.17420  0.17880  0.25990   \n",
       "143  0.17365  0.20880  ...  0.18255  0.22400  0.16975  0.17130  0.20755   \n",
       "\n",
       "         995      996      997     998      999  \n",
       "23   1.00000  1.00000  1.00000  1.0000  1.00000  \n",
       "53   0.72620  0.77795  0.76515  1.0000  1.00000  \n",
       "83   0.45770  0.42230  0.44440  0.5014  0.50360  \n",
       "113  0.19340  0.22085  0.21310  0.1946  0.21965  \n",
       "143  0.18955  0.18050  0.20285  0.2196  0.18170  \n",
       "\n",
       "[5 rows x 1003 columns]"
      ]
     },
     "execution_count": 9,
     "metadata": {},
     "output_type": "execute_result"
    },
    {
     "data": {
      "application/javascript": [
       "\n",
       "            setTimeout(function() {\n",
       "                var nbb_cell_id = 9;\n",
       "                var nbb_unformatted_code = \"AEE_df_sort[AEE_df_sort[\\\"City name\\\"].str.contains(\\\"Shanghai\\\")]\";\n",
       "                var nbb_formatted_code = \"AEE_df_sort[AEE_df_sort[\\\"City name\\\"].str.contains(\\\"Shanghai\\\")]\";\n",
       "                var nbb_cells = Jupyter.notebook.get_cells();\n",
       "                for (var i = 0; i < nbb_cells.length; ++i) {\n",
       "                    if (nbb_cells[i].input_prompt_number == nbb_cell_id) {\n",
       "                        if (nbb_cells[i].get_text() == nbb_unformatted_code) {\n",
       "                             nbb_cells[i].set_text(nbb_formatted_code);\n",
       "                        }\n",
       "                        break;\n",
       "                    }\n",
       "                }\n",
       "            }, 500);\n",
       "            "
      ],
      "text/plain": [
       "<IPython.core.display.Javascript object>"
      ]
     },
     "metadata": {},
     "output_type": "display_data"
    }
   ],
   "source": [
    "AEE_df_sort[AEE_df_sort[\"City name\"].str.contains(\"Shanghai\")]"
   ]
  },
  {
   "cell_type": "code",
   "execution_count": 10,
   "metadata": {},
   "outputs": [
    {
     "data": {
      "application/javascript": [
       "\n",
       "            setTimeout(function() {\n",
       "                var nbb_cell_id = 10;\n",
       "                var nbb_unformatted_code = \"def boxp_data(data, year):\\n    data_slice = list(range(0, 151, 30))\\n    start = data_slice[year - 2013]\\n    end = data_slice[year - 2012]\\n    plot_data = np.array(data.iloc[start:end, 3:])\\n    return plot_data\";\n",
       "                var nbb_formatted_code = \"def boxp_data(data, year):\\n    data_slice = list(range(0, 151, 30))\\n    start = data_slice[year - 2013]\\n    end = data_slice[year - 2012]\\n    plot_data = np.array(data.iloc[start:end, 3:])\\n    return plot_data\";\n",
       "                var nbb_cells = Jupyter.notebook.get_cells();\n",
       "                for (var i = 0; i < nbb_cells.length; ++i) {\n",
       "                    if (nbb_cells[i].input_prompt_number == nbb_cell_id) {\n",
       "                        if (nbb_cells[i].get_text() == nbb_unformatted_code) {\n",
       "                             nbb_cells[i].set_text(nbb_formatted_code);\n",
       "                        }\n",
       "                        break;\n",
       "                    }\n",
       "                }\n",
       "            }, 500);\n",
       "            "
      ],
      "text/plain": [
       "<IPython.core.display.Javascript object>"
      ]
     },
     "metadata": {},
     "output_type": "display_data"
    }
   ],
   "source": [
    "def boxp_data(data, year):\n",
    "    data_slice = list(range(0, 151, 30))\n",
    "    start = data_slice[year - 2013]\n",
    "    end = data_slice[year - 2012]\n",
    "    plot_data = np.array(data.iloc[start:end, 3:])\n",
    "    return plot_data"
   ]
  },
  {
   "cell_type": "code",
   "execution_count": 11,
   "metadata": {},
   "outputs": [
    {
     "data": {
      "application/javascript": [
       "\n",
       "            setTimeout(function() {\n",
       "                var nbb_cell_id = 11;\n",
       "                var nbb_unformatted_code = \"def boxplot(data, color, pos):\\n    boxp = ax.boxplot(\\n        data,\\n        showfliers=False,\\n        widths=0.15,\\n        whis=[5, 95],\\n        patch_artist=True,\\n        vert=True,\\n        positions=pos,\\n    )\\n    for patch in boxp[\\\"boxes\\\"]:\\n        patch.set(facecolor=color, alpha=0.5)\\n    return boxplot\";\n",
       "                var nbb_formatted_code = \"def boxplot(data, color, pos):\\n    boxp = ax.boxplot(\\n        data,\\n        showfliers=False,\\n        widths=0.15,\\n        whis=[5, 95],\\n        patch_artist=True,\\n        vert=True,\\n        positions=pos,\\n    )\\n    for patch in boxp[\\\"boxes\\\"]:\\n        patch.set(facecolor=color, alpha=0.5)\\n    return boxplot\";\n",
       "                var nbb_cells = Jupyter.notebook.get_cells();\n",
       "                for (var i = 0; i < nbb_cells.length; ++i) {\n",
       "                    if (nbb_cells[i].input_prompt_number == nbb_cell_id) {\n",
       "                        if (nbb_cells[i].get_text() == nbb_unformatted_code) {\n",
       "                             nbb_cells[i].set_text(nbb_formatted_code);\n",
       "                        }\n",
       "                        break;\n",
       "                    }\n",
       "                }\n",
       "            }, 500);\n",
       "            "
      ],
      "text/plain": [
       "<IPython.core.display.Javascript object>"
      ]
     },
     "metadata": {},
     "output_type": "display_data"
    }
   ],
   "source": [
    "def boxplot(data, color, pos):\n",
    "    boxp = ax.boxplot(\n",
    "        data,\n",
    "        showfliers=False,\n",
    "        widths=0.15,\n",
    "        whis=[5, 95],\n",
    "        patch_artist=True,\n",
    "        vert=True,\n",
    "        positions=pos,\n",
    "    )\n",
    "    for patch in boxp[\"boxes\"]:\n",
    "        patch.set(facecolor=color, alpha=0.5)\n",
    "    return boxplot"
   ]
  },
  {
   "cell_type": "code",
   "execution_count": 12,
   "metadata": {},
   "outputs": [
    {
     "data": {
      "image/png": "[encoded data removed]",
      "text/plain": [
       "<Figure size 1440x576 with 1 Axes>"
      ]
     },
     "metadata": {
      "needs_background": "light"
     },
     "output_type": "display_data"
    },
    {
     "data": {
      "application/javascript": [
       "\n",
       "            setTimeout(function() {\n",
       "                var nbb_cell_id = 12;\n",
       "                var nbb_unformatted_code = \"fig, ax = plt.subplots(figsize=(20, 8))\\nplt.yticks(fontname=\\\"Arial\\\", fontsize=18)\\nplt.xticks(fontname=\\\"Arial\\\", fontsize=18, rotation=90)\\nboxp2013 = boxplot(\\n    boxp_data(AEE_df_sort, 2013).T, \\\"lightblue\\\", [i - 0.4 for i in range(30)]\\n)\\nboxp2014 = boxplot(\\n    boxp_data(AEE_df_sort, 2014).T, \\\"orange\\\", pos=[i - 0.2 for i in range(30)]\\n)\\nboxp2015 = boxplot(\\n    boxp_data(AEE_df_sort, 2015).T, \\\"darkblue\\\", pos=[i for i in range(30)]\\n)\\nboxp2016 = boxplot(\\n    boxp_data(AEE_df_sort, 2016).T, \\\"lightgreen\\\", pos=[i + 0.2 for i in range(30)]\\n)\\nboxp2017 = boxplot(\\n    boxp_data(AEE_df_sort, 2017).T, \\\"tan\\\", pos=[i + 0.4 for i in range(30)]\\n)\\n\\n\\nax.xaxis.set_label_coords(-1, 1.02)\\nax.set_xticklabels(AEE_df_sort.loc[:, \\\"City name\\\"][:30], ha=\\\"left\\\")\\n\\nplt.savefig(\\n    r\\\"E:\\\\tencent files\\\\chrome Download\\\\Research\\\\DEA\\\\DEA_transport\\\\Graphs\\\\efficiency.png\\\",\\n    transparent=True,\\n    dpi=600,\\n    bbox_inches=\\\"tight\\\",\\n)\";\n",
       "                var nbb_formatted_code = \"fig, ax = plt.subplots(figsize=(20, 8))\\nplt.yticks(fontname=\\\"Arial\\\", fontsize=18)\\nplt.xticks(fontname=\\\"Arial\\\", fontsize=18, rotation=90)\\nboxp2013 = boxplot(\\n    boxp_data(AEE_df_sort, 2013).T, \\\"lightblue\\\", [i - 0.4 for i in range(30)]\\n)\\nboxp2014 = boxplot(\\n    boxp_data(AEE_df_sort, 2014).T, \\\"orange\\\", pos=[i - 0.2 for i in range(30)]\\n)\\nboxp2015 = boxplot(\\n    boxp_data(AEE_df_sort, 2015).T, \\\"darkblue\\\", pos=[i for i in range(30)]\\n)\\nboxp2016 = boxplot(\\n    boxp_data(AEE_df_sort, 2016).T, \\\"lightgreen\\\", pos=[i + 0.2 for i in range(30)]\\n)\\nboxp2017 = boxplot(\\n    boxp_data(AEE_df_sort, 2017).T, \\\"tan\\\", pos=[i + 0.4 for i in range(30)]\\n)\\n\\n\\nax.xaxis.set_label_coords(-1, 1.02)\\nax.set_xticklabels(AEE_df_sort.loc[:, \\\"City name\\\"][:30], ha=\\\"left\\\")\\n\\nplt.savefig(\\n    r\\\"E:\\\\tencent files\\\\chrome Download\\\\Research\\\\DEA\\\\DEA_transport\\\\Graphs\\\\efficiency.png\\\",\\n    transparent=True,\\n    dpi=600,\\n    bbox_inches=\\\"tight\\\",\\n)\";\n",
       "                var nbb_cells = Jupyter.notebook.get_cells();\n",
       "                for (var i = 0; i < nbb_cells.length; ++i) {\n",
       "                    if (nbb_cells[i].input_prompt_number == nbb_cell_id) {\n",
       "                        if (nbb_cells[i].get_text() == nbb_unformatted_code) {\n",
       "                             nbb_cells[i].set_text(nbb_formatted_code);\n",
       "                        }\n",
       "                        break;\n",
       "                    }\n",
       "                }\n",
       "            }, 500);\n",
       "            "
      ],
      "text/plain": [
       "<IPython.core.display.Javascript object>"
      ]
     },
     "metadata": {},
     "output_type": "display_data"
    }
   ],
   "source": [
    "fig, ax = plt.subplots(figsize=(20, 8))\n",
    "plt.yticks(fontname=\"Arial\", fontsize=18)\n",
    "plt.xticks(fontname=\"Arial\", fontsize=18, rotation=90)\n",
    "boxp2013 = boxplot(\n",
    "    boxp_data(AEE_df_sort, 2013).T, \"lightblue\", [i - 0.4 for i in range(30)]\n",
    ")\n",
    "boxp2014 = boxplot(\n",
    "    boxp_data(AEE_df_sort, 2014).T, \"orange\", pos=[i - 0.2 for i in range(30)]\n",
    ")\n",
    "boxp2015 = boxplot(\n",
    "    boxp_data(AEE_df_sort, 2015).T, \"darkblue\", pos=[i for i in range(30)]\n",
    ")\n",
    "boxp2016 = boxplot(\n",
    "    boxp_data(AEE_df_sort, 2016).T, \"lightgreen\", pos=[i + 0.2 for i in range(30)]\n",
    ")\n",
    "boxp2017 = boxplot(\n",
    "    boxp_data(AEE_df_sort, 2017).T, \"tan\", pos=[i + 0.4 for i in range(30)]\n",
    ")\n",
    "\n",
    "\n",
    "ax.xaxis.set_label_coords(-1, 1.02)\n",
    "ax.set_xticklabels(AEE_df_sort.loc[:, \"City name\"][:30], ha=\"left\")\n",
    "\n",
    "plt.savefig(\n",
    "    r\"E:\\tencent files\\chrome Download\\Research\\DEA\\DEA_transport\\Graphs\\efficiency.png\",\n",
    "    transparent=True,\n",
    "    dpi=600,\n",
    "    bbox_inches=\"tight\",\n",
    ")"
   ]
  },
  {
   "cell_type": "code",
   "execution_count": 13,
   "metadata": {},
   "outputs": [
    {
     "data": {
      "application/javascript": [
       "\n",
       "            setTimeout(function() {\n",
       "                var nbb_cell_id = 13;\n",
       "                var nbb_unformatted_code = \"def yearly_average(data, year):\\n    year_data = boxp_data(data, year)\\n    average = np.average(year_data)\\n    return average\";\n",
       "                var nbb_formatted_code = \"def yearly_average(data, year):\\n    year_data = boxp_data(data, year)\\n    average = np.average(year_data)\\n    return average\";\n",
       "                var nbb_cells = Jupyter.notebook.get_cells();\n",
       "                for (var i = 0; i < nbb_cells.length; ++i) {\n",
       "                    if (nbb_cells[i].input_prompt_number == nbb_cell_id) {\n",
       "                        if (nbb_cells[i].get_text() == nbb_unformatted_code) {\n",
       "                             nbb_cells[i].set_text(nbb_formatted_code);\n",
       "                        }\n",
       "                        break;\n",
       "                    }\n",
       "                }\n",
       "            }, 500);\n",
       "            "
      ],
      "text/plain": [
       "<IPython.core.display.Javascript object>"
      ]
     },
     "metadata": {},
     "output_type": "display_data"
    }
   ],
   "source": [
    "def yearly_average(data, year):\n",
    "    year_data = boxp_data(data, year)\n",
    "    average = np.average(year_data)\n",
    "    return average"
   ]
  },
  {
   "cell_type": "code",
   "execution_count": 14,
   "metadata": {},
   "outputs": [
    {
     "data": {
      "application/javascript": [
       "\n",
       "            setTimeout(function() {\n",
       "                var nbb_cell_id = 14;\n",
       "                var nbb_unformatted_code = \"def region_year(data, year, region):\\n    region_data = data.loc[data[\\\"region\\\"] == region]\\n    year_region_data = region_data.loc[data[\\\"year\\\"] == year]\\n    return year_region_data\";\n",
       "                var nbb_formatted_code = \"def region_year(data, year, region):\\n    region_data = data.loc[data[\\\"region\\\"] == region]\\n    year_region_data = region_data.loc[data[\\\"year\\\"] == year]\\n    return year_region_data\";\n",
       "                var nbb_cells = Jupyter.notebook.get_cells();\n",
       "                for (var i = 0; i < nbb_cells.length; ++i) {\n",
       "                    if (nbb_cells[i].input_prompt_number == nbb_cell_id) {\n",
       "                        if (nbb_cells[i].get_text() == nbb_unformatted_code) {\n",
       "                             nbb_cells[i].set_text(nbb_formatted_code);\n",
       "                        }\n",
       "                        break;\n",
       "                    }\n",
       "                }\n",
       "            }, 500);\n",
       "            "
      ],
      "text/plain": [
       "<IPython.core.display.Javascript object>"
      ]
     },
     "metadata": {},
     "output_type": "display_data"
    }
   ],
   "source": [
    "def region_year(data, year, region):\n",
    "    region_data = data.loc[data[\"region\"] == region]\n",
    "    year_region_data = region_data.loc[data[\"year\"] == year]\n",
    "    return year_region_data"
   ]
  },
  {
   "cell_type": "code",
   "execution_count": 15,
   "metadata": {},
   "outputs": [
    {
     "data": {
      "application/javascript": [
       "\n",
       "            setTimeout(function() {\n",
       "                var nbb_cell_id = 15;\n",
       "                var nbb_unformatted_code = \"def region_year_average(data, year, region):\\n    average_efficiency = np.average(\\n        np.array(region_year(data, year, region).iloc[:, 3:])\\n    )\\n    return average_efficiency\";\n",
       "                var nbb_formatted_code = \"def region_year_average(data, year, region):\\n    average_efficiency = np.average(\\n        np.array(region_year(data, year, region).iloc[:, 3:])\\n    )\\n    return average_efficiency\";\n",
       "                var nbb_cells = Jupyter.notebook.get_cells();\n",
       "                for (var i = 0; i < nbb_cells.length; ++i) {\n",
       "                    if (nbb_cells[i].input_prompt_number == nbb_cell_id) {\n",
       "                        if (nbb_cells[i].get_text() == nbb_unformatted_code) {\n",
       "                             nbb_cells[i].set_text(nbb_formatted_code);\n",
       "                        }\n",
       "                        break;\n",
       "                    }\n",
       "                }\n",
       "            }, 500);\n",
       "            "
      ],
      "text/plain": [
       "<IPython.core.display.Javascript object>"
      ]
     },
     "metadata": {},
     "output_type": "display_data"
    }
   ],
   "source": [
    "def region_year_average(data, year, region):\n",
    "    average_efficiency = np.average(\n",
    "        np.array(region_year(data, year, region).iloc[:, 3:])\n",
    "    )\n",
    "    return average_efficiency"
   ]
  },
  {
   "cell_type": "code",
   "execution_count": 16,
   "metadata": {},
   "outputs": [
    {
     "data": {
      "application/javascript": [
       "\n",
       "            setTimeout(function() {\n",
       "                var nbb_cell_id = 16;\n",
       "                var nbb_unformatted_code = \"def average_df(data, year_range=range(2013, 2018)):\\n    nation_average = [yearly_average(data, year) for year in year_range]\\n    east_average = [\\n        region_year_average(data, year, region=\\\"Eastern\\\") for year in year_range\\n    ]\\n    west_average = [\\n        region_year_average(data, year, region=\\\"Western\\\") for year in year_range\\n    ]\\n    central_average = [\\n        region_year_average(data, year, region=\\\"Central\\\") for year in year_range\\n    ]\\n    return pd.DataFrame(\\n        [nation_average, east_average, west_average, central_average],\\n        index=[\\\"Nation\\\", \\\"Eastern\\\", \\\"Western\\\", \\\"Central\\\"],\\n        columns=year_range,\\n    )\";\n",
       "                var nbb_formatted_code = \"def average_df(data, year_range=range(2013, 2018)):\\n    nation_average = [yearly_average(data, year) for year in year_range]\\n    east_average = [\\n        region_year_average(data, year, region=\\\"Eastern\\\") for year in year_range\\n    ]\\n    west_average = [\\n        region_year_average(data, year, region=\\\"Western\\\") for year in year_range\\n    ]\\n    central_average = [\\n        region_year_average(data, year, region=\\\"Central\\\") for year in year_range\\n    ]\\n    return pd.DataFrame(\\n        [nation_average, east_average, west_average, central_average],\\n        index=[\\\"Nation\\\", \\\"Eastern\\\", \\\"Western\\\", \\\"Central\\\"],\\n        columns=year_range,\\n    )\";\n",
       "                var nbb_cells = Jupyter.notebook.get_cells();\n",
       "                for (var i = 0; i < nbb_cells.length; ++i) {\n",
       "                    if (nbb_cells[i].input_prompt_number == nbb_cell_id) {\n",
       "                        if (nbb_cells[i].get_text() == nbb_unformatted_code) {\n",
       "                             nbb_cells[i].set_text(nbb_formatted_code);\n",
       "                        }\n",
       "                        break;\n",
       "                    }\n",
       "                }\n",
       "            }, 500);\n",
       "            "
      ],
      "text/plain": [
       "<IPython.core.display.Javascript object>"
      ]
     },
     "metadata": {},
     "output_type": "display_data"
    }
   ],
   "source": [
    "def average_df(data, year_range=range(2013, 2018)):\n",
    "    nation_average = [yearly_average(data, year) for year in year_range]\n",
    "    east_average = [\n",
    "        region_year_average(data, year, region=\"Eastern\") for year in year_range\n",
    "    ]\n",
    "    west_average = [\n",
    "        region_year_average(data, year, region=\"Western\") for year in year_range\n",
    "    ]\n",
    "    central_average = [\n",
    "        region_year_average(data, year, region=\"Central\") for year in year_range\n",
    "    ]\n",
    "    return pd.DataFrame(\n",
    "        [nation_average, east_average, west_average, central_average],\n",
    "        index=[\"Nation\", \"Eastern\", \"Western\", \"Central\"],\n",
    "        columns=year_range,\n",
    "    )"
   ]
  },
  {
   "cell_type": "code",
   "execution_count": 255,
   "metadata": {},
   "outputs": [
    {
     "data": {
      "image/png": "[encoded data removed]",
      "text/plain": [
       "<Figure size 432x288 with 1 Axes>"
      ]
     },
     "metadata": {
      "needs_background": "light"
     },
     "output_type": "display_data"
    },
    {
     "data": {
      "application/javascript": [
       "\n",
       "            setTimeout(function() {\n",
       "                var nbb_cell_id = 255;\n",
       "                var nbb_unformatted_code = \"fig, ax = plt.subplots()\\nplt.yticks(fontname=\\\"Arial\\\", fontsize=14)\\nplt.xticks(range(2013, 2018, 1), fontname=\\\"Arial\\\", fontsize=14)\\nplt.ylim(0.3, 0.95)\\n\\nsns.lineplot(\\n    data=average_df(AEE_df_sort).T,\\n    palette=\\\"colorblind\\\",\\n    linewidth=3,\\n    markers=True,\\n    markersize=13,\\n    ax=ax,\\n)\\nL = ax.legend(fontsize=13, frameon=False, markerscale=1.5,)\\nplt.setp(L.texts, family=\\\"Arial\\\")\\nplt.savefig(\\n    r\\\"E:\\\\tencent files\\\\chrome Download\\\\Research\\\\DEA\\\\DEA_transport\\\\Graphs\\\\region_efficiency.png\\\",\\n    transparent=True,\\n    dpi=600,\\n    bbox_inches=\\\"tight\\\",\\n)\";\n",
       "                var nbb_formatted_code = \"fig, ax = plt.subplots()\\nplt.yticks(fontname=\\\"Arial\\\", fontsize=14)\\nplt.xticks(range(2013, 2018, 1), fontname=\\\"Arial\\\", fontsize=14)\\nplt.ylim(0.3, 0.95)\\n\\nsns.lineplot(\\n    data=average_df(AEE_df_sort).T,\\n    palette=\\\"colorblind\\\",\\n    linewidth=3,\\n    markers=True,\\n    markersize=13,\\n    ax=ax,\\n)\\nL = ax.legend(fontsize=13, frameon=False, markerscale=1.5,)\\nplt.setp(L.texts, family=\\\"Arial\\\")\\nplt.savefig(\\n    r\\\"E:\\\\tencent files\\\\chrome Download\\\\Research\\\\DEA\\\\DEA_transport\\\\Graphs\\\\region_efficiency.png\\\",\\n    transparent=True,\\n    dpi=600,\\n    bbox_inches=\\\"tight\\\",\\n)\";\n",
       "                var nbb_cells = Jupyter.notebook.get_cells();\n",
       "                for (var i = 0; i < nbb_cells.length; ++i) {\n",
       "                    if (nbb_cells[i].input_prompt_number == nbb_cell_id) {\n",
       "                        if (nbb_cells[i].get_text() == nbb_unformatted_code) {\n",
       "                             nbb_cells[i].set_text(nbb_formatted_code);\n",
       "                        }\n",
       "                        break;\n",
       "                    }\n",
       "                }\n",
       "            }, 500);\n",
       "            "
      ],
      "text/plain": [
       "<IPython.core.display.Javascript object>"
      ]
     },
     "metadata": {},
     "output_type": "display_data"
    }
   ],
   "source": [
    "fig, ax = plt.subplots()\n",
    "plt.yticks(fontname=\"Arial\", fontsize=14)\n",
    "plt.xticks(range(2013, 2018, 1), fontname=\"Arial\", fontsize=14)\n",
    "plt.ylim(0.3, 0.95)\n",
    "\n",
    "sns.lineplot(\n",
    "    data=average_df(AEE_df_sort).T,\n",
    "    palette=\"colorblind\",\n",
    "    linewidth=3,\n",
    "    markers=True,\n",
    "    markersize=13,\n",
    "    ax=ax,\n",
    ")\n",
    "L = ax.legend(fontsize=13, frameon=False, markerscale=1.5,)\n",
    "plt.setp(L.texts, family=\"Arial\")\n",
    "plt.savefig(\n",
    "    r\"E:\\tencent files\\chrome Download\\Research\\DEA\\DEA_transport\\Graphs\\region_efficiency.png\",\n",
    "    transparent=True,\n",
    "    dpi=600,\n",
    "    bbox_inches=\"tight\",\n",
    ")"
   ]
  },
  {
   "cell_type": "code",
   "execution_count": 18,
   "metadata": {},
   "outputs": [
    {
     "data": {
      "application/javascript": [
       "\n",
       "            setTimeout(function() {\n",
       "                var nbb_cell_id = 18;\n",
       "                var nbb_unformatted_code = \"def contribution(GWP_data, PM_data, year_range=range(2013, 2018)):\\n    AEE_GWP_ave = [yearly_average(AEE_df_GWP, year) for year in year_range]\\n    AEE_PM_ave = [yearly_average(AEE_df_PM, year) for year in year_range]\\n    return pd.DataFrame(\\n        [AEE_GWP_ave, AEE_PM_ave], index=[\\\"GWP\\\", \\\"PM\\\"], columns=year_range\\n    )\";\n",
       "                var nbb_formatted_code = \"def contribution(GWP_data, PM_data, year_range=range(2013, 2018)):\\n    AEE_GWP_ave = [yearly_average(AEE_df_GWP, year) for year in year_range]\\n    AEE_PM_ave = [yearly_average(AEE_df_PM, year) for year in year_range]\\n    return pd.DataFrame(\\n        [AEE_GWP_ave, AEE_PM_ave], index=[\\\"GWP\\\", \\\"PM\\\"], columns=year_range\\n    )\";\n",
       "                var nbb_cells = Jupyter.notebook.get_cells();\n",
       "                for (var i = 0; i < nbb_cells.length; ++i) {\n",
       "                    if (nbb_cells[i].input_prompt_number == nbb_cell_id) {\n",
       "                        if (nbb_cells[i].get_text() == nbb_unformatted_code) {\n",
       "                             nbb_cells[i].set_text(nbb_formatted_code);\n",
       "                        }\n",
       "                        break;\n",
       "                    }\n",
       "                }\n",
       "            }, 500);\n",
       "            "
      ],
      "text/plain": [
       "<IPython.core.display.Javascript object>"
      ]
     },
     "metadata": {},
     "output_type": "display_data"
    }
   ],
   "source": [
    "def contribution(GWP_data, PM_data, year_range=range(2013, 2018)):\n",
    "    AEE_GWP_ave = [yearly_average(AEE_df_GWP, year) for year in year_range]\n",
    "    AEE_PM_ave = [yearly_average(AEE_df_PM, year) for year in year_range]\n",
    "    return pd.DataFrame(\n",
    "        [AEE_GWP_ave, AEE_PM_ave], index=[\"GWP\", \"PM\"], columns=year_range\n",
    "    )"
   ]
  },
  {
   "cell_type": "code",
   "execution_count": 19,
   "metadata": {},
   "outputs": [
    {
     "data": {
      "image/png": "[encoded data removed]",
      "text/plain": [
       "<Figure size 432x288 with 1 Axes>"
      ]
     },
     "metadata": {
      "needs_background": "light"
     },
     "output_type": "display_data"
    },
    {
     "data": {
      "application/javascript": [
       "\n",
       "            setTimeout(function() {\n",
       "                var nbb_cell_id = 19;\n",
       "                var nbb_unformatted_code = \"fig, ax = plt.subplots()\\nplt.yticks(fontname=\\\"Arial\\\", fontsize=14)\\nplt.xticks(range(2013, 2018, 1), fontname=\\\"Arial\\\", fontsize=14)\\nplt.ylim(0, 0.8)\\ncontribution(AEE_df_GWP, AEE_df_PM).T.plot(\\n    kind=\\\"bar\\\", stacked=True, edgecolor=\\\"black\\\", linewidth=2.5, ax=ax\\n)\\nplt.xticks(rotation=0)\\nplt.legend(frameon=False, fontsize=13, loc=\\\"upper left\\\").set_visible(False)\\nplt.savefig(\\n    r\\\"E:\\\\tencent files\\\\chrome Download\\\\Research\\\\DEA\\\\DEA_transport\\\\Graphs\\\\impact_efficiency.png\\\",\\n    transparent=True,\\n    dpi=600,\\n    bbox_inches=\\\"tight\\\",\\n)\";\n",
       "                var nbb_formatted_code = \"fig, ax = plt.subplots()\\nplt.yticks(fontname=\\\"Arial\\\", fontsize=14)\\nplt.xticks(range(2013, 2018, 1), fontname=\\\"Arial\\\", fontsize=14)\\nplt.ylim(0, 0.8)\\ncontribution(AEE_df_GWP, AEE_df_PM).T.plot(\\n    kind=\\\"bar\\\", stacked=True, edgecolor=\\\"black\\\", linewidth=2.5, ax=ax\\n)\\nplt.xticks(rotation=0)\\nplt.legend(frameon=False, fontsize=13, loc=\\\"upper left\\\").set_visible(False)\\nplt.savefig(\\n    r\\\"E:\\\\tencent files\\\\chrome Download\\\\Research\\\\DEA\\\\DEA_transport\\\\Graphs\\\\impact_efficiency.png\\\",\\n    transparent=True,\\n    dpi=600,\\n    bbox_inches=\\\"tight\\\",\\n)\";\n",
       "                var nbb_cells = Jupyter.notebook.get_cells();\n",
       "                for (var i = 0; i < nbb_cells.length; ++i) {\n",
       "                    if (nbb_cells[i].input_prompt_number == nbb_cell_id) {\n",
       "                        if (nbb_cells[i].get_text() == nbb_unformatted_code) {\n",
       "                             nbb_cells[i].set_text(nbb_formatted_code);\n",
       "                        }\n",
       "                        break;\n",
       "                    }\n",
       "                }\n",
       "            }, 500);\n",
       "            "
      ],
      "text/plain": [
       "<IPython.core.display.Javascript object>"
      ]
     },
     "metadata": {},
     "output_type": "display_data"
    }
   ],
   "source": [
    "fig, ax = plt.subplots()\n",
    "plt.yticks(fontname=\"Arial\", fontsize=14)\n",
    "plt.xticks(range(2013, 2018, 1), fontname=\"Arial\", fontsize=14)\n",
    "plt.ylim(0, 0.8)\n",
    "contribution(AEE_df_GWP, AEE_df_PM).T.plot(\n",
    "    kind=\"bar\", stacked=True, edgecolor=\"black\", linewidth=2.5, ax=ax\n",
    ")\n",
    "plt.xticks(rotation=0)\n",
    "plt.legend(frameon=False, fontsize=13, loc=\"upper left\").set_visible(False)\n",
    "plt.savefig(\n",
    "    r\"E:\\tencent files\\chrome Download\\Research\\DEA\\DEA_transport\\Graphs\\impact_efficiency.png\",\n",
    "    transparent=True,\n",
    "    dpi=600,\n",
    "    bbox_inches=\"tight\",\n",
    ")"
   ]
  },
  {
   "cell_type": "code",
   "execution_count": 20,
   "metadata": {},
   "outputs": [
    {
     "data": {
      "text/html": [
       "<div>\n",
       "<style scoped>\n",
       "    .dataframe tbody tr th:only-of-type {\n",
       "        vertical-align: middle;\n",
       "    }\n",
       "\n",
       "    .dataframe tbody tr th {\n",
       "        vertical-align: top;\n",
       "    }\n",
       "\n",
       "    .dataframe thead th {\n",
       "        text-align: right;\n",
       "    }\n",
       "</style>\n",
       "<table border=\"1\" class=\"dataframe\">\n",
       "  <thead>\n",
       "    <tr style=\"text-align: right;\">\n",
       "      <th></th>\n",
       "      <th>2013</th>\n",
       "      <th>2014</th>\n",
       "      <th>2015</th>\n",
       "      <th>2016</th>\n",
       "      <th>2017</th>\n",
       "    </tr>\n",
       "  </thead>\n",
       "  <tbody>\n",
       "    <tr>\n",
       "      <th>Nation</th>\n",
       "      <td>0.544395</td>\n",
       "      <td>0.570310</td>\n",
       "      <td>0.609965</td>\n",
       "      <td>0.624822</td>\n",
       "      <td>0.649456</td>\n",
       "    </tr>\n",
       "    <tr>\n",
       "      <th>Eastern</th>\n",
       "      <td>0.641956</td>\n",
       "      <td>0.637806</td>\n",
       "      <td>0.655940</td>\n",
       "      <td>0.642825</td>\n",
       "      <td>0.665667</td>\n",
       "    </tr>\n",
       "    <tr>\n",
       "      <th>Western</th>\n",
       "      <td>0.581308</td>\n",
       "      <td>0.637332</td>\n",
       "      <td>0.676417</td>\n",
       "      <td>0.700178</td>\n",
       "      <td>0.738460</td>\n",
       "    </tr>\n",
       "    <tr>\n",
       "      <th>Central</th>\n",
       "      <td>0.359492</td>\n",
       "      <td>0.385348</td>\n",
       "      <td>0.455377</td>\n",
       "      <td>0.496455</td>\n",
       "      <td>0.504785</td>\n",
       "    </tr>\n",
       "  </tbody>\n",
       "</table>\n",
       "</div>"
      ],
      "text/plain": [
       "             2013      2014      2015      2016      2017\n",
       "Nation   0.544395  0.570310  0.609965  0.624822  0.649456\n",
       "Eastern  0.641956  0.637806  0.655940  0.642825  0.665667\n",
       "Western  0.581308  0.637332  0.676417  0.700178  0.738460\n",
       "Central  0.359492  0.385348  0.455377  0.496455  0.504785"
      ]
     },
     "execution_count": 20,
     "metadata": {},
     "output_type": "execute_result"
    },
    {
     "data": {
      "application/javascript": [
       "\n",
       "            setTimeout(function() {\n",
       "                var nbb_cell_id = 20;\n",
       "                var nbb_unformatted_code = \"average_df(AEE_df_sort)\";\n",
       "                var nbb_formatted_code = \"average_df(AEE_df_sort)\";\n",
       "                var nbb_cells = Jupyter.notebook.get_cells();\n",
       "                for (var i = 0; i < nbb_cells.length; ++i) {\n",
       "                    if (nbb_cells[i].input_prompt_number == nbb_cell_id) {\n",
       "                        if (nbb_cells[i].get_text() == nbb_unformatted_code) {\n",
       "                             nbb_cells[i].set_text(nbb_formatted_code);\n",
       "                        }\n",
       "                        break;\n",
       "                    }\n",
       "                }\n",
       "            }, 500);\n",
       "            "
      ],
      "text/plain": [
       "<IPython.core.display.Javascript object>"
      ]
     },
     "metadata": {},
     "output_type": "display_data"
    }
   ],
   "source": [
    "average_df(AEE_df_sort)"
   ]
  },
  {
   "cell_type": "code",
   "execution_count": 21,
   "metadata": {},
   "outputs": [
    {
     "data": {
      "text/html": [
       "<div>\n",
       "<style scoped>\n",
       "    .dataframe tbody tr th:only-of-type {\n",
       "        vertical-align: middle;\n",
       "    }\n",
       "\n",
       "    .dataframe tbody tr th {\n",
       "        vertical-align: top;\n",
       "    }\n",
       "\n",
       "    .dataframe thead th {\n",
       "        text-align: right;\n",
       "    }\n",
       "</style>\n",
       "<table border=\"1\" class=\"dataframe\">\n",
       "  <thead>\n",
       "    <tr style=\"text-align: right;\">\n",
       "      <th></th>\n",
       "      <th>2013</th>\n",
       "      <th>2014</th>\n",
       "      <th>2015</th>\n",
       "      <th>2016</th>\n",
       "      <th>2017</th>\n",
       "    </tr>\n",
       "  </thead>\n",
       "  <tbody>\n",
       "    <tr>\n",
       "      <th>GWP</th>\n",
       "      <td>0.284265</td>\n",
       "      <td>0.282067</td>\n",
       "      <td>0.300367</td>\n",
       "      <td>0.307423</td>\n",
       "      <td>0.309886</td>\n",
       "    </tr>\n",
       "    <tr>\n",
       "      <th>PM</th>\n",
       "      <td>0.260130</td>\n",
       "      <td>0.288243</td>\n",
       "      <td>0.309598</td>\n",
       "      <td>0.317399</td>\n",
       "      <td>0.339570</td>\n",
       "    </tr>\n",
       "  </tbody>\n",
       "</table>\n",
       "</div>"
      ],
      "text/plain": [
       "         2013      2014      2015      2016      2017\n",
       "GWP  0.284265  0.282067  0.300367  0.307423  0.309886\n",
       "PM   0.260130  0.288243  0.309598  0.317399  0.339570"
      ]
     },
     "execution_count": 21,
     "metadata": {},
     "output_type": "execute_result"
    },
    {
     "data": {
      "application/javascript": [
       "\n",
       "            setTimeout(function() {\n",
       "                var nbb_cell_id = 21;\n",
       "                var nbb_unformatted_code = \"contribution(AEE_df_GWP, AEE_df_PM)\";\n",
       "                var nbb_formatted_code = \"contribution(AEE_df_GWP, AEE_df_PM)\";\n",
       "                var nbb_cells = Jupyter.notebook.get_cells();\n",
       "                for (var i = 0; i < nbb_cells.length; ++i) {\n",
       "                    if (nbb_cells[i].input_prompt_number == nbb_cell_id) {\n",
       "                        if (nbb_cells[i].get_text() == nbb_unformatted_code) {\n",
       "                             nbb_cells[i].set_text(nbb_formatted_code);\n",
       "                        }\n",
       "                        break;\n",
       "                    }\n",
       "                }\n",
       "            }, 500);\n",
       "            "
      ],
      "text/plain": [
       "<IPython.core.display.Javascript object>"
      ]
     },
     "metadata": {},
     "output_type": "display_data"
    }
   ],
   "source": [
    "contribution(AEE_df_GWP, AEE_df_PM)"
   ]
  },
  {
   "cell_type": "code",
   "execution_count": 22,
   "metadata": {},
   "outputs": [
    {
     "data": {
      "text/plain": [
       "(0.5043449999999999, 0.9420575)"
      ]
     },
     "execution_count": 22,
     "metadata": {},
     "output_type": "execute_result"
    },
    {
     "data": {
      "application/javascript": [
       "\n",
       "            setTimeout(function() {\n",
       "                var nbb_cell_id = 22;\n",
       "                var nbb_unformatted_code = \"a = AEE_df_sort[AEE_df_sort[\\\"City name\\\"] == \\\"Chongqing\\\"]\\nb = a[a[\\\"year\\\"] == 2017].iloc[0, 3:]\\nb.quantile(0.05), b.quantile(0.95)\";\n",
       "                var nbb_formatted_code = \"a = AEE_df_sort[AEE_df_sort[\\\"City name\\\"] == \\\"Chongqing\\\"]\\nb = a[a[\\\"year\\\"] == 2017].iloc[0, 3:]\\nb.quantile(0.05), b.quantile(0.95)\";\n",
       "                var nbb_cells = Jupyter.notebook.get_cells();\n",
       "                for (var i = 0; i < nbb_cells.length; ++i) {\n",
       "                    if (nbb_cells[i].input_prompt_number == nbb_cell_id) {\n",
       "                        if (nbb_cells[i].get_text() == nbb_unformatted_code) {\n",
       "                             nbb_cells[i].set_text(nbb_formatted_code);\n",
       "                        }\n",
       "                        break;\n",
       "                    }\n",
       "                }\n",
       "            }, 500);\n",
       "            "
      ],
      "text/plain": [
       "<IPython.core.display.Javascript object>"
      ]
     },
     "metadata": {},
     "output_type": "display_data"
    }
   ],
   "source": [
    "a = AEE_df_sort[AEE_df_sort[\"City name\"] == \"Chongqing\"]\n",
    "b = a[a[\"year\"] == 2017].iloc[0, 3:]\n",
    "b.quantile(0.05), b.quantile(0.95)"
   ]
  },
  {
   "cell_type": "code",
   "execution_count": 23,
   "metadata": {},
   "outputs": [
    {
     "data": {
      "text/plain": [
       "(0.5325, 0.9878549999999999)"
      ]
     },
     "execution_count": 23,
     "metadata": {},
     "output_type": "execute_result"
    },
    {
     "data": {
      "application/javascript": [
       "\n",
       "            setTimeout(function() {\n",
       "                var nbb_cell_id = 23;\n",
       "                var nbb_unformatted_code = \"a = AEE_df_sort[AEE_df_sort[\\\"City name\\\"] == \\\"Sichuan\\\"]\\nb = a[a[\\\"year\\\"] == 2017].iloc[0, 3:]\\nb.quantile(0.05), b.quantile(0.95)\";\n",
       "                var nbb_formatted_code = \"a = AEE_df_sort[AEE_df_sort[\\\"City name\\\"] == \\\"Sichuan\\\"]\\nb = a[a[\\\"year\\\"] == 2017].iloc[0, 3:]\\nb.quantile(0.05), b.quantile(0.95)\";\n",
       "                var nbb_cells = Jupyter.notebook.get_cells();\n",
       "                for (var i = 0; i < nbb_cells.length; ++i) {\n",
       "                    if (nbb_cells[i].input_prompt_number == nbb_cell_id) {\n",
       "                        if (nbb_cells[i].get_text() == nbb_unformatted_code) {\n",
       "                             nbb_cells[i].set_text(nbb_formatted_code);\n",
       "                        }\n",
       "                        break;\n",
       "                    }\n",
       "                }\n",
       "            }, 500);\n",
       "            "
      ],
      "text/plain": [
       "<IPython.core.display.Javascript object>"
      ]
     },
     "metadata": {},
     "output_type": "display_data"
    }
   ],
   "source": [
    "a = AEE_df_sort[AEE_df_sort[\"City name\"] == \"Sichuan\"]\n",
    "b = a[a[\"year\"] == 2017].iloc[0, 3:]\n",
    "b.quantile(0.05), b.quantile(0.95)"
   ]
  },
  {
   "cell_type": "code",
   "execution_count": 24,
   "metadata": {},
   "outputs": [
    {
     "data": {
      "text/plain": [
       "(0.19224999999999998, 0.271665)"
      ]
     },
     "execution_count": 24,
     "metadata": {},
     "output_type": "execute_result"
    },
    {
     "data": {
      "application/javascript": [
       "\n",
       "            setTimeout(function() {\n",
       "                var nbb_cell_id = 24;\n",
       "                var nbb_unformatted_code = \"a = AEE_df_sort[AEE_df_sort[\\\"City name\\\"] == \\\"Shanghai\\\"]\\nb = a[a[\\\"year\\\"] == 2017].iloc[0, 3:]\\nb.quantile(0.5), b.quantile(0.95)\";\n",
       "                var nbb_formatted_code = \"a = AEE_df_sort[AEE_df_sort[\\\"City name\\\"] == \\\"Shanghai\\\"]\\nb = a[a[\\\"year\\\"] == 2017].iloc[0, 3:]\\nb.quantile(0.5), b.quantile(0.95)\";\n",
       "                var nbb_cells = Jupyter.notebook.get_cells();\n",
       "                for (var i = 0; i < nbb_cells.length; ++i) {\n",
       "                    if (nbb_cells[i].input_prompt_number == nbb_cell_id) {\n",
       "                        if (nbb_cells[i].get_text() == nbb_unformatted_code) {\n",
       "                             nbb_cells[i].set_text(nbb_formatted_code);\n",
       "                        }\n",
       "                        break;\n",
       "                    }\n",
       "                }\n",
       "            }, 500);\n",
       "            "
      ],
      "text/plain": [
       "<IPython.core.display.Javascript object>"
      ]
     },
     "metadata": {},
     "output_type": "display_data"
    }
   ],
   "source": [
    "a = AEE_df_sort[AEE_df_sort[\"City name\"] == \"Shanghai\"]\n",
    "b = a[a[\"year\"] == 2017].iloc[0, 3:]\n",
    "b.quantile(0.5), b.quantile(0.95)"
   ]
  },
  {
   "cell_type": "code",
   "execution_count": 25,
   "metadata": {},
   "outputs": [
    {
     "data": {
      "text/plain": [
       "(1.0, 1.0)"
      ]
     },
     "execution_count": 25,
     "metadata": {},
     "output_type": "execute_result"
    },
    {
     "data": {
      "application/javascript": [
       "\n",
       "            setTimeout(function() {\n",
       "                var nbb_cell_id = 25;\n",
       "                var nbb_unformatted_code = \"a = AEE_df_sort[AEE_df_sort[\\\"City name\\\"] == \\\"Tianjin\\\"]\\nb = a[a[\\\"year\\\"] == 2017].iloc[0, 3:]\\nb.quantile(0.5), b.quantile(0.95)\";\n",
       "                var nbb_formatted_code = \"a = AEE_df_sort[AEE_df_sort[\\\"City name\\\"] == \\\"Tianjin\\\"]\\nb = a[a[\\\"year\\\"] == 2017].iloc[0, 3:]\\nb.quantile(0.5), b.quantile(0.95)\";\n",
       "                var nbb_cells = Jupyter.notebook.get_cells();\n",
       "                for (var i = 0; i < nbb_cells.length; ++i) {\n",
       "                    if (nbb_cells[i].input_prompt_number == nbb_cell_id) {\n",
       "                        if (nbb_cells[i].get_text() == nbb_unformatted_code) {\n",
       "                             nbb_cells[i].set_text(nbb_formatted_code);\n",
       "                        }\n",
       "                        break;\n",
       "                    }\n",
       "                }\n",
       "            }, 500);\n",
       "            "
      ],
      "text/plain": [
       "<IPython.core.display.Javascript object>"
      ]
     },
     "metadata": {},
     "output_type": "display_data"
    }
   ],
   "source": [
    "a = AEE_df_sort[AEE_df_sort[\"City name\"] == \"Tianjin\"]\n",
    "b = a[a[\"year\"] == 2017].iloc[0, 3:]\n",
    "b.quantile(0.5), b.quantile(0.95)"
   ]
  },
  {
   "cell_type": "code",
   "execution_count": 26,
   "metadata": {},
   "outputs": [
    {
     "data": {
      "text/plain": [
       "(0.43065, 0.5003774999999999)"
      ]
     },
     "execution_count": 26,
     "metadata": {},
     "output_type": "execute_result"
    },
    {
     "data": {
      "application/javascript": [
       "\n",
       "            setTimeout(function() {\n",
       "                var nbb_cell_id = 26;\n",
       "                var nbb_unformatted_code = \"a = AEE_df_sort[AEE_df_sort[\\\"City name\\\"] == \\\"Tianjin\\\"]\\nb = a[a[\\\"year\\\"] == 2013].iloc[0, 3:]\\nb.quantile(0.5), b.quantile(0.95)\";\n",
       "                var nbb_formatted_code = \"a = AEE_df_sort[AEE_df_sort[\\\"City name\\\"] == \\\"Tianjin\\\"]\\nb = a[a[\\\"year\\\"] == 2013].iloc[0, 3:]\\nb.quantile(0.5), b.quantile(0.95)\";\n",
       "                var nbb_cells = Jupyter.notebook.get_cells();\n",
       "                for (var i = 0; i < nbb_cells.length; ++i) {\n",
       "                    if (nbb_cells[i].input_prompt_number == nbb_cell_id) {\n",
       "                        if (nbb_cells[i].get_text() == nbb_unformatted_code) {\n",
       "                             nbb_cells[i].set_text(nbb_formatted_code);\n",
       "                        }\n",
       "                        break;\n",
       "                    }\n",
       "                }\n",
       "            }, 500);\n",
       "            "
      ],
      "text/plain": [
       "<IPython.core.display.Javascript object>"
      ]
     },
     "metadata": {},
     "output_type": "display_data"
    }
   ],
   "source": [
    "a = AEE_df_sort[AEE_df_sort[\"City name\"] == \"Tianjin\"]\n",
    "b = a[a[\"year\"] == 2013].iloc[0, 3:]\n",
    "b.quantile(0.5), b.quantile(0.95)"
   ]
  },
  {
   "cell_type": "code",
   "execution_count": 27,
   "metadata": {},
   "outputs": [
    {
     "data": {
      "application/javascript": [
       "\n",
       "            setTimeout(function() {\n",
       "                var nbb_cell_id = 27;\n",
       "                var nbb_unformatted_code = \"def read_excel(iteration):\\n    dea_inout = pd.read_excel(\\n        os.path.join(dir_data, xls), sheet_name=str(iteration), header=0\\n    )\\n    return dea_inout\";\n",
       "                var nbb_formatted_code = \"def read_excel(iteration):\\n    dea_inout = pd.read_excel(\\n        os.path.join(dir_data, xls), sheet_name=str(iteration), header=0\\n    )\\n    return dea_inout\";\n",
       "                var nbb_cells = Jupyter.notebook.get_cells();\n",
       "                for (var i = 0; i < nbb_cells.length; ++i) {\n",
       "                    if (nbb_cells[i].input_prompt_number == nbb_cell_id) {\n",
       "                        if (nbb_cells[i].get_text() == nbb_unformatted_code) {\n",
       "                             nbb_cells[i].set_text(nbb_formatted_code);\n",
       "                        }\n",
       "                        break;\n",
       "                    }\n",
       "                }\n",
       "            }, 500);\n",
       "            "
      ],
      "text/plain": [
       "<IPython.core.display.Javascript object>"
      ]
     },
     "metadata": {},
     "output_type": "display_data"
    }
   ],
   "source": [
    "def read_excel(iteration):\n",
    "    dea_inout = pd.read_excel(\n",
    "        os.path.join(dir_data, xls), sheet_name=str(iteration), header=0\n",
    "    )\n",
    "    return dea_inout"
   ]
  },
  {
   "cell_type": "code",
   "execution_count": 28,
   "metadata": {},
   "outputs": [
    {
     "data": {
      "application/javascript": [
       "\n",
       "            setTimeout(function() {\n",
       "                var nbb_cell_id = 28;\n",
       "                var nbb_unformatted_code = \"def read_scaling_difference(iteration, columns):\\n    strong_dis_df = load_pickle(iteration, columns, file_path=file_path_strong_dis,)\\n    weak_dis_df = load_pickle(iteration, columns)\\n    difference = strong_dis_df - weak_dis_df\\n    return difference\";\n",
       "                var nbb_formatted_code = \"def read_scaling_difference(iteration, columns):\\n    strong_dis_df = load_pickle(iteration, columns, file_path=file_path_strong_dis,)\\n    weak_dis_df = load_pickle(iteration, columns)\\n    difference = strong_dis_df - weak_dis_df\\n    return difference\";\n",
       "                var nbb_cells = Jupyter.notebook.get_cells();\n",
       "                for (var i = 0; i < nbb_cells.length; ++i) {\n",
       "                    if (nbb_cells[i].input_prompt_number == nbb_cell_id) {\n",
       "                        if (nbb_cells[i].get_text() == nbb_unformatted_code) {\n",
       "                             nbb_cells[i].set_text(nbb_formatted_code);\n",
       "                        }\n",
       "                        break;\n",
       "                    }\n",
       "                }\n",
       "            }, 500);\n",
       "            "
      ],
      "text/plain": [
       "<IPython.core.display.Javascript object>"
      ]
     },
     "metadata": {},
     "output_type": "display_data"
    }
   ],
   "source": [
    "def read_scaling_difference(iteration, columns):\n",
    "    strong_dis_df = load_pickle(iteration, columns, file_path=file_path_strong_dis,)\n",
    "    weak_dis_df = load_pickle(iteration, columns)\n",
    "    difference = strong_dis_df - weak_dis_df\n",
    "    return difference"
   ]
  },
  {
   "cell_type": "code",
   "execution_count": 29,
   "metadata": {},
   "outputs": [
    {
     "data": {
      "application/javascript": [
       "\n",
       "            setTimeout(function() {\n",
       "                var nbb_cell_id = 29;\n",
       "                var nbb_unformatted_code = \"def scaling_difference_df(iterations, columns, DMU_columns=[\\\"City name\\\", \\\"year\\\"]):\\n    scaling_difference_ls = []\\n    if columns == [\\\"scalingFacotr_y_0\\\"]:\\n        GDP_data = read_excel(0)[\\\"GDP\\\"]\\n        for iteration in range(iterations):\\n            regulatory_cost = GDP_data.multiply(\\n                read_scaling_difference(iteration, columns).iloc[:, 0]\\n            )\\n            scaling_difference_ls.append(regulatory_cost)\\n    elif columns == [\\\"scalingFactor_x_2\\\"]:\\n        data_file = pd.ExcelFile(os.path.join(dir_data, xls))\\n        for iteration in range(iterations):\\n            FDP_data = pd.read_excel(data_file, str(iterations - 1))[\\\"FDP\\\"]\\n            energy_saving = FDP_data.multiply(\\n                -read_scaling_difference(iteration, columns).iloc[:, 0]\\n            )\\n            scaling_difference_ls.append(energy_saving)\\n    difference = pd.concat(scaling_difference_ls, axis=1)\\n    DMU_df = load_pickle(0, columns=DMU_columns)\\n    DMU_cluster = pd.DataFrame(\\n        [\\n            \\\"Central\\\",\\n            \\\"Eastern\\\",\\n            \\\"Western\\\",\\n            \\\"Eastern\\\",\\n            \\\"Western\\\",\\n            \\\"Eastern\\\",\\n            \\\"Western\\\",\\n            \\\"Western\\\",\\n            \\\"Eastern\\\",\\n            \\\"Eastern\\\",\\n            \\\"Central\\\",\\n            \\\"Central\\\",\\n            \\\"Central\\\",\\n            \\\"Central\\\",\\n            \\\"Western\\\",\\n            \\\"Eastern\\\",\\n            \\\"Central\\\",\\n            \\\"Central\\\",\\n            \\\"Eastern\\\",\\n            \\\"Western\\\",\\n            \\\"Western\\\",\\n            \\\"Western\\\",\\n            \\\"Eastern\\\",\\n            \\\"Eastern\\\",\\n            \\\"Central\\\",\\n            \\\"Western\\\",\\n            \\\"Eastern\\\",\\n            \\\"Western\\\",\\n            \\\"Western\\\",\\n            \\\"Eastern\\\",\\n        ]\\n        * 5,\\n        columns=[\\\"region\\\"],\\n    )\\n    difference_df = pd.concat([DMU_cluster, DMU_df, difference], axis=1)\\n    return difference_df\";\n",
       "                var nbb_formatted_code = \"def scaling_difference_df(iterations, columns, DMU_columns=[\\\"City name\\\", \\\"year\\\"]):\\n    scaling_difference_ls = []\\n    if columns == [\\\"scalingFacotr_y_0\\\"]:\\n        GDP_data = read_excel(0)[\\\"GDP\\\"]\\n        for iteration in range(iterations):\\n            regulatory_cost = GDP_data.multiply(\\n                read_scaling_difference(iteration, columns).iloc[:, 0]\\n            )\\n            scaling_difference_ls.append(regulatory_cost)\\n    elif columns == [\\\"scalingFactor_x_2\\\"]:\\n        data_file = pd.ExcelFile(os.path.join(dir_data, xls))\\n        for iteration in range(iterations):\\n            FDP_data = pd.read_excel(data_file, str(iterations - 1))[\\\"FDP\\\"]\\n            energy_saving = FDP_data.multiply(\\n                -read_scaling_difference(iteration, columns).iloc[:, 0]\\n            )\\n            scaling_difference_ls.append(energy_saving)\\n    difference = pd.concat(scaling_difference_ls, axis=1)\\n    DMU_df = load_pickle(0, columns=DMU_columns)\\n    DMU_cluster = pd.DataFrame(\\n        [\\n            \\\"Central\\\",\\n            \\\"Eastern\\\",\\n            \\\"Western\\\",\\n            \\\"Eastern\\\",\\n            \\\"Western\\\",\\n            \\\"Eastern\\\",\\n            \\\"Western\\\",\\n            \\\"Western\\\",\\n            \\\"Eastern\\\",\\n            \\\"Eastern\\\",\\n            \\\"Central\\\",\\n            \\\"Central\\\",\\n            \\\"Central\\\",\\n            \\\"Central\\\",\\n            \\\"Western\\\",\\n            \\\"Eastern\\\",\\n            \\\"Central\\\",\\n            \\\"Central\\\",\\n            \\\"Eastern\\\",\\n            \\\"Western\\\",\\n            \\\"Western\\\",\\n            \\\"Western\\\",\\n            \\\"Eastern\\\",\\n            \\\"Eastern\\\",\\n            \\\"Central\\\",\\n            \\\"Western\\\",\\n            \\\"Eastern\\\",\\n            \\\"Western\\\",\\n            \\\"Western\\\",\\n            \\\"Eastern\\\",\\n        ]\\n        * 5,\\n        columns=[\\\"region\\\"],\\n    )\\n    difference_df = pd.concat([DMU_cluster, DMU_df, difference], axis=1)\\n    return difference_df\";\n",
       "                var nbb_cells = Jupyter.notebook.get_cells();\n",
       "                for (var i = 0; i < nbb_cells.length; ++i) {\n",
       "                    if (nbb_cells[i].input_prompt_number == nbb_cell_id) {\n",
       "                        if (nbb_cells[i].get_text() == nbb_unformatted_code) {\n",
       "                             nbb_cells[i].set_text(nbb_formatted_code);\n",
       "                        }\n",
       "                        break;\n",
       "                    }\n",
       "                }\n",
       "            }, 500);\n",
       "            "
      ],
      "text/plain": [
       "<IPython.core.display.Javascript object>"
      ]
     },
     "metadata": {},
     "output_type": "display_data"
    }
   ],
   "source": [
    "def scaling_difference_df(iterations, columns, DMU_columns=[\"City name\", \"year\"]):\n",
    "    scaling_difference_ls = []\n",
    "    if columns == [\"scalingFacotr_y_0\"]:\n",
    "        GDP_data = read_excel(0)[\"GDP\"]\n",
    "        for iteration in range(iterations):\n",
    "            regulatory_cost = GDP_data.multiply(\n",
    "                read_scaling_difference(iteration, columns).iloc[:, 0]\n",
    "            )\n",
    "            scaling_difference_ls.append(regulatory_cost)\n",
    "    elif columns == [\"scalingFactor_x_2\"]:\n",
    "        data_file = pd.ExcelFile(os.path.join(dir_data, xls))\n",
    "        for iteration in range(iterations):\n",
    "            FDP_data = pd.read_excel(data_file, str(iterations - 1))[\"FDP\"]\n",
    "            energy_saving = FDP_data.multiply(\n",
    "                -read_scaling_difference(iteration, columns).iloc[:, 0]\n",
    "            )\n",
    "            scaling_difference_ls.append(energy_saving)\n",
    "    difference = pd.concat(scaling_difference_ls, axis=1)\n",
    "    DMU_df = load_pickle(0, columns=DMU_columns)\n",
    "    DMU_cluster = pd.DataFrame(\n",
    "        [\n",
    "            \"Central\",\n",
    "            \"Eastern\",\n",
    "            \"Western\",\n",
    "            \"Eastern\",\n",
    "            \"Western\",\n",
    "            \"Eastern\",\n",
    "            \"Western\",\n",
    "            \"Western\",\n",
    "            \"Eastern\",\n",
    "            \"Eastern\",\n",
    "            \"Central\",\n",
    "            \"Central\",\n",
    "            \"Central\",\n",
    "            \"Central\",\n",
    "            \"Western\",\n",
    "            \"Eastern\",\n",
    "            \"Central\",\n",
    "            \"Central\",\n",
    "            \"Eastern\",\n",
    "            \"Western\",\n",
    "            \"Western\",\n",
    "            \"Western\",\n",
    "            \"Eastern\",\n",
    "            \"Eastern\",\n",
    "            \"Central\",\n",
    "            \"Western\",\n",
    "            \"Eastern\",\n",
    "            \"Western\",\n",
    "            \"Western\",\n",
    "            \"Eastern\",\n",
    "        ]\n",
    "        * 5,\n",
    "        columns=[\"region\"],\n",
    "    )\n",
    "    difference_df = pd.concat([DMU_cluster, DMU_df, difference], axis=1)\n",
    "    return difference_df"
   ]
  },
  {
   "cell_type": "code",
   "execution_count": 30,
   "metadata": {},
   "outputs": [
    {
     "data": {
      "application/javascript": [
       "\n",
       "            setTimeout(function() {\n",
       "                var nbb_cell_id = 30;\n",
       "                var nbb_unformatted_code = \"DMU_columns = [\\\"City name\\\", \\\"year\\\"]\\nFDP_column = [\\\"scalingFactor_x_2\\\"]\\nGDP_column = [\\\"scalingFacotr_y_0\\\"]\\nGWP_column = [\\\"scalingFacotr_b_0\\\"]\\nPM_column = [\\\"scalingFacotr_b_1\\\"]\";\n",
       "                var nbb_formatted_code = \"DMU_columns = [\\\"City name\\\", \\\"year\\\"]\\nFDP_column = [\\\"scalingFactor_x_2\\\"]\\nGDP_column = [\\\"scalingFacotr_y_0\\\"]\\nGWP_column = [\\\"scalingFacotr_b_0\\\"]\\nPM_column = [\\\"scalingFacotr_b_1\\\"]\";\n",
       "                var nbb_cells = Jupyter.notebook.get_cells();\n",
       "                for (var i = 0; i < nbb_cells.length; ++i) {\n",
       "                    if (nbb_cells[i].input_prompt_number == nbb_cell_id) {\n",
       "                        if (nbb_cells[i].get_text() == nbb_unformatted_code) {\n",
       "                             nbb_cells[i].set_text(nbb_formatted_code);\n",
       "                        }\n",
       "                        break;\n",
       "                    }\n",
       "                }\n",
       "            }, 500);\n",
       "            "
      ],
      "text/plain": [
       "<IPython.core.display.Javascript object>"
      ]
     },
     "metadata": {},
     "output_type": "display_data"
    }
   ],
   "source": [
    "DMU_columns = [\"City name\", \"year\"]\n",
    "FDP_column = [\"scalingFactor_x_2\"]\n",
    "GDP_column = [\"scalingFacotr_y_0\"]\n",
    "GWP_column = [\"scalingFacotr_b_0\"]\n",
    "PM_column = [\"scalingFacotr_b_1\"]"
   ]
  },
  {
   "cell_type": "code",
   "execution_count": 31,
   "metadata": {},
   "outputs": [
    {
     "data": {
      "application/javascript": [
       "\n",
       "            setTimeout(function() {\n",
       "                var nbb_cell_id = 31;\n",
       "                var nbb_unformatted_code = \"GDP_difference = scaling_difference_df(1000, columns=GDP_column)\";\n",
       "                var nbb_formatted_code = \"GDP_difference = scaling_difference_df(1000, columns=GDP_column)\";\n",
       "                var nbb_cells = Jupyter.notebook.get_cells();\n",
       "                for (var i = 0; i < nbb_cells.length; ++i) {\n",
       "                    if (nbb_cells[i].input_prompt_number == nbb_cell_id) {\n",
       "                        if (nbb_cells[i].get_text() == nbb_unformatted_code) {\n",
       "                             nbb_cells[i].set_text(nbb_formatted_code);\n",
       "                        }\n",
       "                        break;\n",
       "                    }\n",
       "                }\n",
       "            }, 500);\n",
       "            "
      ],
      "text/plain": [
       "<IPython.core.display.Javascript object>"
      ]
     },
     "metadata": {},
     "output_type": "display_data"
    }
   ],
   "source": [
    "GDP_difference = scaling_difference_df(1000, columns=GDP_column)"
   ]
  },
  {
   "cell_type": "code",
   "execution_count": 32,
   "metadata": {},
   "outputs": [
    {
     "data": {
      "application/javascript": [
       "\n",
       "            setTimeout(function() {\n",
       "                var nbb_cell_id = 32;\n",
       "                var nbb_unformatted_code = \"FDP_difference = scaling_difference_df(1000, columns=FDP_column)\";\n",
       "                var nbb_formatted_code = \"FDP_difference = scaling_difference_df(1000, columns=FDP_column)\";\n",
       "                var nbb_cells = Jupyter.notebook.get_cells();\n",
       "                for (var i = 0; i < nbb_cells.length; ++i) {\n",
       "                    if (nbb_cells[i].input_prompt_number == nbb_cell_id) {\n",
       "                        if (nbb_cells[i].get_text() == nbb_unformatted_code) {\n",
       "                             nbb_cells[i].set_text(nbb_formatted_code);\n",
       "                        }\n",
       "                        break;\n",
       "                    }\n",
       "                }\n",
       "            }, 500);\n",
       "            "
      ],
      "text/plain": [
       "<IPython.core.display.Javascript object>"
      ]
     },
     "metadata": {},
     "output_type": "display_data"
    }
   ],
   "source": [
    "FDP_difference = scaling_difference_df(1000, columns=FDP_column)"
   ]
  },
  {
   "cell_type": "code",
   "execution_count": 33,
   "metadata": {},
   "outputs": [
    {
     "data": {
      "application/javascript": [
       "\n",
       "            setTimeout(function() {\n",
       "                var nbb_cell_id = 33;\n",
       "                var nbb_unformatted_code = \"def get_array(data, row_i):\\n    region = data.iloc[row_i, 0]\\n    DMU_name = data.iloc[row_i, 1]\\n    year = data.iloc[row_i, 2]\\n    array = data.iloc[row_i, 3:]\\n    return region, DMU_name, year, array\";\n",
       "                var nbb_formatted_code = \"def get_array(data, row_i):\\n    region = data.iloc[row_i, 0]\\n    DMU_name = data.iloc[row_i, 1]\\n    year = data.iloc[row_i, 2]\\n    array = data.iloc[row_i, 3:]\\n    return region, DMU_name, year, array\";\n",
       "                var nbb_cells = Jupyter.notebook.get_cells();\n",
       "                for (var i = 0; i < nbb_cells.length; ++i) {\n",
       "                    if (nbb_cells[i].input_prompt_number == nbb_cell_id) {\n",
       "                        if (nbb_cells[i].get_text() == nbb_unformatted_code) {\n",
       "                             nbb_cells[i].set_text(nbb_formatted_code);\n",
       "                        }\n",
       "                        break;\n",
       "                    }\n",
       "                }\n",
       "            }, 500);\n",
       "            "
      ],
      "text/plain": [
       "<IPython.core.display.Javascript object>"
      ]
     },
     "metadata": {},
     "output_type": "display_data"
    }
   ],
   "source": [
    "def get_array(data, row_i):\n",
    "    region = data.iloc[row_i, 0]\n",
    "    DMU_name = data.iloc[row_i, 1]\n",
    "    year = data.iloc[row_i, 2]\n",
    "    array = data.iloc[row_i, 3:]\n",
    "    return region, DMU_name, year, array"
   ]
  },
  {
   "cell_type": "code",
   "execution_count": 37,
   "metadata": {},
   "outputs": [
    {
     "data": {
      "application/javascript": [
       "\n",
       "            setTimeout(function() {\n",
       "                var nbb_cell_id = 37;\n",
       "                var nbb_unformatted_code = \"def making_scatter_data(data):\\n    data_ls = []\\n    for row_i in range(len(data)):\\n        region, name, year, array = get_array(data, row_i)\\n        array_mean = array.mean()\\n        data_ls.append(array_mean)\\n    data_arrary = np.array(data_ls)\\n    return data_arrary\";\n",
       "                var nbb_formatted_code = \"def making_scatter_data(data):\\n    data_ls = []\\n    for row_i in range(len(data)):\\n        region, name, year, array = get_array(data, row_i)\\n        array_mean = array.mean()\\n        data_ls.append(array_mean)\\n    data_arrary = np.array(data_ls)\\n    return data_arrary\";\n",
       "                var nbb_cells = Jupyter.notebook.get_cells();\n",
       "                for (var i = 0; i < nbb_cells.length; ++i) {\n",
       "                    if (nbb_cells[i].input_prompt_number == nbb_cell_id) {\n",
       "                        if (nbb_cells[i].get_text() == nbb_unformatted_code) {\n",
       "                             nbb_cells[i].set_text(nbb_formatted_code);\n",
       "                        }\n",
       "                        break;\n",
       "                    }\n",
       "                }\n",
       "            }, 500);\n",
       "            "
      ],
      "text/plain": [
       "<IPython.core.display.Javascript object>"
      ]
     },
     "metadata": {},
     "output_type": "display_data"
    }
   ],
   "source": [
    "def making_scatter_data(data):\n",
    "    data_ls = []\n",
    "    for row_i in range(len(data)):\n",
    "        region, name, year, array = get_array(data, row_i)\n",
    "        array_mean = array.mean()\n",
    "        data_ls.append(array_mean)\n",
    "    data_arrary = np.array(data_ls)\n",
    "    return data_arrary"
   ]
  },
  {
   "cell_type": "code",
   "execution_count": 270,
   "metadata": {},
   "outputs": [
    {
     "data": {
      "application/javascript": [
       "\n",
       "            setTimeout(function() {\n",
       "                var nbb_cell_id = 270;\n",
       "                var nbb_unformatted_code = \"def cost_func(GDP, c0, c1):\\n    return c0 + c1 * GDP\\n\\n\\ndef cost_curve_fit(GDP_data, FDP_data, region):\\n    FDP_scatter = making_scatter_data(FDP_data[(FDP_data[\\\"region\\\"] == region)])\\n    GDP_scatter = making_scatter_data(GDP_data[(GDP_data[\\\"region\\\"] == region)])\\n    scatter_fit = sorted(list(zip(GDP_scatter, FDP_scatter)))\\n    scatter_fit_truncat = []\\n    for i in scatter_fit:\\n        if i[1] >= 0:\\n            scatter_fit_truncat.append(i)\\n    GDP_scatter_sorted = np.array([i[0] for i in scatter_fit_truncat])\\n    FDP_scatter_sorted = np.array([i[1] for i in scatter_fit_truncat])\\n    c, cov = curve_fit(cost_func, GDP_scatter_sorted, FDP_scatter_sorted)\\n\\n    n = len(GDP_scatter_sorted)\\n    fit_FDP = np.empty(n)\\n    for i in range(n):\\n        fit_FDP[i] = cost_func(GDP_scatter_sorted[i], c[0], c[1])\\n    return c, cov, fit_FDP, GDP_scatter_sorted,FDP_scatter_sorted\";\n",
       "                var nbb_formatted_code = \"def cost_func(GDP, c0, c1):\\n    return c0 + c1 * GDP\\n\\n\\ndef cost_curve_fit(GDP_data, FDP_data, region):\\n    FDP_scatter = making_scatter_data(FDP_data[(FDP_data[\\\"region\\\"] == region)])\\n    GDP_scatter = making_scatter_data(GDP_data[(GDP_data[\\\"region\\\"] == region)])\\n    scatter_fit = sorted(list(zip(GDP_scatter, FDP_scatter)))\\n    scatter_fit_truncat = []\\n    for i in scatter_fit:\\n        if i[1] >= 0:\\n            scatter_fit_truncat.append(i)\\n    GDP_scatter_sorted = np.array([i[0] for i in scatter_fit_truncat])\\n    FDP_scatter_sorted = np.array([i[1] for i in scatter_fit_truncat])\\n    c, cov = curve_fit(cost_func, GDP_scatter_sorted, FDP_scatter_sorted)\\n\\n    n = len(GDP_scatter_sorted)\\n    fit_FDP = np.empty(n)\\n    for i in range(n):\\n        fit_FDP[i] = cost_func(GDP_scatter_sorted[i], c[0], c[1])\\n    return c, cov, fit_FDP, GDP_scatter_sorted, FDP_scatter_sorted\";\n",
       "                var nbb_cells = Jupyter.notebook.get_cells();\n",
       "                for (var i = 0; i < nbb_cells.length; ++i) {\n",
       "                    if (nbb_cells[i].input_prompt_number == nbb_cell_id) {\n",
       "                        if (nbb_cells[i].get_text() == nbb_unformatted_code) {\n",
       "                             nbb_cells[i].set_text(nbb_formatted_code);\n",
       "                        }\n",
       "                        break;\n",
       "                    }\n",
       "                }\n",
       "            }, 500);\n",
       "            "
      ],
      "text/plain": [
       "<IPython.core.display.Javascript object>"
      ]
     },
     "metadata": {},
     "output_type": "display_data"
    }
   ],
   "source": [
    "def cost_func(GDP, c0, c1):\n",
    "    return c0 + c1 * GDP\n",
    "\n",
    "\n",
    "def cost_curve_fit(GDP_data, FDP_data, region):\n",
    "    FDP_scatter = making_scatter_data(FDP_data[(FDP_data[\"region\"] == region)])\n",
    "    GDP_scatter = making_scatter_data(GDP_data[(GDP_data[\"region\"] == region)])\n",
    "    scatter_fit = sorted(list(zip(GDP_scatter, FDP_scatter)))\n",
    "    scatter_fit_truncat = []\n",
    "    for i in scatter_fit:\n",
    "        if i[1] >= 0:\n",
    "            scatter_fit_truncat.append(i)\n",
    "    GDP_scatter_sorted = np.array([i[0] for i in scatter_fit_truncat])\n",
    "    FDP_scatter_sorted = np.array([i[1] for i in scatter_fit_truncat])\n",
    "    c, cov = curve_fit(cost_func, GDP_scatter_sorted, FDP_scatter_sorted)\n",
    "\n",
    "    n = len(GDP_scatter_sorted)\n",
    "    fit_FDP = np.empty(n)\n",
    "    for i in range(n):\n",
    "        fit_FDP[i] = cost_func(GDP_scatter_sorted[i], c[0], c[1])\n",
    "    return c, cov, fit_FDP, GDP_scatter_sorted, FDP_scatter_sorted"
   ]
  },
  {
   "cell_type": "code",
   "execution_count": 297,
   "metadata": {},
   "outputs": [
    {
     "data": {
      "application/javascript": [
       "\n",
       "            setTimeout(function() {\n",
       "                var nbb_cell_id = 297;\n",
       "                var nbb_unformatted_code = \"def scatter(GDP_data, FDP_data):\\n\\n    fig, ax = plt.subplots(figsize=(8, 6))\\n    plt.yticks(fontname=\\\"Arial\\\", fontsize=14)\\n    plt.xticks(fontname=\\\"Arial\\\", fontsize=14)\\n    regions = [\\\"Eastern\\\", \\\"Western\\\", \\\"Central\\\"]\\n    colors = [(0.99, 0.91, 0.15), (0.21, 0.72, 0.47), (0.19, 0.41, 0.56)]\\n    year_range = range(2013, 2018)\\n    markers = [\\n        \\\",\\\",\\n        \\\"<\\\",\\n        \\\"o\\\",\\n        \\\"v\\\",\\n        \\\"p\\\",\\n    ]\\n    c_list = []\\n    fit_FDP_list = []\\n    FDP_scatter_sorted_list = []\\n    GDP_scatter_sorted_list = []\\n    for region, color in zip(regions, colors):\\n        for year, marker in zip(year_range, markers):\\n            ax.scatter(\\n                making_scatter_data(\\n                    GDP_data[\\n                        (GDP_data[\\\"region\\\"] == region) & (GDP_data[\\\"year\\\"] == year)\\n                    ]\\n                ),\\n                making_scatter_data(\\n                    FDP_data[\\n                        (FDP_data[\\\"region\\\"] == region) & (FDP_data[\\\"year\\\"] == year)\\n                    ]\\n                ),\\n                s=200,\\n                color=color,\\n                marker=marker,\\n                alpha=0.5,\\n            )\\n\\n        c, cov, fit_FDP, GDP_scatter_sorted, FDP_scatter_sorted = cost_curve_fit(\\n            GDP_data, FDP_data, region,\\n        )\\n        c_list.append((c, region))\\n        fit_FDP_list.append(fit_FDP)\\n        GDP_scatter_sorted_list.append(GDP_scatter_sorted)\\n        FDP_scatter_sorted_list.append(FDP_scatter_sorted)\\n        ax.plot(\\n            GDP_scatter_sorted, fit_FDP, linewidth=3, color=color, linestyle=\\\"dashed\\\"\\n        )\\n\\n    return ax, c_list, fit_FDP_list, GDP_scatter_sorted_list, FDP_scatter_sorted_list\";\n",
       "                var nbb_formatted_code = \"def scatter(GDP_data, FDP_data):\\n\\n    fig, ax = plt.subplots(figsize=(8, 6))\\n    plt.yticks(fontname=\\\"Arial\\\", fontsize=14)\\n    plt.xticks(fontname=\\\"Arial\\\", fontsize=14)\\n    regions = [\\\"Eastern\\\", \\\"Western\\\", \\\"Central\\\"]\\n    colors = [(0.99, 0.91, 0.15), (0.21, 0.72, 0.47), (0.19, 0.41, 0.56)]\\n    year_range = range(2013, 2018)\\n    markers = [\\n        \\\",\\\",\\n        \\\"<\\\",\\n        \\\"o\\\",\\n        \\\"v\\\",\\n        \\\"p\\\",\\n    ]\\n    c_list = []\\n    fit_FDP_list = []\\n    FDP_scatter_sorted_list = []\\n    GDP_scatter_sorted_list = []\\n    for region, color in zip(regions, colors):\\n        for year, marker in zip(year_range, markers):\\n            ax.scatter(\\n                making_scatter_data(\\n                    GDP_data[\\n                        (GDP_data[\\\"region\\\"] == region) & (GDP_data[\\\"year\\\"] == year)\\n                    ]\\n                ),\\n                making_scatter_data(\\n                    FDP_data[\\n                        (FDP_data[\\\"region\\\"] == region) & (FDP_data[\\\"year\\\"] == year)\\n                    ]\\n                ),\\n                s=200,\\n                color=color,\\n                marker=marker,\\n                alpha=0.5,\\n            )\\n\\n        c, cov, fit_FDP, GDP_scatter_sorted, FDP_scatter_sorted = cost_curve_fit(\\n            GDP_data, FDP_data, region,\\n        )\\n        c_list.append((c, region))\\n        fit_FDP_list.append(fit_FDP)\\n        GDP_scatter_sorted_list.append(GDP_scatter_sorted)\\n        FDP_scatter_sorted_list.append(FDP_scatter_sorted)\\n        ax.plot(\\n            GDP_scatter_sorted, fit_FDP, linewidth=3, color=color, linestyle=\\\"dashed\\\"\\n        )\\n\\n    return ax, c_list, fit_FDP_list, GDP_scatter_sorted_list, FDP_scatter_sorted_list\";\n",
       "                var nbb_cells = Jupyter.notebook.get_cells();\n",
       "                for (var i = 0; i < nbb_cells.length; ++i) {\n",
       "                    if (nbb_cells[i].input_prompt_number == nbb_cell_id) {\n",
       "                        if (nbb_cells[i].get_text() == nbb_unformatted_code) {\n",
       "                             nbb_cells[i].set_text(nbb_formatted_code);\n",
       "                        }\n",
       "                        break;\n",
       "                    }\n",
       "                }\n",
       "            }, 500);\n",
       "            "
      ],
      "text/plain": [
       "<IPython.core.display.Javascript object>"
      ]
     },
     "metadata": {},
     "output_type": "display_data"
    }
   ],
   "source": [
    "def scatter(GDP_data, FDP_data):\n",
    "\n",
    "    fig, ax = plt.subplots(figsize=(8, 6))\n",
    "    plt.yticks(fontname=\"Arial\", fontsize=14)\n",
    "    plt.xticks(fontname=\"Arial\", fontsize=14)\n",
    "    regions = [\"Eastern\", \"Western\", \"Central\"]\n",
    "    colors = [(0.99, 0.91, 0.15), (0.21, 0.72, 0.47), (0.19, 0.41, 0.56)]\n",
    "    year_range = range(2013, 2018)\n",
    "    markers = [\n",
    "        \",\",\n",
    "        \"<\",\n",
    "        \"o\",\n",
    "        \"v\",\n",
    "        \"p\",\n",
    "    ]\n",
    "    c_list = []\n",
    "    fit_FDP_list = []\n",
    "    FDP_scatter_sorted_list = []\n",
    "    GDP_scatter_sorted_list = []\n",
    "    for region, color in zip(regions, colors):\n",
    "        for year, marker in zip(year_range, markers):\n",
    "            ax.scatter(\n",
    "                making_scatter_data(\n",
    "                    GDP_data[\n",
    "                        (GDP_data[\"region\"] == region) & (GDP_data[\"year\"] == year)\n",
    "                    ]\n",
    "                ),\n",
    "                making_scatter_data(\n",
    "                    FDP_data[\n",
    "                        (FDP_data[\"region\"] == region) & (FDP_data[\"year\"] == year)\n",
    "                    ]\n",
    "                ),\n",
    "                s=200,\n",
    "                color=color,\n",
    "                marker=marker,\n",
    "                alpha=0.5,\n",
    "            )\n",
    "\n",
    "        c, cov, fit_FDP, GDP_scatter_sorted, FDP_scatter_sorted = cost_curve_fit(\n",
    "            GDP_data, FDP_data, region,\n",
    "        )\n",
    "        c_list.append((c, region))\n",
    "        fit_FDP_list.append(fit_FDP)\n",
    "        GDP_scatter_sorted_list.append(GDP_scatter_sorted)\n",
    "        FDP_scatter_sorted_list.append(FDP_scatter_sorted)\n",
    "        ax.plot(\n",
    "            GDP_scatter_sorted, fit_FDP, linewidth=3, color=color, linestyle=\"dashed\"\n",
    "        )\n",
    "\n",
    "    return ax, c_list, fit_FDP_list, GDP_scatter_sorted_list, FDP_scatter_sorted_list"
   ]
  },
  {
   "cell_type": "code",
   "execution_count": 306,
   "metadata": {},
   "outputs": [
    {
     "name": "stdout",
     "output_type": "stream",
     "text": [
      "slope = 0.17875753999659236 intercept = -5.377923733044533 p value = 6.165888930607333e-16\n",
      "slope = 0.07960283850081207 intercept = 7.28265017312815 p value = 6.607068042505574e-09\n",
      "slope = 0.20382083242482668 intercept = -4.897814152206063 p value = 3.373250669267027e-21\n"
     ]
    },
    {
     "data": {
      "image/png": "[encoded data removed]",
      "text/plain": [
       "<Figure size 576x432 with 1 Axes>"
      ]
     },
     "metadata": {
      "needs_background": "light"
     },
     "output_type": "display_data"
    },
    {
     "data": {
      "application/javascript": [
       "\n",
       "            setTimeout(function() {\n",
       "                var nbb_cell_id = 306;\n",
       "                var nbb_unformatted_code = \"ax, c_list, fit_FDP_list, GDP_scatter_sorted_list, FDP_scatter_sorted_list = scatter(\\n    GDP_difference, FDP_difference\\n)\\n\\nfor i in range(3):\\n    slope, intercept, r_value, p_value, std_err = stats.linregress(\\n        GDP_scatter_sorted_list[i], FDP_scatter_sorted_list[i]\\n    )\\n    print(\\\"slope = {} intercept = {} p value = {}\\\".format(slope, intercept,p_value))\\n\\nplt.savefig(\\n    r\\\"E:\\\\tencent files\\\\chrome Download\\\\Research\\\\DEA\\\\DEA_transport\\\\Graphs\\\\cost_benef.png\\\",\\n    transparent=True,\\n    dpi=600,\\n    bbox_inches=\\\"tight\\\",\\n)\";\n",
       "                var nbb_formatted_code = \"ax, c_list, fit_FDP_list, GDP_scatter_sorted_list, FDP_scatter_sorted_list = scatter(\\n    GDP_difference, FDP_difference\\n)\\n\\nfor i in range(3):\\n    slope, intercept, r_value, p_value, std_err = stats.linregress(\\n        GDP_scatter_sorted_list[i], FDP_scatter_sorted_list[i]\\n    )\\n    print(\\\"slope = {} intercept = {} p value = {}\\\".format(slope, intercept, p_value))\\n\\nplt.savefig(\\n    r\\\"E:\\\\tencent files\\\\chrome Download\\\\Research\\\\DEA\\\\DEA_transport\\\\Graphs\\\\cost_benef.png\\\",\\n    transparent=True,\\n    dpi=600,\\n    bbox_inches=\\\"tight\\\",\\n)\";\n",
       "                var nbb_cells = Jupyter.notebook.get_cells();\n",
       "                for (var i = 0; i < nbb_cells.length; ++i) {\n",
       "                    if (nbb_cells[i].input_prompt_number == nbb_cell_id) {\n",
       "                        if (nbb_cells[i].get_text() == nbb_unformatted_code) {\n",
       "                             nbb_cells[i].set_text(nbb_formatted_code);\n",
       "                        }\n",
       "                        break;\n",
       "                    }\n",
       "                }\n",
       "            }, 500);\n",
       "            "
      ],
      "text/plain": [
       "<IPython.core.display.Javascript object>"
      ]
     },
     "metadata": {},
     "output_type": "display_data"
    }
   ],
   "source": [
    "ax, c_list, fit_FDP_list, GDP_scatter_sorted_list, FDP_scatter_sorted_list = scatter(\n",
    "    GDP_difference, FDP_difference\n",
    ")\n",
    "\n",
    "for i in range(3):\n",
    "    slope, intercept, r_value, p_value, std_err = stats.linregress(\n",
    "        GDP_scatter_sorted_list[i], FDP_scatter_sorted_list[i]\n",
    "    )\n",
    "    print(\"slope = {} intercept = {} p value = {}\".format(slope, intercept, p_value))\n",
    "\n",
    "plt.savefig(\n",
    "    r\"E:\\tencent files\\chrome Download\\Research\\DEA\\DEA_transport\\Graphs\\cost_benef.png\",\n",
    "    transparent=True,\n",
    "    dpi=600,\n",
    "    bbox_inches=\"tight\",\n",
    ")"
   ]
  },
  {
   "cell_type": "code",
   "execution_count": 240,
   "metadata": {},
   "outputs": [
    {
     "data": {
      "text/plain": [
       "[(array([-5.37792375,  0.17875754]), 'Eastern'),\n",
       " (array([7.28265033, 0.07960284]), 'Western'),\n",
       " (array([-4.8978141 ,  0.20382083]), 'Central')]"
      ]
     },
     "execution_count": 240,
     "metadata": {},
     "output_type": "execute_result"
    },
    {
     "data": {
      "application/javascript": [
       "\n",
       "            setTimeout(function() {\n",
       "                var nbb_cell_id = 240;\n",
       "                var nbb_unformatted_code = \"c_list\";\n",
       "                var nbb_formatted_code = \"c_list\";\n",
       "                var nbb_cells = Jupyter.notebook.get_cells();\n",
       "                for (var i = 0; i < nbb_cells.length; ++i) {\n",
       "                    if (nbb_cells[i].input_prompt_number == nbb_cell_id) {\n",
       "                        if (nbb_cells[i].get_text() == nbb_unformatted_code) {\n",
       "                             nbb_cells[i].set_text(nbb_formatted_code);\n",
       "                        }\n",
       "                        break;\n",
       "                    }\n",
       "                }\n",
       "            }, 500);\n",
       "            "
      ],
      "text/plain": [
       "<IPython.core.display.Javascript object>"
      ]
     },
     "metadata": {},
     "output_type": "display_data"
    }
   ],
   "source": [
    "c_list"
   ]
  },
  {
   "cell_type": "code",
   "execution_count": 116,
   "metadata": {},
   "outputs": [
    {
     "data": {
      "application/javascript": [
       "\n",
       "            setTimeout(function() {\n",
       "                var nbb_cell_id = 116;\n",
       "                var nbb_unformatted_code = \"def breakeven_price(GDP_data, FDP_data):\\n    GDP_df = GDP_data.iloc[:, 3:]\\n    FDP_df = FDP_data.iloc[:, 3:]\\n\\n    energy_price = np.average(np.average(GDP_df)/np.average(FDP_df))\\n    return energy_price\";\n",
       "                var nbb_formatted_code = \"def breakeven_price(GDP_data, FDP_data):\\n    GDP_df = GDP_data.iloc[:, 3:]\\n    FDP_df = FDP_data.iloc[:, 3:]\\n\\n    energy_price = np.average(np.average(GDP_df) / np.average(FDP_df))\\n    return energy_price\";\n",
       "                var nbb_cells = Jupyter.notebook.get_cells();\n",
       "                for (var i = 0; i < nbb_cells.length; ++i) {\n",
       "                    if (nbb_cells[i].input_prompt_number == nbb_cell_id) {\n",
       "                        if (nbb_cells[i].get_text() == nbb_unformatted_code) {\n",
       "                             nbb_cells[i].set_text(nbb_formatted_code);\n",
       "                        }\n",
       "                        break;\n",
       "                    }\n",
       "                }\n",
       "            }, 500);\n",
       "            "
      ],
      "text/plain": [
       "<IPython.core.display.Javascript object>"
      ]
     },
     "metadata": {},
     "output_type": "display_data"
    }
   ],
   "source": [
    "def breakeven_price(GDP_data, FDP_data):\n",
    "    GDP_df = GDP_data.iloc[:, 3:]\n",
    "    FDP_df = FDP_data.iloc[:, 3:]\n",
    "\n",
    "    energy_price = np.average(np.average(GDP_df) / np.average(FDP_df))\n",
    "    return energy_price"
   ]
  },
  {
   "cell_type": "code",
   "execution_count": null,
   "metadata": {},
   "outputs": [],
   "source": [
    "    breakeven_df = GDP_df.divide(FDP_df)\n",
    "    df_restruc = breakeven_df.replace([np.inf, -np.inf], np.nan).fillna(value=0)"
   ]
  },
  {
   "cell_type": "code",
   "execution_count": 107,
   "metadata": {},
   "outputs": [
    {
     "data": {
      "application/javascript": [
       "\n",
       "            setTimeout(function() {\n",
       "                var nbb_cell_id = 107;\n",
       "                var nbb_unformatted_code = \"def group_bar_data(GDP_data, FDP_data):\\n    regions = [\\n        \\\"Eastern\\\",\\n        \\\"Central\\\",\\n        \\\"Western\\\",\\n    ]\\n    year_range = range(2013, 2018)\\n    data_dict = {}\\n    for region in regions:\\n        ls = []\\n        for year in year_range:\\n            data = breakeven_price(\\n                GDP_data[(GDP_data[\\\"region\\\"] == region) & (GDP_data[\\\"year\\\"] == year)],\\n                FDP_data[(FDP_data[\\\"region\\\"] == region) & (FDP_data[\\\"year\\\"] == year)],\\n            )\\n            ls.append(data)\\n        data_dict[region] = ls\\n    ls_nation = []\\n    for year in year_range:\\n        data = breakeven_price(\\n            GDP_data[(GDP_data[\\\"year\\\"] == year)], FDP_data[(FDP_data[\\\"year\\\"] == year)],\\n        )\\n        ls_nation.append(data)\\n    data_dict[\\\"nation\\\"] = ls_nation\\n    data = pd.DataFrame(data_dict, index=year_range)\\n    return data\";\n",
       "                var nbb_formatted_code = \"def group_bar_data(GDP_data, FDP_data):\\n    regions = [\\n        \\\"Eastern\\\",\\n        \\\"Central\\\",\\n        \\\"Western\\\",\\n    ]\\n    year_range = range(2013, 2018)\\n    data_dict = {}\\n    for region in regions:\\n        ls = []\\n        for year in year_range:\\n            data = breakeven_price(\\n                GDP_data[(GDP_data[\\\"region\\\"] == region) & (GDP_data[\\\"year\\\"] == year)],\\n                FDP_data[(FDP_data[\\\"region\\\"] == region) & (FDP_data[\\\"year\\\"] == year)],\\n            )\\n            ls.append(data)\\n        data_dict[region] = ls\\n    ls_nation = []\\n    for year in year_range:\\n        data = breakeven_price(\\n            GDP_data[(GDP_data[\\\"year\\\"] == year)], FDP_data[(FDP_data[\\\"year\\\"] == year)],\\n        )\\n        ls_nation.append(data)\\n    data_dict[\\\"nation\\\"] = ls_nation\\n    data = pd.DataFrame(data_dict, index=year_range)\\n    return data\";\n",
       "                var nbb_cells = Jupyter.notebook.get_cells();\n",
       "                for (var i = 0; i < nbb_cells.length; ++i) {\n",
       "                    if (nbb_cells[i].input_prompt_number == nbb_cell_id) {\n",
       "                        if (nbb_cells[i].get_text() == nbb_unformatted_code) {\n",
       "                             nbb_cells[i].set_text(nbb_formatted_code);\n",
       "                        }\n",
       "                        break;\n",
       "                    }\n",
       "                }\n",
       "            }, 500);\n",
       "            "
      ],
      "text/plain": [
       "<IPython.core.display.Javascript object>"
      ]
     },
     "metadata": {},
     "output_type": "display_data"
    }
   ],
   "source": [
    "def group_bar_data(GDP_data, FDP_data):\n",
    "    regions = [\n",
    "        \"Eastern\",\n",
    "        \"Central\",\n",
    "        \"Western\",\n",
    "    ]\n",
    "    year_range = range(2013, 2018)\n",
    "    data_dict = {}\n",
    "    for region in regions:\n",
    "        ls = []\n",
    "        for year in year_range:\n",
    "            data = breakeven_price(\n",
    "                GDP_data[(GDP_data[\"region\"] == region) & (GDP_data[\"year\"] == year)],\n",
    "                FDP_data[(FDP_data[\"region\"] == region) & (FDP_data[\"year\"] == year)],\n",
    "            )\n",
    "            ls.append(data)\n",
    "        data_dict[region] = ls\n",
    "    ls_nation = []\n",
    "    for year in year_range:\n",
    "        data = breakeven_price(\n",
    "            GDP_data[(GDP_data[\"year\"] == year)], FDP_data[(FDP_data[\"year\"] == year)],\n",
    "        )\n",
    "        ls_nation.append(data)\n",
    "    data_dict[\"nation\"] = ls_nation\n",
    "    data = pd.DataFrame(data_dict, index=year_range)\n",
    "    return data"
   ]
  },
  {
   "cell_type": "code",
   "execution_count": 117,
   "metadata": {},
   "outputs": [
    {
     "data": {
      "text/html": [
       "<div>\n",
       "<style scoped>\n",
       "    .dataframe tbody tr th:only-of-type {\n",
       "        vertical-align: middle;\n",
       "    }\n",
       "\n",
       "    .dataframe tbody tr th {\n",
       "        vertical-align: top;\n",
       "    }\n",
       "\n",
       "    .dataframe thead th {\n",
       "        text-align: right;\n",
       "    }\n",
       "</style>\n",
       "<table border=\"1\" class=\"dataframe\">\n",
       "  <thead>\n",
       "    <tr style=\"text-align: right;\">\n",
       "      <th></th>\n",
       "      <th>Eastern</th>\n",
       "      <th>Central</th>\n",
       "      <th>Western</th>\n",
       "      <th>nation</th>\n",
       "    </tr>\n",
       "  </thead>\n",
       "  <tbody>\n",
       "    <tr>\n",
       "      <th>2013</th>\n",
       "      <td>7.219257</td>\n",
       "      <td>5.312569</td>\n",
       "      <td>6.954461</td>\n",
       "      <td>6.485369</td>\n",
       "    </tr>\n",
       "    <tr>\n",
       "      <th>2014</th>\n",
       "      <td>8.699625</td>\n",
       "      <td>5.366506</td>\n",
       "      <td>6.841086</td>\n",
       "      <td>6.698425</td>\n",
       "    </tr>\n",
       "    <tr>\n",
       "      <th>2015</th>\n",
       "      <td>9.592415</td>\n",
       "      <td>5.486395</td>\n",
       "      <td>8.307103</td>\n",
       "      <td>7.275128</td>\n",
       "    </tr>\n",
       "    <tr>\n",
       "      <th>2016</th>\n",
       "      <td>7.656135</td>\n",
       "      <td>6.064703</td>\n",
       "      <td>10.259457</td>\n",
       "      <td>7.780074</td>\n",
       "    </tr>\n",
       "    <tr>\n",
       "      <th>2017</th>\n",
       "      <td>5.353348</td>\n",
       "      <td>6.044105</td>\n",
       "      <td>11.291383</td>\n",
       "      <td>6.960731</td>\n",
       "    </tr>\n",
       "  </tbody>\n",
       "</table>\n",
       "</div>"
      ],
      "text/plain": [
       "       Eastern   Central    Western    nation\n",
       "2013  7.219257  5.312569   6.954461  6.485369\n",
       "2014  8.699625  5.366506   6.841086  6.698425\n",
       "2015  9.592415  5.486395   8.307103  7.275128\n",
       "2016  7.656135  6.064703  10.259457  7.780074\n",
       "2017  5.353348  6.044105  11.291383  6.960731"
      ]
     },
     "execution_count": 117,
     "metadata": {},
     "output_type": "execute_result"
    },
    {
     "data": {
      "application/javascript": [
       "\n",
       "            setTimeout(function() {\n",
       "                var nbb_cell_id = 117;\n",
       "                var nbb_unformatted_code = \"group_bar_data(GDP_difference, FDP_difference)\";\n",
       "                var nbb_formatted_code = \"group_bar_data(GDP_difference, FDP_difference)\";\n",
       "                var nbb_cells = Jupyter.notebook.get_cells();\n",
       "                for (var i = 0; i < nbb_cells.length; ++i) {\n",
       "                    if (nbb_cells[i].input_prompt_number == nbb_cell_id) {\n",
       "                        if (nbb_cells[i].get_text() == nbb_unformatted_code) {\n",
       "                             nbb_cells[i].set_text(nbb_formatted_code);\n",
       "                        }\n",
       "                        break;\n",
       "                    }\n",
       "                }\n",
       "            }, 500);\n",
       "            "
      ],
      "text/plain": [
       "<IPython.core.display.Javascript object>"
      ]
     },
     "metadata": {},
     "output_type": "display_data"
    }
   ],
   "source": [
    "group_bar_data(GDP_difference, FDP_difference)"
   ]
  },
  {
   "cell_type": "code",
   "execution_count": 119,
   "metadata": {},
   "outputs": [
    {
     "data": {
      "application/javascript": [
       "\n",
       "            setTimeout(function() {\n",
       "                var nbb_cell_id = 119;\n",
       "                var nbb_unformatted_code = \"def group_bar_plot(GDP_data, FDP_data):\\n    data = group_bar_data(GDP_data, FDP_data).reset_index()\\n    data[\\\"index\\\"] = data[\\\"index\\\"].astype(str)\\n    data.set_index(\\\"index\\\", inplace=True)\\n    bar = data.iloc[:, :-1]\\n\\n    colors = ((0.25, 0.60, 0.84), (0.96, 0.78, 0.40), (0.48, 0.38, 0.73))\\n    my_cmap = mpl.colors.ListedColormap(colors, name=\\\"my_colormap_name\\\")\\n\\n    fig, ax = plt.subplots()\\n    data[\\\"nation\\\"].plot(\\n        linestyle=\\\"--\\\", linewidth=2, color=\\\"grey\\\", marker=\\\"o\\\", markersize=10, ax=ax,\\n    )\\n    data[[\\\"Eastern\\\", \\\"Central\\\", \\\"Western\\\"]].plot(\\n        kind=\\\"bar\\\", cmap=my_cmap, width=0.84, ax=ax\\n    )\\n    plt.ylim((0, 16))\\n    plt.yticks(fontname=\\\"Arial\\\", fontsize=14)\\n    plt.xticks(fontname=\\\"Arial\\\", fontsize=14, rotation=0)\\n    ax.get_legend().remove()\";\n",
       "                var nbb_formatted_code = \"def group_bar_plot(GDP_data, FDP_data):\\n    data = group_bar_data(GDP_data, FDP_data).reset_index()\\n    data[\\\"index\\\"] = data[\\\"index\\\"].astype(str)\\n    data.set_index(\\\"index\\\", inplace=True)\\n    bar = data.iloc[:, :-1]\\n\\n    colors = ((0.25, 0.60, 0.84), (0.96, 0.78, 0.40), (0.48, 0.38, 0.73))\\n    my_cmap = mpl.colors.ListedColormap(colors, name=\\\"my_colormap_name\\\")\\n\\n    fig, ax = plt.subplots()\\n    data[\\\"nation\\\"].plot(\\n        linestyle=\\\"--\\\", linewidth=2, color=\\\"grey\\\", marker=\\\"o\\\", markersize=10, ax=ax,\\n    )\\n    data[[\\\"Eastern\\\", \\\"Central\\\", \\\"Western\\\"]].plot(\\n        kind=\\\"bar\\\", cmap=my_cmap, width=0.84, ax=ax\\n    )\\n    plt.ylim((0, 16))\\n    plt.yticks(fontname=\\\"Arial\\\", fontsize=14)\\n    plt.xticks(fontname=\\\"Arial\\\", fontsize=14, rotation=0)\\n    ax.get_legend().remove()\";\n",
       "                var nbb_cells = Jupyter.notebook.get_cells();\n",
       "                for (var i = 0; i < nbb_cells.length; ++i) {\n",
       "                    if (nbb_cells[i].input_prompt_number == nbb_cell_id) {\n",
       "                        if (nbb_cells[i].get_text() == nbb_unformatted_code) {\n",
       "                             nbb_cells[i].set_text(nbb_formatted_code);\n",
       "                        }\n",
       "                        break;\n",
       "                    }\n",
       "                }\n",
       "            }, 500);\n",
       "            "
      ],
      "text/plain": [
       "<IPython.core.display.Javascript object>"
      ]
     },
     "metadata": {},
     "output_type": "display_data"
    }
   ],
   "source": [
    "def group_bar_plot(GDP_data, FDP_data):\n",
    "    data = group_bar_data(GDP_data, FDP_data).reset_index()\n",
    "    data[\"index\"] = data[\"index\"].astype(str)\n",
    "    data.set_index(\"index\", inplace=True)\n",
    "    bar = data.iloc[:, :-1]\n",
    "\n",
    "    colors = ((0.25, 0.60, 0.84), (0.96, 0.78, 0.40), (0.48, 0.38, 0.73))\n",
    "    my_cmap = mpl.colors.ListedColormap(colors, name=\"my_colormap_name\")\n",
    "\n",
    "    fig, ax = plt.subplots()\n",
    "    data[\"nation\"].plot(\n",
    "        linestyle=\"--\", linewidth=2, color=\"grey\", marker=\"o\", markersize=10, ax=ax,\n",
    "    )\n",
    "    data[[\"Eastern\", \"Central\", \"Western\"]].plot(\n",
    "        kind=\"bar\", cmap=my_cmap, width=0.84, ax=ax\n",
    "    )\n",
    "    plt.ylim((0, 16))\n",
    "    plt.yticks(fontname=\"Arial\", fontsize=14)\n",
    "    plt.xticks(fontname=\"Arial\", fontsize=14, rotation=0)\n",
    "    ax.get_legend().remove()"
   ]
  },
  {
   "cell_type": "code",
   "execution_count": 120,
   "metadata": {},
   "outputs": [
    {
     "data": {
      "image/png": "[encoded data removed]",
      "text/plain": [
       "<Figure size 432x288 with 1 Axes>"
      ]
     },
     "metadata": {
      "needs_background": "light"
     },
     "output_type": "display_data"
    },
    {
     "data": {
      "application/javascript": [
       "\n",
       "            setTimeout(function() {\n",
       "                var nbb_cell_id = 120;\n",
       "                var nbb_unformatted_code = \"group_bar_plot(GDP_difference, FDP_difference)\\n\\nplt.savefig(\\n    r\\\"E:\\\\tencent files\\\\chrome Download\\\\Research\\\\DEA\\\\DEA_transport\\\\Graphs\\\\cost_benef_groupbar.png\\\",\\n    transparent=True,\\n    dpi=600,\\n    bbox_inches=\\\"tight\\\",\\n)\";\n",
       "                var nbb_formatted_code = \"group_bar_plot(GDP_difference, FDP_difference)\\n\\nplt.savefig(\\n    r\\\"E:\\\\tencent files\\\\chrome Download\\\\Research\\\\DEA\\\\DEA_transport\\\\Graphs\\\\cost_benef_groupbar.png\\\",\\n    transparent=True,\\n    dpi=600,\\n    bbox_inches=\\\"tight\\\",\\n)\";\n",
       "                var nbb_cells = Jupyter.notebook.get_cells();\n",
       "                for (var i = 0; i < nbb_cells.length; ++i) {\n",
       "                    if (nbb_cells[i].input_prompt_number == nbb_cell_id) {\n",
       "                        if (nbb_cells[i].get_text() == nbb_unformatted_code) {\n",
       "                             nbb_cells[i].set_text(nbb_formatted_code);\n",
       "                        }\n",
       "                        break;\n",
       "                    }\n",
       "                }\n",
       "            }, 500);\n",
       "            "
      ],
      "text/plain": [
       "<IPython.core.display.Javascript object>"
      ]
     },
     "metadata": {},
     "output_type": "display_data"
    }
   ],
   "source": [
    "group_bar_plot(GDP_difference, FDP_difference)\n",
    "\n",
    "plt.savefig(\n",
    "    r\"E:\\tencent files\\chrome Download\\Research\\DEA\\DEA_transport\\Graphs\\cost_benef_groupbar.png\",\n",
    "    transparent=True,\n",
    "    dpi=600,\n",
    "    bbox_inches=\"tight\",\n",
    ")"
   ]
  },
  {
   "cell_type": "code",
   "execution_count": 113,
   "metadata": {},
   "outputs": [
    {
     "data": {
      "text/plain": [
       "6991.953756826805"
      ]
     },
     "execution_count": 113,
     "metadata": {},
     "output_type": "execute_result"
    },
    {
     "data": {
      "application/javascript": [
       "\n",
       "            setTimeout(function() {\n",
       "                var nbb_cell_id = 113;\n",
       "                var nbb_unformatted_code = \"np.average(GDP_difference[GDP_difference[\\\"region\\\"] == \\\"Eastern\\\"].iloc[:, 3:].fillna(value=0)) * 55\";\n",
       "                var nbb_formatted_code = \"np.average(\\n    GDP_difference[GDP_difference[\\\"region\\\"] == \\\"Eastern\\\"].iloc[:, 3:].fillna(value=0)\\n) * 55\";\n",
       "                var nbb_cells = Jupyter.notebook.get_cells();\n",
       "                for (var i = 0; i < nbb_cells.length; ++i) {\n",
       "                    if (nbb_cells[i].input_prompt_number == nbb_cell_id) {\n",
       "                        if (nbb_cells[i].get_text() == nbb_unformatted_code) {\n",
       "                             nbb_cells[i].set_text(nbb_formatted_code);\n",
       "                        }\n",
       "                        break;\n",
       "                    }\n",
       "                }\n",
       "            }, 500);\n",
       "            "
      ],
      "text/plain": [
       "<IPython.core.display.Javascript object>"
      ]
     },
     "metadata": {},
     "output_type": "display_data"
    }
   ],
   "source": [
    "np.average(\n",
    "    GDP_difference[GDP_difference[\"region\"] == \"Eastern\"].iloc[:, 3:].fillna(value=0)\n",
    ") * 55"
   ]
  },
  {
   "cell_type": "code",
   "execution_count": 114,
   "metadata": {},
   "outputs": [
    {
     "data": {
      "text/plain": [
       "1069.2334147095435"
      ]
     },
     "execution_count": 114,
     "metadata": {},
     "output_type": "execute_result"
    },
    {
     "data": {
      "application/javascript": [
       "\n",
       "            setTimeout(function() {\n",
       "                var nbb_cell_id = 114;\n",
       "                var nbb_unformatted_code = \"np.average(FDP_difference[FDP_difference[\\\"region\\\"] == \\\"Western\\\"].iloc[:, 3:].fillna(value=0)) * 55\";\n",
       "                var nbb_formatted_code = \"np.average(\\n    FDP_difference[FDP_difference[\\\"region\\\"] == \\\"Western\\\"].iloc[:, 3:].fillna(value=0)\\n) * 55\";\n",
       "                var nbb_cells = Jupyter.notebook.get_cells();\n",
       "                for (var i = 0; i < nbb_cells.length; ++i) {\n",
       "                    if (nbb_cells[i].input_prompt_number == nbb_cell_id) {\n",
       "                        if (nbb_cells[i].get_text() == nbb_unformatted_code) {\n",
       "                             nbb_cells[i].set_text(nbb_formatted_code);\n",
       "                        }\n",
       "                        break;\n",
       "                    }\n",
       "                }\n",
       "            }, 500);\n",
       "            "
      ],
      "text/plain": [
       "<IPython.core.display.Javascript object>"
      ]
     },
     "metadata": {},
     "output_type": "display_data"
    }
   ],
   "source": [
    "np.average(\n",
    "    FDP_difference[FDP_difference[\"region\"] == \"Western\"].iloc[:, 3:].fillna(value=0)\n",
    ") * 55"
   ]
  },
  {
   "cell_type": "code",
   "execution_count": 100,
   "metadata": {},
   "outputs": [
    {
     "data": {
      "text/plain": [
       "40"
      ]
     },
     "execution_count": 100,
     "metadata": {},
     "output_type": "execute_result"
    },
    {
     "data": {
      "application/javascript": [
       "\n",
       "            setTimeout(function() {\n",
       "                var nbb_cell_id = 100;\n",
       "                var nbb_unformatted_code = \"len(GDP_difference[GDP_difference[\\\"region\\\"] == \\\"Central\\\"])\";\n",
       "                var nbb_formatted_code = \"len(GDP_difference[GDP_difference[\\\"region\\\"] == \\\"Central\\\"])\";\n",
       "                var nbb_cells = Jupyter.notebook.get_cells();\n",
       "                for (var i = 0; i < nbb_cells.length; ++i) {\n",
       "                    if (nbb_cells[i].input_prompt_number == nbb_cell_id) {\n",
       "                        if (nbb_cells[i].get_text() == nbb_unformatted_code) {\n",
       "                             nbb_cells[i].set_text(nbb_formatted_code);\n",
       "                        }\n",
       "                        break;\n",
       "                    }\n",
       "                }\n",
       "            }, 500);\n",
       "            "
      ],
      "text/plain": [
       "<IPython.core.display.Javascript object>"
      ]
     },
     "metadata": {},
     "output_type": "display_data"
    }
   ],
   "source": [
    "len(GDP_difference[GDP_difference[\"region\"] == \"Central\"])"
   ]
  },
  {
   "cell_type": "code",
   "execution_count": 115,
   "metadata": {},
   "outputs": [
    {
     "data": {
      "text/plain": [
       "1277.2807741754623"
      ]
     },
     "execution_count": 115,
     "metadata": {},
     "output_type": "execute_result"
    },
    {
     "data": {
      "application/javascript": [
       "\n",
       "            setTimeout(function() {\n",
       "                var nbb_cell_id = 115;\n",
       "                var nbb_unformatted_code = \"np.average(FDP_difference[FDP_difference[\\\"region\\\"] == \\\"Central\\\"].iloc[:, 3:].fillna(value=0)) * 40\";\n",
       "                var nbb_formatted_code = \"np.average(\\n    FDP_difference[FDP_difference[\\\"region\\\"] == \\\"Central\\\"].iloc[:, 3:].fillna(value=0)\\n) * 40\";\n",
       "                var nbb_cells = Jupyter.notebook.get_cells();\n",
       "                for (var i = 0; i < nbb_cells.length; ++i) {\n",
       "                    if (nbb_cells[i].input_prompt_number == nbb_cell_id) {\n",
       "                        if (nbb_cells[i].get_text() == nbb_unformatted_code) {\n",
       "                             nbb_cells[i].set_text(nbb_formatted_code);\n",
       "                        }\n",
       "                        break;\n",
       "                    }\n",
       "                }\n",
       "            }, 500);\n",
       "            "
      ],
      "text/plain": [
       "<IPython.core.display.Javascript object>"
      ]
     },
     "metadata": {},
     "output_type": "display_data"
    }
   ],
   "source": [
    "np.average(\n",
    "    FDP_difference[FDP_difference[\"region\"] == \"Central\"].iloc[:, 3:].fillna(value=0)\n",
    ") * 40"
   ]
  },
  {
   "cell_type": "code",
   "execution_count": 105,
   "metadata": {},
   "outputs": [
    {
     "data": {
      "text/plain": [
       "3307.545489110539"
      ]
     },
     "execution_count": 105,
     "metadata": {},
     "output_type": "execute_result"
    },
    {
     "data": {
      "application/javascript": [
       "\n",
       "            setTimeout(function() {\n",
       "                var nbb_cell_id = 105;\n",
       "                var nbb_unformatted_code = \"np.average(FDP_difference.iloc[:, 3:]) * 150\";\n",
       "                var nbb_formatted_code = \"np.average(FDP_difference.iloc[:, 3:]) * 150\";\n",
       "                var nbb_cells = Jupyter.notebook.get_cells();\n",
       "                for (var i = 0; i < nbb_cells.length; ++i) {\n",
       "                    if (nbb_cells[i].input_prompt_number == nbb_cell_id) {\n",
       "                        if (nbb_cells[i].get_text() == nbb_unformatted_code) {\n",
       "                             nbb_cells[i].set_text(nbb_formatted_code);\n",
       "                        }\n",
       "                        break;\n",
       "                    }\n",
       "                }\n",
       "            }, 500);\n",
       "            "
      ],
      "text/plain": [
       "<IPython.core.display.Javascript object>"
      ]
     },
     "metadata": {},
     "output_type": "display_data"
    }
   ],
   "source": [
    "np.average(FDP_difference.iloc[:, 3:]) * 150"
   ]
  },
  {
   "cell_type": "code",
   "execution_count": null,
   "metadata": {},
   "outputs": [],
   "source": [
    "FDP_difference"
   ]
  }
 ],
 "metadata": {
  "kernelspec": {
   "display_name": "Python [conda env:LC_DEA]",
   "language": "python",
   "name": "conda-env-LC_DEA-py"
  },
  "language_info": {
   "codemirror_mode": {
    "name": "ipython",
    "version": 3
   },
   "file_extension": ".py",
   "mimetype": "text/x-python",
   "name": "python",
   "nbconvert_exporter": "python",
   "pygments_lexer": "ipython3",
   "version": "3.8.3"
  },
  "toc": {
   "base_numbering": 1,
   "nav_menu": {},
   "number_sections": true,
   "sideBar": true,
   "skip_h1_title": false,
   "title_cell": "Table of Contents",
   "title_sidebar": "Contents",
   "toc_cell": false,
   "toc_position": {},
   "toc_section_display": true,
   "toc_window_display": false
  }
 },
 "nbformat": 4,
 "nbformat_minor": 4
}
