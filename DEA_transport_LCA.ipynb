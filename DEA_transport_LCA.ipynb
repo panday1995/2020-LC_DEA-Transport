{
 "cells": [
  {
   "cell_type": "code",
   "execution_count": 2,
   "metadata": {
    "scrolled": true
   },
   "outputs": [
    {
     "data": {
      "application/javascript": [
       "\n",
       "            setTimeout(function() {\n",
       "                var nbb_cell_id = 2;\n",
       "                var nbb_unformatted_code = \"from multiprocessing import Pool\\nimport brightway2 as bw\\nimport numpy as np\\nimport os\\nimport pandas as pd\\nimport pickle\\n\\n%load_ext nb_black\";\n",
       "                var nbb_formatted_code = \"from multiprocessing import Pool\\nimport brightway2 as bw\\nimport numpy as np\\nimport os\\nimport pandas as pd\\nimport pickle\\n\\n%load_ext nb_black\";\n",
       "                var nbb_cells = Jupyter.notebook.get_cells();\n",
       "                for (var i = 0; i < nbb_cells.length; ++i) {\n",
       "                    if (nbb_cells[i].input_prompt_number == nbb_cell_id) {\n",
       "                        if (nbb_cells[i].get_text() == nbb_unformatted_code) {\n",
       "                             nbb_cells[i].set_text(nbb_formatted_code);\n",
       "                        }\n",
       "                        break;\n",
       "                    }\n",
       "                }\n",
       "            }, 500);\n",
       "            "
      ],
      "text/plain": [
       "<IPython.core.display.Javascript object>"
      ]
     },
     "metadata": {},
     "output_type": "display_data"
    }
   ],
   "source": [
    "from multiprocessing import Pool\n",
    "import brightway2 as bw\n",
    "import numpy as np\n",
    "import os\n",
    "import pandas as pd\n",
    "import pickle\n",
    "\n",
    "%load_ext nb_black"
   ]
  },
  {
   "cell_type": "code",
   "execution_count": 3,
   "metadata": {},
   "outputs": [
    {
     "data": {
      "application/javascript": [
       "\n",
       "            setTimeout(function() {\n",
       "                var nbb_cell_id = 3;\n",
       "                var nbb_unformatted_code = \"# \\u5bfc\\u5165\\u4e0d\\u540c\\u8fd0\\u8f93\\u6a21\\u5f0f\\u7684\\u5468\\u8f6c\\u91cf\\u6570\\u636e\\nactivity_data = pd.read_excel(\\n    r\\\"E:\\\\tencent files\\\\chrome Download\\\\Research\\\\DEA\\\\DEA_transport\\\\Data_input\\\\data.xlsx\\\",\\n    sheet_name=\\\"activity_data\\\",\\n    index_col=0,\\n)\";\n",
       "                var nbb_formatted_code = \"# \\u5bfc\\u5165\\u4e0d\\u540c\\u8fd0\\u8f93\\u6a21\\u5f0f\\u7684\\u5468\\u8f6c\\u91cf\\u6570\\u636e\\nactivity_data = pd.read_excel(\\n    r\\\"E:\\\\tencent files\\\\chrome Download\\\\Research\\\\DEA\\\\DEA_transport\\\\Data_input\\\\data.xlsx\\\",\\n    sheet_name=\\\"activity_data\\\",\\n    index_col=0,\\n)\";\n",
       "                var nbb_cells = Jupyter.notebook.get_cells();\n",
       "                for (var i = 0; i < nbb_cells.length; ++i) {\n",
       "                    if (nbb_cells[i].input_prompt_number == nbb_cell_id) {\n",
       "                        if (nbb_cells[i].get_text() == nbb_unformatted_code) {\n",
       "                             nbb_cells[i].set_text(nbb_formatted_code);\n",
       "                        }\n",
       "                        break;\n",
       "                    }\n",
       "                }\n",
       "            }, 500);\n",
       "            "
      ],
      "text/plain": [
       "<IPython.core.display.Javascript object>"
      ]
     },
     "metadata": {},
     "output_type": "display_data"
    }
   ],
   "source": [
    "# 导入不同运输模式的周转量数据\n",
    "activity_data = pd.read_excel(\n",
    "    r\"E:\\tencent files\\chrome Download\\Research\\DEA\\DEA_transport\\Data_input\\data.xlsx\",\n",
    "    sheet_name=\"activity_data\",\n",
    "    index_col=0,\n",
    ")"
   ]
  },
  {
   "cell_type": "code",
   "execution_count": 4,
   "metadata": {},
   "outputs": [
    {
     "data": {
      "text/plain": [
       "Index(['year', '公路旅客(亿 person*km)', '铁路旅客(亿 person*km)',\n",
       "       '航空旅客(10^8 person*km)', '水路旅客(亿 person*km)', '公路货物(10^8 ton*km)',\n",
       "       '铁路货物(亿ton*km)', '水路货物(ton*km)', '航空货物(亿 ton*km)',\n",
       "       '管道 货物周转量(亿 ton*km)'],\n",
       "      dtype='object')"
      ]
     },
     "execution_count": 4,
     "metadata": {},
     "output_type": "execute_result"
    },
    {
     "data": {
      "application/javascript": [
       "\n",
       "            setTimeout(function() {\n",
       "                var nbb_cell_id = 4;\n",
       "                var nbb_unformatted_code = \"activity_data.columns\";\n",
       "                var nbb_formatted_code = \"activity_data.columns\";\n",
       "                var nbb_cells = Jupyter.notebook.get_cells();\n",
       "                for (var i = 0; i < nbb_cells.length; ++i) {\n",
       "                    if (nbb_cells[i].input_prompt_number == nbb_cell_id) {\n",
       "                        if (nbb_cells[i].get_text() == nbb_unformatted_code) {\n",
       "                             nbb_cells[i].set_text(nbb_formatted_code);\n",
       "                        }\n",
       "                        break;\n",
       "                    }\n",
       "                }\n",
       "            }, 500);\n",
       "            "
      ],
      "text/plain": [
       "<IPython.core.display.Javascript object>"
      ]
     },
     "metadata": {},
     "output_type": "display_data"
    }
   ],
   "source": [
    "activity_data.columns"
   ]
  },
  {
   "cell_type": "code",
   "execution_count": 5,
   "metadata": {},
   "outputs": [
    {
     "data": {
      "text/plain": [
       "Index(['activity_name', 'location', 2013, 2014, 2015, 2016, 2017], dtype='object')"
      ]
     },
     "execution_count": 5,
     "metadata": {},
     "output_type": "execute_result"
    },
    {
     "data": {
      "application/javascript": [
       "\n",
       "            setTimeout(function() {\n",
       "                var nbb_cell_id = 5;\n",
       "                var nbb_unformatted_code = \"# \\u4e0d\\u540c\\u8fd0\\u8f93\\u6a21\\u578b\\u7684LCA\\u540d\\u79f0\\nactivity_eidb_df = pd.read_excel(\\n    r\\\"E:\\\\tencent files\\\\chrome Download\\\\Research\\\\DEA\\\\DEA_transport\\\\Data_input\\\\data.xlsx\\\",\\n    sheet_name=\\\"lca_EF\\\",\\n    index_col=0,\\n)\\nactivity_eidb_df.columns\";\n",
       "                var nbb_formatted_code = \"# \\u4e0d\\u540c\\u8fd0\\u8f93\\u6a21\\u578b\\u7684LCA\\u540d\\u79f0\\nactivity_eidb_df = pd.read_excel(\\n    r\\\"E:\\\\tencent files\\\\chrome Download\\\\Research\\\\DEA\\\\DEA_transport\\\\Data_input\\\\data.xlsx\\\",\\n    sheet_name=\\\"lca_EF\\\",\\n    index_col=0,\\n)\\nactivity_eidb_df.columns\";\n",
       "                var nbb_cells = Jupyter.notebook.get_cells();\n",
       "                for (var i = 0; i < nbb_cells.length; ++i) {\n",
       "                    if (nbb_cells[i].input_prompt_number == nbb_cell_id) {\n",
       "                        if (nbb_cells[i].get_text() == nbb_unformatted_code) {\n",
       "                             nbb_cells[i].set_text(nbb_formatted_code);\n",
       "                        }\n",
       "                        break;\n",
       "                    }\n",
       "                }\n",
       "            }, 500);\n",
       "            "
      ],
      "text/plain": [
       "<IPython.core.display.Javascript object>"
      ]
     },
     "metadata": {},
     "output_type": "display_data"
    }
   ],
   "source": [
    "# 不同运输模型的LCA名称\n",
    "activity_eidb_df = pd.read_excel(\n",
    "    r\"E:\\tencent files\\chrome Download\\Research\\DEA\\DEA_transport\\Data_input\\data.xlsx\",\n",
    "    sheet_name=\"lca_EF\",\n",
    "    index_col=0,\n",
    ")\n",
    "activity_eidb_df.columns"
   ]
  },
  {
   "cell_type": "code",
   "execution_count": 6,
   "metadata": {},
   "outputs": [
    {
     "data": {
      "application/javascript": [
       "\n",
       "            setTimeout(function() {\n",
       "                var nbb_cell_id = 6;\n",
       "                var nbb_unformatted_code = \"if \\\"ecoinvent 3.6\\\" not in bw.databases:\\n    link = \\\"E:\\\\ecoinvent3.6cutoffecoSpold02\\\\datasets\\\"\\n    ei36 = bw.SingleOutputEcospold2Importer(link, \\\"ecoinvent 3.6\\\", use_mp=False)\\n    ei36.apply_strategies()\\n    ei36.statistics()\\n    ei36.write_database()\";\n",
       "                var nbb_formatted_code = \"if \\\"ecoinvent 3.6\\\" not in bw.databases:\\n    link = \\\"E:\\\\ecoinvent3.6cutoffecoSpold02\\\\datasets\\\"\\n    ei36 = bw.SingleOutputEcospold2Importer(link, \\\"ecoinvent 3.6\\\", use_mp=False)\\n    ei36.apply_strategies()\\n    ei36.statistics()\\n    ei36.write_database()\";\n",
       "                var nbb_cells = Jupyter.notebook.get_cells();\n",
       "                for (var i = 0; i < nbb_cells.length; ++i) {\n",
       "                    if (nbb_cells[i].input_prompt_number == nbb_cell_id) {\n",
       "                        if (nbb_cells[i].get_text() == nbb_unformatted_code) {\n",
       "                             nbb_cells[i].set_text(nbb_formatted_code);\n",
       "                        }\n",
       "                        break;\n",
       "                    }\n",
       "                }\n",
       "            }, 500);\n",
       "            "
      ],
      "text/plain": [
       "<IPython.core.display.Javascript object>"
      ]
     },
     "metadata": {},
     "output_type": "display_data"
    }
   ],
   "source": [
    "if \"ecoinvent 3.6\" not in bw.databases:\n",
    "    link = \"E:\\ecoinvent3.6cutoffecoSpold02\\datasets\"\n",
    "    ei36 = bw.SingleOutputEcospold2Importer(link, \"ecoinvent 3.6\", use_mp=False)\n",
    "    ei36.apply_strategies()\n",
    "    ei36.statistics()\n",
    "    ei36.write_database()"
   ]
  },
  {
   "cell_type": "code",
   "execution_count": 7,
   "metadata": {},
   "outputs": [
    {
     "data": {
      "text/html": [
       "<div>\n",
       "<style scoped>\n",
       "    .dataframe tbody tr th:only-of-type {\n",
       "        vertical-align: middle;\n",
       "    }\n",
       "\n",
       "    .dataframe tbody tr th {\n",
       "        vertical-align: top;\n",
       "    }\n",
       "\n",
       "    .dataframe thead th {\n",
       "        text-align: right;\n",
       "    }\n",
       "</style>\n",
       "<table border=\"1\" class=\"dataframe\">\n",
       "  <thead>\n",
       "    <tr style=\"text-align: right;\">\n",
       "      <th></th>\n",
       "      <th>input</th>\n",
       "      <th>output</th>\n",
       "      <th>row</th>\n",
       "      <th>col</th>\n",
       "      <th>type</th>\n",
       "      <th>uncertainty_type</th>\n",
       "      <th>amount</th>\n",
       "      <th>loc</th>\n",
       "      <th>scale</th>\n",
       "      <th>shape</th>\n",
       "      <th>minimum</th>\n",
       "      <th>maximum</th>\n",
       "      <th>negative</th>\n",
       "    </tr>\n",
       "  </thead>\n",
       "  <tbody>\n",
       "    <tr>\n",
       "      <th>0</th>\n",
       "      <td>1</td>\n",
       "      <td>5476</td>\n",
       "      <td>4294967295</td>\n",
       "      <td>4294967295</td>\n",
       "      <td>2</td>\n",
       "      <td>0</td>\n",
       "      <td>7.897230e-12</td>\n",
       "      <td>7.897230e-12</td>\n",
       "      <td>NaN</td>\n",
       "      <td>NaN</td>\n",
       "      <td>NaN</td>\n",
       "      <td>NaN</td>\n",
       "      <td>False</td>\n",
       "    </tr>\n",
       "    <tr>\n",
       "      <th>1</th>\n",
       "      <td>1</td>\n",
       "      <td>5534</td>\n",
       "      <td>4294967295</td>\n",
       "      <td>4294967295</td>\n",
       "      <td>2</td>\n",
       "      <td>0</td>\n",
       "      <td>1.602601e-09</td>\n",
       "      <td>1.602601e-09</td>\n",
       "      <td>NaN</td>\n",
       "      <td>NaN</td>\n",
       "      <td>NaN</td>\n",
       "      <td>NaN</td>\n",
       "      <td>False</td>\n",
       "    </tr>\n",
       "  </tbody>\n",
       "</table>\n",
       "</div>"
      ],
      "text/plain": [
       "   input  output         row         col  type  uncertainty_type  \\\n",
       "0      1    5476  4294967295  4294967295     2                 0   \n",
       "1      1    5534  4294967295  4294967295     2                 0   \n",
       "\n",
       "         amount           loc  scale  shape  minimum  maximum  negative  \n",
       "0  7.897230e-12  7.897230e-12    NaN    NaN      NaN      NaN     False  \n",
       "1  1.602601e-09  1.602601e-09    NaN    NaN      NaN      NaN     False  "
      ]
     },
     "execution_count": 7,
     "metadata": {},
     "output_type": "execute_result"
    },
    {
     "data": {
      "application/javascript": [
       "\n",
       "            setTimeout(function() {\n",
       "                var nbb_cell_id = 7;\n",
       "                var nbb_unformatted_code = \"eidb = bw.Database(\\\"ecoinvent 3.6\\\")\\nstructured_array = np.load(eidb.filepath_processed())\\npd.DataFrame(structured_array).head(2)\";\n",
       "                var nbb_formatted_code = \"eidb = bw.Database(\\\"ecoinvent 3.6\\\")\\nstructured_array = np.load(eidb.filepath_processed())\\npd.DataFrame(structured_array).head(2)\";\n",
       "                var nbb_cells = Jupyter.notebook.get_cells();\n",
       "                for (var i = 0; i < nbb_cells.length; ++i) {\n",
       "                    if (nbb_cells[i].input_prompt_number == nbb_cell_id) {\n",
       "                        if (nbb_cells[i].get_text() == nbb_unformatted_code) {\n",
       "                             nbb_cells[i].set_text(nbb_formatted_code);\n",
       "                        }\n",
       "                        break;\n",
       "                    }\n",
       "                }\n",
       "            }, 500);\n",
       "            "
      ],
      "text/plain": [
       "<IPython.core.display.Javascript object>"
      ]
     },
     "metadata": {},
     "output_type": "display_data"
    }
   ],
   "source": [
    "eidb = bw.Database(\"ecoinvent 3.6\")\n",
    "structured_array = np.load(eidb.filepath_processed())\n",
    "pd.DataFrame(structured_array).head(2)"
   ]
  },
  {
   "cell_type": "code",
   "execution_count": 8,
   "metadata": {},
   "outputs": [
    {
     "data": {
      "application/javascript": [
       "\n",
       "            setTimeout(function() {\n",
       "                var nbb_cell_id = 8;\n",
       "                var nbb_unformatted_code = \"ReCiPe = [\\n    method\\n    for method in bw.methods\\n    if \\\"ReCiPe Midpoint (H) V1.13\\\" in str(method)\\n    and \\\"w/o LT\\\" not in str(method)\\n    and \\\"no LT\\\" not in str(method)\\n    and \\\"obsolete\\\" not in str(method)\\n]\\n\\nlcia = [\\\"GWP100\\\", \\\"PMFP\\\", \\\"FDP\\\"]\\n\\nindicators = [i for i in ReCiPe if i[2] in lcia]\";\n",
       "                var nbb_formatted_code = \"ReCiPe = [\\n    method\\n    for method in bw.methods\\n    if \\\"ReCiPe Midpoint (H) V1.13\\\" in str(method)\\n    and \\\"w/o LT\\\" not in str(method)\\n    and \\\"no LT\\\" not in str(method)\\n    and \\\"obsolete\\\" not in str(method)\\n]\\n\\nlcia = [\\\"GWP100\\\", \\\"PMFP\\\", \\\"FDP\\\"]\\n\\nindicators = [i for i in ReCiPe if i[2] in lcia]\";\n",
       "                var nbb_cells = Jupyter.notebook.get_cells();\n",
       "                for (var i = 0; i < nbb_cells.length; ++i) {\n",
       "                    if (nbb_cells[i].input_prompt_number == nbb_cell_id) {\n",
       "                        if (nbb_cells[i].get_text() == nbb_unformatted_code) {\n",
       "                             nbb_cells[i].set_text(nbb_formatted_code);\n",
       "                        }\n",
       "                        break;\n",
       "                    }\n",
       "                }\n",
       "            }, 500);\n",
       "            "
      ],
      "text/plain": [
       "<IPython.core.display.Javascript object>"
      ]
     },
     "metadata": {},
     "output_type": "display_data"
    }
   ],
   "source": [
    "ReCiPe = [\n",
    "    method\n",
    "    for method in bw.methods\n",
    "    if \"ReCiPe Midpoint (H) V1.13\" in str(method)\n",
    "    and \"w/o LT\" not in str(method)\n",
    "    and \"no LT\" not in str(method)\n",
    "    and \"obsolete\" not in str(method)\n",
    "]\n",
    "\n",
    "lcia = [\"GWP100\", \"PMFP\", \"FDP\"]\n",
    "\n",
    "indicators = [i for i in ReCiPe if i[2] in lcia]"
   ]
  },
  {
   "cell_type": "code",
   "execution_count": 9,
   "metadata": {},
   "outputs": [
    {
     "data": {
      "text/plain": [
       "[('ReCiPe Midpoint (H) V1.13', 'climate change', 'GWP100'),\n",
       " ('ReCiPe Midpoint (H) V1.13', 'fossil depletion', 'FDP'),\n",
       " ('ReCiPe Midpoint (H) V1.13', 'particulate matter formation', 'PMFP')]"
      ]
     },
     "execution_count": 9,
     "metadata": {},
     "output_type": "execute_result"
    },
    {
     "data": {
      "application/javascript": [
       "\n",
       "            setTimeout(function() {\n",
       "                var nbb_cell_id = 9;\n",
       "                var nbb_unformatted_code = \"indicators\";\n",
       "                var nbb_formatted_code = \"indicators\";\n",
       "                var nbb_cells = Jupyter.notebook.get_cells();\n",
       "                for (var i = 0; i < nbb_cells.length; ++i) {\n",
       "                    if (nbb_cells[i].input_prompt_number == nbb_cell_id) {\n",
       "                        if (nbb_cells[i].get_text() == nbb_unformatted_code) {\n",
       "                             nbb_cells[i].set_text(nbb_formatted_code);\n",
       "                        }\n",
       "                        break;\n",
       "                    }\n",
       "                }\n",
       "            }, 500);\n",
       "            "
      ],
      "text/plain": [
       "<IPython.core.display.Javascript object>"
      ]
     },
     "metadata": {},
     "output_type": "display_data"
    }
   ],
   "source": [
    "indicators"
   ]
  },
  {
   "cell_type": "code",
   "execution_count": 10,
   "metadata": {},
   "outputs": [
    {
     "data": {
      "application/javascript": [
       "\n",
       "            setTimeout(function() {\n",
       "                var nbb_cell_id = 10;\n",
       "                var nbb_unformatted_code = \"def value(data, year, transport_mode):\\n    data_series = data[data.year == year].loc[:, transport_mode]\\n    return data_series\";\n",
       "                var nbb_formatted_code = \"def value(data, year, transport_mode):\\n    data_series = data[data.year == year].loc[:, transport_mode]\\n    return data_series\";\n",
       "                var nbb_cells = Jupyter.notebook.get_cells();\n",
       "                for (var i = 0; i < nbb_cells.length; ++i) {\n",
       "                    if (nbb_cells[i].input_prompt_number == nbb_cell_id) {\n",
       "                        if (nbb_cells[i].get_text() == nbb_unformatted_code) {\n",
       "                             nbb_cells[i].set_text(nbb_formatted_code);\n",
       "                        }\n",
       "                        break;\n",
       "                    }\n",
       "                }\n",
       "            }, 500);\n",
       "            "
      ],
      "text/plain": [
       "<IPython.core.display.Javascript object>"
      ]
     },
     "metadata": {},
     "output_type": "display_data"
    }
   ],
   "source": [
    "def value(data, year, transport_mode):\n",
    "    data_series = data[data.year == year].loc[:, transport_mode]\n",
    "    return data_series"
   ]
  },
  {
   "cell_type": "code",
   "execution_count": 11,
   "metadata": {},
   "outputs": [
    {
     "data": {
      "application/javascript": [
       "\n",
       "            setTimeout(function() {\n",
       "                var nbb_cell_id = 11;\n",
       "                var nbb_unformatted_code = \"transport_modes = list(activity_data.columns)[1:]\\nyears = list(range(2013, 2018))\";\n",
       "                var nbb_formatted_code = \"transport_modes = list(activity_data.columns)[1:]\\nyears = list(range(2013, 2018))\";\n",
       "                var nbb_cells = Jupyter.notebook.get_cells();\n",
       "                for (var i = 0; i < nbb_cells.length; ++i) {\n",
       "                    if (nbb_cells[i].input_prompt_number == nbb_cell_id) {\n",
       "                        if (nbb_cells[i].get_text() == nbb_unformatted_code) {\n",
       "                             nbb_cells[i].set_text(nbb_formatted_code);\n",
       "                        }\n",
       "                        break;\n",
       "                    }\n",
       "                }\n",
       "            }, 500);\n",
       "            "
      ],
      "text/plain": [
       "<IPython.core.display.Javascript object>"
      ]
     },
     "metadata": {},
     "output_type": "display_data"
    }
   ],
   "source": [
    "transport_modes = list(activity_data.columns)[1:]\n",
    "years = list(range(2013, 2018))"
   ]
  },
  {
   "cell_type": "code",
   "execution_count": 12,
   "metadata": {},
   "outputs": [
    {
     "data": {
      "application/javascript": [
       "\n",
       "            setTimeout(function() {\n",
       "                var nbb_cell_id = 12;\n",
       "                var nbb_unformatted_code = \"fu_value_dict = {}\\nfor year in years:\\n    fu_subdict = {}\\n    for transport_mode in transport_modes:\\n        fu_subdict[transport_mode] = value(activity_data, year, transport_mode)\\n    fu_value_dict[year] = fu_subdict\";\n",
       "                var nbb_formatted_code = \"fu_value_dict = {}\\nfor year in years:\\n    fu_subdict = {}\\n    for transport_mode in transport_modes:\\n        fu_subdict[transport_mode] = value(activity_data, year, transport_mode)\\n    fu_value_dict[year] = fu_subdict\";\n",
       "                var nbb_cells = Jupyter.notebook.get_cells();\n",
       "                for (var i = 0; i < nbb_cells.length; ++i) {\n",
       "                    if (nbb_cells[i].input_prompt_number == nbb_cell_id) {\n",
       "                        if (nbb_cells[i].get_text() == nbb_unformatted_code) {\n",
       "                             nbb_cells[i].set_text(nbb_formatted_code);\n",
       "                        }\n",
       "                        break;\n",
       "                    }\n",
       "                }\n",
       "            }, 500);\n",
       "            "
      ],
      "text/plain": [
       "<IPython.core.display.Javascript object>"
      ]
     },
     "metadata": {},
     "output_type": "display_data"
    }
   ],
   "source": [
    "fu_value_dict = {}\n",
    "for year in years:\n",
    "    fu_subdict = {}\n",
    "    for transport_mode in transport_modes:\n",
    "        fu_subdict[transport_mode] = value(activity_data, year, transport_mode)\n",
    "    fu_value_dict[year] = fu_subdict"
   ]
  },
  {
   "cell_type": "code",
   "execution_count": 13,
   "metadata": {},
   "outputs": [
    {
     "data": {
      "application/javascript": [
       "\n",
       "            setTimeout(function() {\n",
       "                var nbb_cell_id = 13;\n",
       "                var nbb_unformatted_code = \"def activities(data, act_type):\\n    # choose activities\\n    act_list = data[data.index == act_type]\\n    act_eidb_dict = {}\\n    act_eidb_list = []\\n    for i in range(len(act_list)):\\n        act = [\\n            act\\n            for act in eidb\\n            if act_list.iloc[i, 0] in act[\\\"name\\\"]\\n            and act_list.iloc[i, 1] in act[\\\"location\\\"]\\n        ]\\n        if len(act) == 0:\\n            continue\\n        else:\\n            act_eidb_list.append(act[0])\\n    act_eidb_dict[act_type] = act_eidb_list\\n    return act_eidb_dict\";\n",
       "                var nbb_formatted_code = \"def activities(data, act_type):\\n    # choose activities\\n    act_list = data[data.index == act_type]\\n    act_eidb_dict = {}\\n    act_eidb_list = []\\n    for i in range(len(act_list)):\\n        act = [\\n            act\\n            for act in eidb\\n            if act_list.iloc[i, 0] in act[\\\"name\\\"]\\n            and act_list.iloc[i, 1] in act[\\\"location\\\"]\\n        ]\\n        if len(act) == 0:\\n            continue\\n        else:\\n            act_eidb_list.append(act[0])\\n    act_eidb_dict[act_type] = act_eidb_list\\n    return act_eidb_dict\";\n",
       "                var nbb_cells = Jupyter.notebook.get_cells();\n",
       "                for (var i = 0; i < nbb_cells.length; ++i) {\n",
       "                    if (nbb_cells[i].input_prompt_number == nbb_cell_id) {\n",
       "                        if (nbb_cells[i].get_text() == nbb_unformatted_code) {\n",
       "                             nbb_cells[i].set_text(nbb_formatted_code);\n",
       "                        }\n",
       "                        break;\n",
       "                    }\n",
       "                }\n",
       "            }, 500);\n",
       "            "
      ],
      "text/plain": [
       "<IPython.core.display.Javascript object>"
      ]
     },
     "metadata": {},
     "output_type": "display_data"
    }
   ],
   "source": [
    "def activities(data, act_type):\n",
    "    # choose activities\n",
    "    act_list = data[data.index == act_type]\n",
    "    act_eidb_dict = {}\n",
    "    act_eidb_list = []\n",
    "    for i in range(len(act_list)):\n",
    "        act = [\n",
    "            act\n",
    "            for act in eidb\n",
    "            if act_list.iloc[i, 0] in act[\"name\"]\n",
    "            and act_list.iloc[i, 1] in act[\"location\"]\n",
    "        ]\n",
    "        if len(act) == 0:\n",
    "            continue\n",
    "        else:\n",
    "            act_eidb_list.append(act[0])\n",
    "    act_eidb_dict[act_type] = act_eidb_list\n",
    "    return act_eidb_dict"
   ]
  },
  {
   "cell_type": "code",
   "execution_count": 14,
   "metadata": {},
   "outputs": [
    {
     "data": {
      "application/javascript": [
       "\n",
       "            setTimeout(function() {\n",
       "                var nbb_cell_id = 14;\n",
       "                var nbb_unformatted_code = \"act_type_list = list(dict.fromkeys([i for i in activity_eidb_df.index]))\";\n",
       "                var nbb_formatted_code = \"act_type_list = list(dict.fromkeys([i for i in activity_eidb_df.index]))\";\n",
       "                var nbb_cells = Jupyter.notebook.get_cells();\n",
       "                for (var i = 0; i < nbb_cells.length; ++i) {\n",
       "                    if (nbb_cells[i].input_prompt_number == nbb_cell_id) {\n",
       "                        if (nbb_cells[i].get_text() == nbb_unformatted_code) {\n",
       "                             nbb_cells[i].set_text(nbb_formatted_code);\n",
       "                        }\n",
       "                        break;\n",
       "                    }\n",
       "                }\n",
       "            }, 500);\n",
       "            "
      ],
      "text/plain": [
       "<IPython.core.display.Javascript object>"
      ]
     },
     "metadata": {},
     "output_type": "display_data"
    }
   ],
   "source": [
    "act_type_list = list(dict.fromkeys([i for i in activity_eidb_df.index]))"
   ]
  },
  {
   "cell_type": "code",
   "execution_count": 15,
   "metadata": {},
   "outputs": [
    {
     "data": {
      "text/plain": [
       "['road_passenger',\n",
       " 'rail_passenger',\n",
       " 'air_passenger',\n",
       " 'water_passenger',\n",
       " 'road_freight',\n",
       " 'rail_freight',\n",
       " 'water_freight',\n",
       " 'air_freight',\n",
       " 'pipe_freight']"
      ]
     },
     "execution_count": 15,
     "metadata": {},
     "output_type": "execute_result"
    },
    {
     "data": {
      "application/javascript": [
       "\n",
       "            setTimeout(function() {\n",
       "                var nbb_cell_id = 15;\n",
       "                var nbb_unformatted_code = \"act_type_list\";\n",
       "                var nbb_formatted_code = \"act_type_list\";\n",
       "                var nbb_cells = Jupyter.notebook.get_cells();\n",
       "                for (var i = 0; i < nbb_cells.length; ++i) {\n",
       "                    if (nbb_cells[i].input_prompt_number == nbb_cell_id) {\n",
       "                        if (nbb_cells[i].get_text() == nbb_unformatted_code) {\n",
       "                             nbb_cells[i].set_text(nbb_formatted_code);\n",
       "                        }\n",
       "                        break;\n",
       "                    }\n",
       "                }\n",
       "            }, 500);\n",
       "            "
      ],
      "text/plain": [
       "<IPython.core.display.Javascript object>"
      ]
     },
     "metadata": {},
     "output_type": "display_data"
    }
   ],
   "source": [
    "act_type_list"
   ]
  },
  {
   "cell_type": "code",
   "execution_count": 16,
   "metadata": {},
   "outputs": [
    {
     "data": {
      "application/javascript": [
       "\n",
       "            setTimeout(function() {\n",
       "                var nbb_cell_id = 16;\n",
       "                var nbb_unformatted_code = \"from collections.abc import Iterable\\n\\n\\ndef actvity_weight_generator(data, year):\\n    # \\u6784\\u5efafuntional units\\u7684\\u6743\\u91cd\\n    act_list_year = data[data[year] != 0]  # \\u6311\\u9009\\u51fa\\u5f53\\u5e74\\u7684activities\\n    fu_dict_total = {}\\n    for i in range(len(act_type_list)):\\n        find_activity = activities(\\n            act_list_year, act_type_list[i]\\n        )  # \\u627e\\u5230lca\\u6570\\u636e\\u5e93\\u4e2d\\u7684activities\\n        if isinstance(act_list_year.loc[act_type_list[i], year], Iterable):\\n            activity_weight_pair = dict(\\n                zip(\\n                    find_activity[act_type_list[i]],\\n                    act_list_year.loc[act_type_list[i], year].values,\\n                )\\n            )\\n        else:\\n            activity_weight_pair = dict(\\n                zip(\\n                    find_activity[act_type_list[i]],\\n                    [act_list_year.loc[act_type_list[i], year]],\\n                )\\n            )\\n        fu_dict_total[act_type_list[i]] = activity_weight_pair\\n    return fu_dict_total\";\n",
       "                var nbb_formatted_code = \"from collections.abc import Iterable\\n\\n\\ndef actvity_weight_generator(data, year):\\n    # \\u6784\\u5efafuntional units\\u7684\\u6743\\u91cd\\n    act_list_year = data[data[year] != 0]  # \\u6311\\u9009\\u51fa\\u5f53\\u5e74\\u7684activities\\n    fu_dict_total = {}\\n    for i in range(len(act_type_list)):\\n        find_activity = activities(\\n            act_list_year, act_type_list[i]\\n        )  # \\u627e\\u5230lca\\u6570\\u636e\\u5e93\\u4e2d\\u7684activities\\n        if isinstance(act_list_year.loc[act_type_list[i], year], Iterable):\\n            activity_weight_pair = dict(\\n                zip(\\n                    find_activity[act_type_list[i]],\\n                    act_list_year.loc[act_type_list[i], year].values,\\n                )\\n            )\\n        else:\\n            activity_weight_pair = dict(\\n                zip(\\n                    find_activity[act_type_list[i]],\\n                    [act_list_year.loc[act_type_list[i], year]],\\n                )\\n            )\\n        fu_dict_total[act_type_list[i]] = activity_weight_pair\\n    return fu_dict_total\";\n",
       "                var nbb_cells = Jupyter.notebook.get_cells();\n",
       "                for (var i = 0; i < nbb_cells.length; ++i) {\n",
       "                    if (nbb_cells[i].input_prompt_number == nbb_cell_id) {\n",
       "                        if (nbb_cells[i].get_text() == nbb_unformatted_code) {\n",
       "                             nbb_cells[i].set_text(nbb_formatted_code);\n",
       "                        }\n",
       "                        break;\n",
       "                    }\n",
       "                }\n",
       "            }, 500);\n",
       "            "
      ],
      "text/plain": [
       "<IPython.core.display.Javascript object>"
      ]
     },
     "metadata": {},
     "output_type": "display_data"
    }
   ],
   "source": [
    "from collections.abc import Iterable\n",
    "\n",
    "\n",
    "def actvity_weight_generator(data, year):\n",
    "    # 构建funtional units的权重\n",
    "    act_list_year = data[data[year] != 0]  # 挑选出当年的activities\n",
    "    fu_dict_total = {}\n",
    "    for i in range(len(act_type_list)):\n",
    "        find_activity = activities(\n",
    "            act_list_year, act_type_list[i]\n",
    "        )  # 找到lca数据库中的activities\n",
    "        if isinstance(act_list_year.loc[act_type_list[i], year], Iterable):\n",
    "            activity_weight_pair = dict(\n",
    "                zip(\n",
    "                    find_activity[act_type_list[i]],\n",
    "                    act_list_year.loc[act_type_list[i], year].values,\n",
    "                )\n",
    "            )\n",
    "        else:\n",
    "            activity_weight_pair = dict(\n",
    "                zip(\n",
    "                    find_activity[act_type_list[i]],\n",
    "                    [act_list_year.loc[act_type_list[i], year]],\n",
    "                )\n",
    "            )\n",
    "        fu_dict_total[act_type_list[i]] = activity_weight_pair\n",
    "    return fu_dict_total"
   ]
  },
  {
   "cell_type": "code",
   "execution_count": 17,
   "metadata": {},
   "outputs": [
    {
     "name": "stdout",
     "output_type": "stream",
     "text": [
      "Wall time: 13min 6s\n"
     ]
    },
    {
     "data": {
      "application/javascript": [
       "\n",
       "            setTimeout(function() {\n",
       "                var nbb_cell_id = 17;\n",
       "                var nbb_unformatted_code = \"%%time\\nweight_year = {}\\nfor year in years:\\n    weight_year[year] = actvity_weight_generator(activity_eidb_df, year)\";\n",
       "                var nbb_formatted_code = \"%%time\\nweight_year = {}\\nfor year in years:\\n    weight_year[year] = actvity_weight_generator(activity_eidb_df, year)\";\n",
       "                var nbb_cells = Jupyter.notebook.get_cells();\n",
       "                for (var i = 0; i < nbb_cells.length; ++i) {\n",
       "                    if (nbb_cells[i].input_prompt_number == nbb_cell_id) {\n",
       "                        if (nbb_cells[i].get_text() == nbb_unformatted_code) {\n",
       "                             nbb_cells[i].set_text(nbb_formatted_code);\n",
       "                        }\n",
       "                        break;\n",
       "                    }\n",
       "                }\n",
       "            }, 500);\n",
       "            "
      ],
      "text/plain": [
       "<IPython.core.display.Javascript object>"
      ]
     },
     "metadata": {},
     "output_type": "display_data"
    }
   ],
   "source": [
    "%%time\n",
    "weight_year = {}\n",
    "for year in years:\n",
    "    weight_year[year] = actvity_weight_generator(activity_eidb_df, year)"
   ]
  },
  {
   "cell_type": "code",
   "execution_count": 19,
   "metadata": {},
   "outputs": [
    {
     "data": {
      "text/plain": [
       "{'road_passenger': {'market for transport, freight, lorry >32 metric ton, EURO3' (ton kilometer, RoW, None): 0.001306460695749488,\n",
       "  'transport, freight, lorry 16-32 metric ton, EURO3' (ton kilometer, RoW, None): 0.0011640606564502593,\n",
       "  'market for transport, freight, lorry 3.5-7.5 metric ton, EURO3' (ton kilometer, RoW, None): 0.003598484791984071,\n",
       "  'transport, freight, lorry 7.5-16 metric ton, EURO3' (ton kilometer, RoW, None): 0.9939309938558162},\n",
       " 'rail_passenger': {'transport, passenger train, high-speed' (person kilometer, RoW, None): 0.798},\n",
       " 'air_passenger': {'transport, passengers, passenger aircraft, medium haul' (person kilometer, GLO, None): 0.10127312109922437,\n",
       "  'transport, passengers, passenger aircraft, short haul' (person kilometer, GLO, None): 0.10127312109922437,\n",
       "  'transport, passengers, passenger aircraft, very short haul' (person kilometer, GLO, None): 0.3987268789007756},\n",
       " 'water_passenger': {'transport, freight, inland waterways, barge tanker' (ton kilometer, RoW, None): 1.0},\n",
       " 'road_freight': {'market for transport, freight, lorry >32 metric ton, EURO3' (ton kilometer, RoW, None): 0.24965930906884445,\n",
       "  'market for transport, freight, lorry 16-32 metric ton, EURO3' (ton kilometer, RoW, None): 0.09768131223204783,\n",
       "  'transport, freight, lorry 3.5-7.5 metric ton, EURO3' (ton kilometer, RoW, None): 0.006082700858441675,\n",
       "  'market for transport, freight, lorry 7.5-16 metric ton, EURO3' (ton kilometer, RoW, None): 0.6465766778406661},\n",
       " 'rail_freight': {'transport, freight train, diesel' (ton kilometer, CN, None): 0.4784341978866474,\n",
       "  'transport, freight train, electricity' (ton kilometer, CN, None): 0.5215658021133526},\n",
       " 'water_freight': {'market for transport, freight, inland waterways, barge' (ton kilometer, RoW, None): 1.0},\n",
       " 'air_freight': {'transport, freight, aircraft, belly-freight, long haul' (ton kilometer, GLO, None): 0.32055037294808086,\n",
       "  'transport, freight, aircraft, belly-freight, medium haul' (ton kilometer, GLO, None): 0.32055037294808086,\n",
       "  'transport, freight, aircraft, belly-freight, short haul' (ton kilometer, GLO, None): 0.1794496270519191,\n",
       "  'transport, freight, aircraft, belly-freight, very short haul' (ton kilometer, GLO, None): 0.1794496270519191},\n",
       " 'pipe_freight': {'market for transport, pipeline, onshore, long distance, natural gas' (ton kilometer, RoW, None): 1.0}}"
      ]
     },
     "execution_count": 19,
     "metadata": {},
     "output_type": "execute_result"
    },
    {
     "data": {
      "application/javascript": [
       "\n",
       "            setTimeout(function() {\n",
       "                var nbb_cell_id = 19;\n",
       "                var nbb_unformatted_code = \"weight_year[2013]\";\n",
       "                var nbb_formatted_code = \"weight_year[2013]\";\n",
       "                var nbb_cells = Jupyter.notebook.get_cells();\n",
       "                for (var i = 0; i < nbb_cells.length; ++i) {\n",
       "                    if (nbb_cells[i].input_prompt_number == nbb_cell_id) {\n",
       "                        if (nbb_cells[i].get_text() == nbb_unformatted_code) {\n",
       "                             nbb_cells[i].set_text(nbb_formatted_code);\n",
       "                        }\n",
       "                        break;\n",
       "                    }\n",
       "                }\n",
       "            }, 500);\n",
       "            "
      ],
      "text/plain": [
       "<IPython.core.display.Javascript object>"
      ]
     },
     "metadata": {},
     "output_type": "display_data"
    }
   ],
   "source": [
    "weight_year[2013]"
   ]
  },
  {
   "cell_type": "code",
   "execution_count": 29,
   "metadata": {},
   "outputs": [
    {
     "data": {
      "application/javascript": [
       "\n",
       "            setTimeout(function() {\n",
       "                var nbb_cell_id = 29;\n",
       "                var nbb_unformatted_code = \"def create_fu_list(weight_data, year, DMU_name):\\n    data_act_pair = list(zip(activity_data.columns[1:], act_type_list))\\n    DMU_list = list(dict.fromkeys([i for i in activity_data.index]))\\n    fu_list_total = []\\n    for (k, v) in data_act_pair:\\n        act = weight_data[year][v]\\n        DMU_data = activity_data[activity_data[\\\"year\\\"] == year].loc[DMU_name, k]\\n        if v == \\\"road_passenger\\\":\\n            for (key, value) in act.items():\\n                fu_list_total.append({key: DMU_data * value / 10})\\n        else:\\n            for (key, value) in act.items():\\n                fu_list_total.append({key: DMU_data * value})\\n    return fu_list_total\";\n",
       "                var nbb_formatted_code = \"def create_fu_list(weight_data, year, DMU_name):\\n    data_act_pair = list(zip(activity_data.columns[1:], act_type_list))\\n    DMU_list = list(dict.fromkeys([i for i in activity_data.index]))\\n    fu_list_total = []\\n    for (k, v) in data_act_pair:\\n        act = weight_data[year][v]\\n        DMU_data = activity_data[activity_data[\\\"year\\\"] == year].loc[DMU_name, k]\\n        if v == \\\"road_passenger\\\":\\n            for (key, value) in act.items():\\n                fu_list_total.append({key: DMU_data * value / 10})\\n        else:\\n            for (key, value) in act.items():\\n                fu_list_total.append({key: DMU_data * value})\\n    return fu_list_total\";\n",
       "                var nbb_cells = Jupyter.notebook.get_cells();\n",
       "                for (var i = 0; i < nbb_cells.length; ++i) {\n",
       "                    if (nbb_cells[i].input_prompt_number == nbb_cell_id) {\n",
       "                        if (nbb_cells[i].get_text() == nbb_unformatted_code) {\n",
       "                             nbb_cells[i].set_text(nbb_formatted_code);\n",
       "                        }\n",
       "                        break;\n",
       "                    }\n",
       "                }\n",
       "            }, 500);\n",
       "            "
      ],
      "text/plain": [
       "<IPython.core.display.Javascript object>"
      ]
     },
     "metadata": {},
     "output_type": "display_data"
    }
   ],
   "source": [
    "def create_fu_list(weight_data, year, DMU_name):\n",
    "    data_act_pair = list(zip(activity_data.columns[1:], act_type_list))\n",
    "    DMU_list = list(dict.fromkeys([i for i in activity_data.index]))\n",
    "    fu_list_total = []\n",
    "    for (k, v) in data_act_pair:\n",
    "        act = weight_data[year][v]\n",
    "        DMU_data = activity_data[activity_data[\"year\"] == year].loc[DMU_name, k]\n",
    "        if v == \"road_passenger\":\n",
    "            for (key, value) in act.items():\n",
    "                fu_list_total.append({key: DMU_data * value / 10})\n",
    "        else:\n",
    "            for (key, value) in act.items():\n",
    "                fu_list_total.append({key: DMU_data * value})\n",
    "    return fu_list_total"
   ]
  },
  {
   "cell_type": "code",
   "execution_count": 30,
   "metadata": {},
   "outputs": [
    {
     "data": {
      "application/javascript": [
       "\n",
       "            setTimeout(function() {\n",
       "                var nbb_cell_id = 30;\n",
       "                var nbb_unformatted_code = \"def multiImpactMonteCarloLCA(functional_unit, list_methods, iterations):\\n    # Step 1\\n    MC_lca = bw.MonteCarloLCA(functional_unit)\\n    MC_lca.lci()\\n    # Step 2\\n    C_matrices = {}\\n    # Step 3\\n    for method in list_methods:\\n        MC_lca.switch_method(method)\\n        C_matrices[method] = MC_lca.characterization_matrix\\n    # Step 4\\n    results = np.empty((len(list_methods), iterations))\\n    # Step 5\\n    for iteration in range(iterations):\\n        next(MC_lca)\\n        for method_index, method in enumerate(list_methods):\\n            results[method_index, iteration] = (\\n                C_matrices[method] * MC_lca.inventory\\n            ).sum()\\n    return results\";\n",
       "                var nbb_formatted_code = \"def multiImpactMonteCarloLCA(functional_unit, list_methods, iterations):\\n    # Step 1\\n    MC_lca = bw.MonteCarloLCA(functional_unit)\\n    MC_lca.lci()\\n    # Step 2\\n    C_matrices = {}\\n    # Step 3\\n    for method in list_methods:\\n        MC_lca.switch_method(method)\\n        C_matrices[method] = MC_lca.characterization_matrix\\n    # Step 4\\n    results = np.empty((len(list_methods), iterations))\\n    # Step 5\\n    for iteration in range(iterations):\\n        next(MC_lca)\\n        for method_index, method in enumerate(list_methods):\\n            results[method_index, iteration] = (\\n                C_matrices[method] * MC_lca.inventory\\n            ).sum()\\n    return results\";\n",
       "                var nbb_cells = Jupyter.notebook.get_cells();\n",
       "                for (var i = 0; i < nbb_cells.length; ++i) {\n",
       "                    if (nbb_cells[i].input_prompt_number == nbb_cell_id) {\n",
       "                        if (nbb_cells[i].get_text() == nbb_unformatted_code) {\n",
       "                             nbb_cells[i].set_text(nbb_formatted_code);\n",
       "                        }\n",
       "                        break;\n",
       "                    }\n",
       "                }\n",
       "            }, 500);\n",
       "            "
      ],
      "text/plain": [
       "<IPython.core.display.Javascript object>"
      ]
     },
     "metadata": {},
     "output_type": "display_data"
    }
   ],
   "source": [
    "def multiImpactMonteCarloLCA(functional_unit, list_methods, iterations):\n",
    "    # Step 1\n",
    "    MC_lca = bw.MonteCarloLCA(functional_unit)\n",
    "    MC_lca.lci()\n",
    "    # Step 2\n",
    "    C_matrices = {}\n",
    "    # Step 3\n",
    "    for method in list_methods:\n",
    "        MC_lca.switch_method(method)\n",
    "        C_matrices[method] = MC_lca.characterization_matrix\n",
    "    # Step 4\n",
    "    results = np.empty((len(list_methods), iterations))\n",
    "    # Step 5\n",
    "    for iteration in range(iterations):\n",
    "        next(MC_lca)\n",
    "        for method_index, method in enumerate(list_methods):\n",
    "            results[method_index, iteration] = (\n",
    "                C_matrices[method] * MC_lca.inventory\n",
    "            ).sum()\n",
    "    return results"
   ]
  },
  {
   "cell_type": "code",
   "execution_count": 31,
   "metadata": {},
   "outputs": [
    {
     "data": {
      "application/javascript": [
       "\n",
       "            setTimeout(function() {\n",
       "                var nbb_cell_id = 31;\n",
       "                var nbb_unformatted_code = \"def lcia_mc_cal(weight_data, year, DMU_name, list_methods, iterations):\\n    fu_list = create_fu_list(weight_data, year, DMU_name)\\n    city_lcia_mc = []\\n    for i in fu_list:\\n        mc_results = pd.DataFrame(\\n            multiImpactMonteCarloLCA(i, indicators, iterations),\\n            index=[\\\"GWP\\\", \\\"FDP\\\", \\\"PMFP\\\"],\\n        )\\n        city_lcia_mc.append(mc_results)\\n    city_mc_df = pd.concat(city_lcia_mc)\\n    with open(DMU_name + str(year) + \\\".pickle\\\", \\\"wb\\\",) as file:\\n        pickle.dump(city_mc_df, file)\";\n",
       "                var nbb_formatted_code = \"def lcia_mc_cal(weight_data, year, DMU_name, list_methods, iterations):\\n    fu_list = create_fu_list(weight_data, year, DMU_name)\\n    city_lcia_mc = []\\n    for i in fu_list:\\n        mc_results = pd.DataFrame(\\n            multiImpactMonteCarloLCA(i, indicators, iterations),\\n            index=[\\\"GWP\\\", \\\"FDP\\\", \\\"PMFP\\\"],\\n        )\\n        city_lcia_mc.append(mc_results)\\n    city_mc_df = pd.concat(city_lcia_mc)\\n    with open(DMU_name + str(year) + \\\".pickle\\\", \\\"wb\\\",) as file:\\n        pickle.dump(city_mc_df, file)\";\n",
       "                var nbb_cells = Jupyter.notebook.get_cells();\n",
       "                for (var i = 0; i < nbb_cells.length; ++i) {\n",
       "                    if (nbb_cells[i].input_prompt_number == nbb_cell_id) {\n",
       "                        if (nbb_cells[i].get_text() == nbb_unformatted_code) {\n",
       "                             nbb_cells[i].set_text(nbb_formatted_code);\n",
       "                        }\n",
       "                        break;\n",
       "                    }\n",
       "                }\n",
       "            }, 500);\n",
       "            "
      ],
      "text/plain": [
       "<IPython.core.display.Javascript object>"
      ]
     },
     "metadata": {},
     "output_type": "display_data"
    }
   ],
   "source": [
    "def lcia_mc_cal(weight_data, year, DMU_name, list_methods, iterations):\n",
    "    fu_list = create_fu_list(weight_data, year, DMU_name)\n",
    "    city_lcia_mc = []\n",
    "    for i in fu_list:\n",
    "        mc_results = pd.DataFrame(\n",
    "            multiImpactMonteCarloLCA(i, indicators, iterations),\n",
    "            index=[\"GWP\", \"FDP\", \"PMFP\"],\n",
    "        )\n",
    "        city_lcia_mc.append(mc_results)\n",
    "    city_mc_df = pd.concat(city_lcia_mc)\n",
    "    with open(DMU_name + str(year) + \".pickle\", \"wb\",) as file:\n",
    "        pickle.dump(city_mc_df, file)"
   ]
  },
  {
   "cell_type": "code",
   "execution_count": 32,
   "metadata": {},
   "outputs": [
    {
     "data": {
      "application/javascript": [
       "\n",
       "            setTimeout(function() {\n",
       "                var nbb_cell_id = 32;\n",
       "                var nbb_unformatted_code = \"os.chdir(r\\\"E:\\\\tencent files\\\\chrome Download\\\\Research\\\\DEA\\\\DEA_transport\\\\Data_input\\\")\\n\\nif not os.path.exists(\\\"city_mc\\\"):\\n    os.mkdir(\\\"city_mc\\\")\\nos.chdir(\\\"city_mc\\\")\";\n",
       "                var nbb_formatted_code = \"os.chdir(r\\\"E:\\\\tencent files\\\\chrome Download\\\\Research\\\\DEA\\\\DEA_transport\\\\Data_input\\\")\\n\\nif not os.path.exists(\\\"city_mc\\\"):\\n    os.mkdir(\\\"city_mc\\\")\\nos.chdir(\\\"city_mc\\\")\";\n",
       "                var nbb_cells = Jupyter.notebook.get_cells();\n",
       "                for (var i = 0; i < nbb_cells.length; ++i) {\n",
       "                    if (nbb_cells[i].input_prompt_number == nbb_cell_id) {\n",
       "                        if (nbb_cells[i].get_text() == nbb_unformatted_code) {\n",
       "                             nbb_cells[i].set_text(nbb_formatted_code);\n",
       "                        }\n",
       "                        break;\n",
       "                    }\n",
       "                }\n",
       "            }, 500);\n",
       "            "
      ],
      "text/plain": [
       "<IPython.core.display.Javascript object>"
      ]
     },
     "metadata": {},
     "output_type": "display_data"
    }
   ],
   "source": [
    "os.chdir(r\"E:\\tencent files\\chrome Download\\Research\\DEA\\DEA_transport\\Data_input\")\n",
    "\n",
    "if not os.path.exists(\"city_mc\"):\n",
    "    os.mkdir(\"city_mc\")\n",
    "os.chdir(\"city_mc\")"
   ]
  },
  {
   "cell_type": "code",
   "execution_count": 23,
   "metadata": {},
   "outputs": [
    {
     "data": {
      "application/javascript": [
       "\n",
       "            setTimeout(function() {\n",
       "                var nbb_cell_id = 23;\n",
       "                var nbb_unformatted_code = \"def lcia_mc_multiprocess(year,DMU):\\n\\n    lcia_mc_cal(weight_year, year, DMU, indicators, 1000)\";\n",
       "                var nbb_formatted_code = \"def lcia_mc_multiprocess(year, DMU):\\n\\n    lcia_mc_cal(weight_year, year, DMU, indicators, 1000)\";\n",
       "                var nbb_cells = Jupyter.notebook.get_cells();\n",
       "                for (var i = 0; i < nbb_cells.length; ++i) {\n",
       "                    if (nbb_cells[i].input_prompt_number == nbb_cell_id) {\n",
       "                        if (nbb_cells[i].get_text() == nbb_unformatted_code) {\n",
       "                             nbb_cells[i].set_text(nbb_formatted_code);\n",
       "                        }\n",
       "                        break;\n",
       "                    }\n",
       "                }\n",
       "            }, 500);\n",
       "            "
      ],
      "text/plain": [
       "<IPython.core.display.Javascript object>"
      ]
     },
     "metadata": {},
     "output_type": "display_data"
    }
   ],
   "source": [
    "def lcia_mc_multiprocess(year, DMU):\n",
    "\n",
    "    lcia_mc_cal(weight_year, year, DMU, indicators, 1000)"
   ]
  },
  {
   "cell_type": "code",
   "execution_count": 34,
   "metadata": {},
   "outputs": [
    {
     "data": {
      "application/javascript": [
       "\n",
       "            setTimeout(function() {\n",
       "                var nbb_cell_id = 34;\n",
       "                var nbb_unformatted_code = \"input_parameter_list = [\\n    (year, DMU)\\n    for year in years\\n    for DMU in activity_data[activity_data[\\\"year\\\"] == 2013].index[:9]\\n]\";\n",
       "                var nbb_formatted_code = \"input_parameter_list = [\\n    (year, DMU)\\n    for year in years\\n    for DMU in activity_data[activity_data[\\\"year\\\"] == 2013].index[:9]\\n]\";\n",
       "                var nbb_cells = Jupyter.notebook.get_cells();\n",
       "                for (var i = 0; i < nbb_cells.length; ++i) {\n",
       "                    if (nbb_cells[i].input_prompt_number == nbb_cell_id) {\n",
       "                        if (nbb_cells[i].get_text() == nbb_unformatted_code) {\n",
       "                             nbb_cells[i].set_text(nbb_formatted_code);\n",
       "                        }\n",
       "                        break;\n",
       "                    }\n",
       "                }\n",
       "            }, 500);\n",
       "            "
      ],
      "text/plain": [
       "<IPython.core.display.Javascript object>"
      ]
     },
     "metadata": {},
     "output_type": "display_data"
    }
   ],
   "source": [
    "input_parameter_list = [\n",
    "    (year, DMU)\n",
    "    for year in years\n",
    "    for DMU in activity_data[activity_data[\"year\"] == 2013].index[:9]\n",
    "]"
   ]
  },
  {
   "cell_type": "code",
   "execution_count": null,
   "metadata": {},
   "outputs": [],
   "source": [
    "if __name__ ==  '__main__': \n",
    "    with Pool() as p:\n",
    "        p.map(lcia_mc_multiprocess,input_parameter_list)"
   ]
  }
 ],
 "metadata": {
  "kernelspec": {
   "display_name": "Python [conda env:LC_DEA]",
   "language": "python",
   "name": "conda-env-LC_DEA-py"
  },
  "language_info": {
   "codemirror_mode": {
    "name": "ipython",
    "version": 3
   },
   "file_extension": ".py",
   "mimetype": "text/x-python",
   "name": "python",
   "nbconvert_exporter": "python",
   "pygments_lexer": "ipython3",
   "version": "3.8.3"
  },
  "toc": {
   "base_numbering": 1,
   "nav_menu": {},
   "number_sections": true,
   "sideBar": true,
   "skip_h1_title": false,
   "title_cell": "Table of Contents",
   "title_sidebar": "Contents",
   "toc_cell": false,
   "toc_position": {},
   "toc_section_display": true,
   "toc_window_display": false
  }
 },
 "nbformat": 4,
 "nbformat_minor": 4
}
