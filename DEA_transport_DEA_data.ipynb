{
 "cells": [
  {
   "cell_type": "code",
   "execution_count": 1,
   "metadata": {},
   "outputs": [
    {
     "data": {
      "application/javascript": [
       "\n",
       "            setTimeout(function() {\n",
       "                var nbb_cell_id = 1;\n",
       "                var nbb_unformatted_code = \"from collections.abc import Iterable\\nimport numpy as np\\nimport os\\nimport pandas as pd\\nimport pickle\\n\\n%load_ext nb_black\";\n",
       "                var nbb_formatted_code = \"from collections.abc import Iterable\\nimport numpy as np\\nimport os\\nimport pandas as pd\\nimport pickle\\n\\n%load_ext nb_black\";\n",
       "                var nbb_cells = Jupyter.notebook.get_cells();\n",
       "                for (var i = 0; i < nbb_cells.length; ++i) {\n",
       "                    if (nbb_cells[i].input_prompt_number == nbb_cell_id) {\n",
       "                        if (nbb_cells[i].get_text() == nbb_unformatted_code) {\n",
       "                             nbb_cells[i].set_text(nbb_formatted_code);\n",
       "                        }\n",
       "                        break;\n",
       "                    }\n",
       "                }\n",
       "            }, 500);\n",
       "            "
      ],
      "text/plain": [
       "<IPython.core.display.Javascript object>"
      ]
     },
     "metadata": {},
     "output_type": "display_data"
    }
   ],
   "source": [
    "from collections.abc import Iterable\n",
    "import numpy as np\n",
    "import os\n",
    "import pandas as pd\n",
    "import pickle\n",
    "\n",
    "%load_ext nb_black"
   ]
  },
  {
   "cell_type": "code",
   "execution_count": 2,
   "metadata": {},
   "outputs": [
    {
     "data": {
      "application/javascript": [
       "\n",
       "            setTimeout(function() {\n",
       "                var nbb_cell_id = 2;\n",
       "                var nbb_unformatted_code = \"dir_data = r\\\"E:\\\\tencent files\\\\chrome Download\\\\Research\\\\DEA\\\\DEA_transport\\\\Data_input\\\"\\ndir_lca = \\\"city_mc\\\"\\nlca_data = os.path.join(dir_data, dir_lca)\";\n",
       "                var nbb_formatted_code = \"dir_data = r\\\"E:\\\\tencent files\\\\chrome Download\\\\Research\\\\DEA\\\\DEA_transport\\\\Data_input\\\"\\ndir_lca = \\\"city_mc\\\"\\nlca_data = os.path.join(dir_data, dir_lca)\";\n",
       "                var nbb_cells = Jupyter.notebook.get_cells();\n",
       "                for (var i = 0; i < nbb_cells.length; ++i) {\n",
       "                    if (nbb_cells[i].input_prompt_number == nbb_cell_id) {\n",
       "                        if (nbb_cells[i].get_text() == nbb_unformatted_code) {\n",
       "                             nbb_cells[i].set_text(nbb_formatted_code);\n",
       "                        }\n",
       "                        break;\n",
       "                    }\n",
       "                }\n",
       "            }, 500);\n",
       "            "
      ],
      "text/plain": [
       "<IPython.core.display.Javascript object>"
      ]
     },
     "metadata": {},
     "output_type": "display_data"
    }
   ],
   "source": [
    "dir_data = r\"E:\\tencent files\\chrome Download\\Research\\DEA\\DEA_transport\\Data_input\"\n",
    "dir_lca = \"city_mc\"\n",
    "lca_data = os.path.join(dir_data, dir_lca)"
   ]
  },
  {
   "cell_type": "code",
   "execution_count": 3,
   "metadata": {},
   "outputs": [
    {
     "data": {
      "application/javascript": [
       "\n",
       "            setTimeout(function() {\n",
       "                var nbb_cell_id = 3;\n",
       "                var nbb_unformatted_code = \"year_range = range(2013, 2018)\";\n",
       "                var nbb_formatted_code = \"year_range = range(2013, 2018)\";\n",
       "                var nbb_cells = Jupyter.notebook.get_cells();\n",
       "                for (var i = 0; i < nbb_cells.length; ++i) {\n",
       "                    if (nbb_cells[i].input_prompt_number == nbb_cell_id) {\n",
       "                        if (nbb_cells[i].get_text() == nbb_unformatted_code) {\n",
       "                             nbb_cells[i].set_text(nbb_formatted_code);\n",
       "                        }\n",
       "                        break;\n",
       "                    }\n",
       "                }\n",
       "            }, 500);\n",
       "            "
      ],
      "text/plain": [
       "<IPython.core.display.Javascript object>"
      ]
     },
     "metadata": {},
     "output_type": "display_data"
    }
   ],
   "source": [
    "year_range = range(2013, 2018)"
   ]
  },
  {
   "cell_type": "code",
   "execution_count": 4,
   "metadata": {},
   "outputs": [
    {
     "data": {
      "application/javascript": [
       "\n",
       "            setTimeout(function() {\n",
       "                var nbb_cell_id = 4;\n",
       "                var nbb_unformatted_code = \"socio_eco_data = pd.read_excel(\\n    dir_data + \\\"\\\\data.xlsx\\\", sheet_name=\\\"dea_inputData\\\", index_col=0\\n)\";\n",
       "                var nbb_formatted_code = \"socio_eco_data = pd.read_excel(\\n    dir_data + \\\"\\\\data.xlsx\\\", sheet_name=\\\"dea_inputData\\\", index_col=0\\n)\";\n",
       "                var nbb_cells = Jupyter.notebook.get_cells();\n",
       "                for (var i = 0; i < nbb_cells.length; ++i) {\n",
       "                    if (nbb_cells[i].input_prompt_number == nbb_cell_id) {\n",
       "                        if (nbb_cells[i].get_text() == nbb_unformatted_code) {\n",
       "                             nbb_cells[i].set_text(nbb_formatted_code);\n",
       "                        }\n",
       "                        break;\n",
       "                    }\n",
       "                }\n",
       "            }, 500);\n",
       "            "
      ],
      "text/plain": [
       "<IPython.core.display.Javascript object>"
      ]
     },
     "metadata": {},
     "output_type": "display_data"
    }
   ],
   "source": [
    "socio_eco_data = pd.read_excel(\n",
    "    dir_data + \"\\data.xlsx\", sheet_name=\"dea_inputData\", index_col=0\n",
    ")"
   ]
  },
  {
   "cell_type": "code",
   "execution_count": 5,
   "metadata": {},
   "outputs": [
    {
     "data": {
      "application/javascript": [
       "\n",
       "            setTimeout(function() {\n",
       "                var nbb_cell_id = 5;\n",
       "                var nbb_unformatted_code = \"socio_eco_data_sort = socio_eco_data.sort_values([\\\"year\\\", \\\"City name\\\"])\";\n",
       "                var nbb_formatted_code = \"socio_eco_data_sort = socio_eco_data.sort_values([\\\"year\\\", \\\"City name\\\"])\";\n",
       "                var nbb_cells = Jupyter.notebook.get_cells();\n",
       "                for (var i = 0; i < nbb_cells.length; ++i) {\n",
       "                    if (nbb_cells[i].input_prompt_number == nbb_cell_id) {\n",
       "                        if (nbb_cells[i].get_text() == nbb_unformatted_code) {\n",
       "                             nbb_cells[i].set_text(nbb_formatted_code);\n",
       "                        }\n",
       "                        break;\n",
       "                    }\n",
       "                }\n",
       "            }, 500);\n",
       "            "
      ],
      "text/plain": [
       "<IPython.core.display.Javascript object>"
      ]
     },
     "metadata": {},
     "output_type": "display_data"
    }
   ],
   "source": [
    "socio_eco_data_sort = socio_eco_data.sort_values([\"year\", \"City name\"])"
   ]
  },
  {
   "cell_type": "code",
   "execution_count": 6,
   "metadata": {},
   "outputs": [
    {
     "data": {
      "application/javascript": [
       "\n",
       "            setTimeout(function() {\n",
       "                var nbb_cell_id = 6;\n",
       "                var nbb_unformatted_code = \"file_name_list = os.listdir(lca_data)\";\n",
       "                var nbb_formatted_code = \"file_name_list = os.listdir(lca_data)\";\n",
       "                var nbb_cells = Jupyter.notebook.get_cells();\n",
       "                for (var i = 0; i < nbb_cells.length; ++i) {\n",
       "                    if (nbb_cells[i].input_prompt_number == nbb_cell_id) {\n",
       "                        if (nbb_cells[i].get_text() == nbb_unformatted_code) {\n",
       "                             nbb_cells[i].set_text(nbb_formatted_code);\n",
       "                        }\n",
       "                        break;\n",
       "                    }\n",
       "                }\n",
       "            }, 500);\n",
       "            "
      ],
      "text/plain": [
       "<IPython.core.display.Javascript object>"
      ]
     },
     "metadata": {},
     "output_type": "display_data"
    }
   ],
   "source": [
    "file_name_list = os.listdir(lca_data)"
   ]
  },
  {
   "cell_type": "code",
   "execution_count": 7,
   "metadata": {},
   "outputs": [
    {
     "data": {
      "application/javascript": [
       "\n",
       "            setTimeout(function() {\n",
       "                var nbb_cell_id = 7;\n",
       "                var nbb_unformatted_code = \"file_name_dict = {}\\nfor year in year_range:\\n    file_name_dict[str(year)] = [i for i in file_name_list if str(year) in i]\";\n",
       "                var nbb_formatted_code = \"file_name_dict = {}\\nfor year in year_range:\\n    file_name_dict[str(year)] = [i for i in file_name_list if str(year) in i]\";\n",
       "                var nbb_cells = Jupyter.notebook.get_cells();\n",
       "                for (var i = 0; i < nbb_cells.length; ++i) {\n",
       "                    if (nbb_cells[i].input_prompt_number == nbb_cell_id) {\n",
       "                        if (nbb_cells[i].get_text() == nbb_unformatted_code) {\n",
       "                             nbb_cells[i].set_text(nbb_formatted_code);\n",
       "                        }\n",
       "                        break;\n",
       "                    }\n",
       "                }\n",
       "            }, 500);\n",
       "            "
      ],
      "text/plain": [
       "<IPython.core.display.Javascript object>"
      ]
     },
     "metadata": {},
     "output_type": "display_data"
    }
   ],
   "source": [
    "file_name_dict = {}\n",
    "for year in year_range:\n",
    "    file_name_dict[str(year)] = [i for i in file_name_list if str(year) in i]"
   ]
  },
  {
   "cell_type": "code",
   "execution_count": 8,
   "metadata": {},
   "outputs": [
    {
     "data": {
      "application/javascript": [
       "\n",
       "            setTimeout(function() {\n",
       "                var nbb_cell_id = 8;\n",
       "                var nbb_unformatted_code = \"def cumulate_LCA(file_name):\\n    with open(os.path.join(lca_data, file_name), \\\"rb\\\") as file:\\n        data = pickle.load(file)\\n        data_sum = data.groupby(data.index).sum().T\\n    return data_sum\";\n",
       "                var nbb_formatted_code = \"def cumulate_LCA(file_name):\\n    with open(os.path.join(lca_data, file_name), \\\"rb\\\") as file:\\n        data = pickle.load(file)\\n        data_sum = data.groupby(data.index).sum().T\\n    return data_sum\";\n",
       "                var nbb_cells = Jupyter.notebook.get_cells();\n",
       "                for (var i = 0; i < nbb_cells.length; ++i) {\n",
       "                    if (nbb_cells[i].input_prompt_number == nbb_cell_id) {\n",
       "                        if (nbb_cells[i].get_text() == nbb_unformatted_code) {\n",
       "                             nbb_cells[i].set_text(nbb_formatted_code);\n",
       "                        }\n",
       "                        break;\n",
       "                    }\n",
       "                }\n",
       "            }, 500);\n",
       "            "
      ],
      "text/plain": [
       "<IPython.core.display.Javascript object>"
      ]
     },
     "metadata": {},
     "output_type": "display_data"
    }
   ],
   "source": [
    "def cumulate_LCA(file_name):\n",
    "    with open(os.path.join(lca_data, file_name), \"rb\") as file:\n",
    "        data = pickle.load(file)\n",
    "        data_sum = data.groupby(data.index).sum().T\n",
    "    return data_sum"
   ]
  },
  {
   "cell_type": "code",
   "execution_count": 9,
   "metadata": {},
   "outputs": [
    {
     "data": {
      "text/html": [
       "<div>\n",
       "<style scoped>\n",
       "    .dataframe tbody tr th:only-of-type {\n",
       "        vertical-align: middle;\n",
       "    }\n",
       "\n",
       "    .dataframe tbody tr th {\n",
       "        vertical-align: top;\n",
       "    }\n",
       "\n",
       "    .dataframe thead th {\n",
       "        text-align: right;\n",
       "    }\n",
       "</style>\n",
       "<table border=\"1\" class=\"dataframe\">\n",
       "  <thead>\n",
       "    <tr style=\"text-align: right;\">\n",
       "      <th></th>\n",
       "      <th>FDP</th>\n",
       "      <th>GWP</th>\n",
       "      <th>PMFP</th>\n",
       "    </tr>\n",
       "  </thead>\n",
       "  <tbody>\n",
       "    <tr>\n",
       "      <th>0</th>\n",
       "      <td>511.540157</td>\n",
       "      <td>1352.341050</td>\n",
       "      <td>4.232742</td>\n",
       "    </tr>\n",
       "    <tr>\n",
       "      <th>1</th>\n",
       "      <td>523.300751</td>\n",
       "      <td>1902.275772</td>\n",
       "      <td>4.484253</td>\n",
       "    </tr>\n",
       "    <tr>\n",
       "      <th>2</th>\n",
       "      <td>508.968382</td>\n",
       "      <td>1647.406190</td>\n",
       "      <td>4.385157</td>\n",
       "    </tr>\n",
       "    <tr>\n",
       "      <th>3</th>\n",
       "      <td>713.507554</td>\n",
       "      <td>1864.829718</td>\n",
       "      <td>5.653213</td>\n",
       "    </tr>\n",
       "    <tr>\n",
       "      <th>4</th>\n",
       "      <td>604.144307</td>\n",
       "      <td>1676.433065</td>\n",
       "      <td>4.645798</td>\n",
       "    </tr>\n",
       "    <tr>\n",
       "      <th>...</th>\n",
       "      <td>...</td>\n",
       "      <td>...</td>\n",
       "      <td>...</td>\n",
       "    </tr>\n",
       "    <tr>\n",
       "      <th>995</th>\n",
       "      <td>629.384160</td>\n",
       "      <td>1642.027514</td>\n",
       "      <td>4.021832</td>\n",
       "    </tr>\n",
       "    <tr>\n",
       "      <th>996</th>\n",
       "      <td>704.168516</td>\n",
       "      <td>1969.659775</td>\n",
       "      <td>4.205560</td>\n",
       "    </tr>\n",
       "    <tr>\n",
       "      <th>997</th>\n",
       "      <td>669.511994</td>\n",
       "      <td>1628.380338</td>\n",
       "      <td>4.888662</td>\n",
       "    </tr>\n",
       "    <tr>\n",
       "      <th>998</th>\n",
       "      <td>580.621270</td>\n",
       "      <td>1811.665762</td>\n",
       "      <td>4.573845</td>\n",
       "    </tr>\n",
       "    <tr>\n",
       "      <th>999</th>\n",
       "      <td>623.176987</td>\n",
       "      <td>1986.952399</td>\n",
       "      <td>4.939974</td>\n",
       "    </tr>\n",
       "  </tbody>\n",
       "</table>\n",
       "<p>1000 rows × 3 columns</p>\n",
       "</div>"
      ],
      "text/plain": [
       "            FDP          GWP      PMFP\n",
       "0    511.540157  1352.341050  4.232742\n",
       "1    523.300751  1902.275772  4.484253\n",
       "2    508.968382  1647.406190  4.385157\n",
       "3    713.507554  1864.829718  5.653213\n",
       "4    604.144307  1676.433065  4.645798\n",
       "..          ...          ...       ...\n",
       "995  629.384160  1642.027514  4.021832\n",
       "996  704.168516  1969.659775  4.205560\n",
       "997  669.511994  1628.380338  4.888662\n",
       "998  580.621270  1811.665762  4.573845\n",
       "999  623.176987  1986.952399  4.939974\n",
       "\n",
       "[1000 rows x 3 columns]"
      ]
     },
     "execution_count": 9,
     "metadata": {},
     "output_type": "execute_result"
    },
    {
     "data": {
      "application/javascript": [
       "\n",
       "            setTimeout(function() {\n",
       "                var nbb_cell_id = 9;\n",
       "                var nbb_unformatted_code = \"cumulate_LCA(file_name_list[0])\";\n",
       "                var nbb_formatted_code = \"cumulate_LCA(file_name_list[0])\";\n",
       "                var nbb_cells = Jupyter.notebook.get_cells();\n",
       "                for (var i = 0; i < nbb_cells.length; ++i) {\n",
       "                    if (nbb_cells[i].input_prompt_number == nbb_cell_id) {\n",
       "                        if (nbb_cells[i].get_text() == nbb_unformatted_code) {\n",
       "                             nbb_cells[i].set_text(nbb_formatted_code);\n",
       "                        }\n",
       "                        break;\n",
       "                    }\n",
       "                }\n",
       "            }, 500);\n",
       "            "
      ],
      "text/plain": [
       "<IPython.core.display.Javascript object>"
      ]
     },
     "metadata": {},
     "output_type": "display_data"
    }
   ],
   "source": [
    "cumulate_LCA(file_name_list[0])"
   ]
  },
  {
   "cell_type": "code",
   "execution_count": 10,
   "metadata": {},
   "outputs": [
    {
     "data": {
      "application/javascript": [
       "\n",
       "            setTimeout(function() {\n",
       "                var nbb_cell_id = 10;\n",
       "                var nbb_unformatted_code = \"def LCA_impact_City(file_name_list, impact_name, mc_number):\\n    # \\u5c06\\u6bcf\\u4e2a\\u57ce\\u5e02\\u5bf9\\u5e94\\u7684LCIA\\u94fe\\u63a5\\u5728\\u4e00\\u4e2a\\u5b57\\u5178\\u4e2d\\n    value_dict = {}\\n    for i in range(len(file_name_list)):\\n        data_mc = cumulate_LCA(file_name_list[i])\\n        data_value = data_mc.loc[mc_number, impact_name]\\n        value_dict[file_name_list[i][:-11]] = data_value\\n    value_df = pd.DataFrame(\\n        value_dict.values(), index=value_dict.keys(), columns=[impact_name]\\n    )\\n\\n    return value_df\";\n",
       "                var nbb_formatted_code = \"def LCA_impact_City(file_name_list, impact_name, mc_number):\\n    # \\u5c06\\u6bcf\\u4e2a\\u57ce\\u5e02\\u5bf9\\u5e94\\u7684LCIA\\u94fe\\u63a5\\u5728\\u4e00\\u4e2a\\u5b57\\u5178\\u4e2d\\n    value_dict = {}\\n    for i in range(len(file_name_list)):\\n        data_mc = cumulate_LCA(file_name_list[i])\\n        data_value = data_mc.loc[mc_number, impact_name]\\n        value_dict[file_name_list[i][:-11]] = data_value\\n    value_df = pd.DataFrame(\\n        value_dict.values(), index=value_dict.keys(), columns=[impact_name]\\n    )\\n\\n    return value_df\";\n",
       "                var nbb_cells = Jupyter.notebook.get_cells();\n",
       "                for (var i = 0; i < nbb_cells.length; ++i) {\n",
       "                    if (nbb_cells[i].input_prompt_number == nbb_cell_id) {\n",
       "                        if (nbb_cells[i].get_text() == nbb_unformatted_code) {\n",
       "                             nbb_cells[i].set_text(nbb_formatted_code);\n",
       "                        }\n",
       "                        break;\n",
       "                    }\n",
       "                }\n",
       "            }, 500);\n",
       "            "
      ],
      "text/plain": [
       "<IPython.core.display.Javascript object>"
      ]
     },
     "metadata": {},
     "output_type": "display_data"
    }
   ],
   "source": [
    "def LCA_impact_City(file_name_list, impact_name, mc_number):\n",
    "    # 将每个城市对应的LCIA链接在一个字典中\n",
    "    value_dict = {}\n",
    "    for i in range(len(file_name_list)):\n",
    "        data_mc = cumulate_LCA(file_name_list[i])\n",
    "        data_value = data_mc.loc[mc_number, impact_name]\n",
    "        value_dict[file_name_list[i][:-11]] = data_value\n",
    "    value_df = pd.DataFrame(\n",
    "        value_dict.values(), index=value_dict.keys(), columns=[impact_name]\n",
    "    )\n",
    "\n",
    "    return value_df"
   ]
  },
  {
   "cell_type": "code",
   "execution_count": 11,
   "metadata": {},
   "outputs": [
    {
     "data": {
      "application/javascript": [
       "\n",
       "            setTimeout(function() {\n",
       "                var nbb_cell_id = 11;\n",
       "                var nbb_unformatted_code = \"def connect_soc_lca(data, file_name_list, impact_name_list, mc_number):\\n    impact_df_list = []\\n    for impact_name in impact_name_list:\\n        lca_df = LCA_impact_City(file_name_list, impact_name, mc_number)\\n        impact_df_list.append(lca_df)\\n    impact_df = pd.concat(impact_df_list, axis=1)\\n    data_total = pd.concat([data, impact_df], axis=1)\\n    return data_total\";\n",
       "                var nbb_formatted_code = \"def connect_soc_lca(data, file_name_list, impact_name_list, mc_number):\\n    impact_df_list = []\\n    for impact_name in impact_name_list:\\n        lca_df = LCA_impact_City(file_name_list, impact_name, mc_number)\\n        impact_df_list.append(lca_df)\\n    impact_df = pd.concat(impact_df_list, axis=1)\\n    data_total = pd.concat([data, impact_df], axis=1)\\n    return data_total\";\n",
       "                var nbb_cells = Jupyter.notebook.get_cells();\n",
       "                for (var i = 0; i < nbb_cells.length; ++i) {\n",
       "                    if (nbb_cells[i].input_prompt_number == nbb_cell_id) {\n",
       "                        if (nbb_cells[i].get_text() == nbb_unformatted_code) {\n",
       "                             nbb_cells[i].set_text(nbb_formatted_code);\n",
       "                        }\n",
       "                        break;\n",
       "                    }\n",
       "                }\n",
       "            }, 500);\n",
       "            "
      ],
      "text/plain": [
       "<IPython.core.display.Javascript object>"
      ]
     },
     "metadata": {},
     "output_type": "display_data"
    }
   ],
   "source": [
    "def connect_soc_lca(data, file_name_list, impact_name_list, mc_number):\n",
    "    impact_df_list = []\n",
    "    for impact_name in impact_name_list:\n",
    "        lca_df = LCA_impact_City(file_name_list, impact_name, mc_number)\n",
    "        impact_df_list.append(lca_df)\n",
    "    impact_df = pd.concat(impact_df_list, axis=1)\n",
    "    data_total = pd.concat([data, impact_df], axis=1)\n",
    "    return data_total"
   ]
  },
  {
   "cell_type": "code",
   "execution_count": 12,
   "metadata": {},
   "outputs": [
    {
     "data": {
      "application/javascript": [
       "\n",
       "            setTimeout(function() {\n",
       "                var nbb_cell_id = 12;\n",
       "                var nbb_unformatted_code = \"def dea_inout(iteration):\\n    dea_inout = []\\n    for year in year_range:\\n        data = connect_soc_lca(\\n            data_year[str(year)], file_name_dict[str(year)], indicators, iteration,\\n        )\\n        dea_inout.append(data)\\n    dea_inout_df = pd.concat(dea_inout)\\n    return dea_inout_df\";\n",
       "                var nbb_formatted_code = \"def dea_inout(iteration):\\n    dea_inout = []\\n    for year in year_range:\\n        data = connect_soc_lca(\\n            data_year[str(year)], file_name_dict[str(year)], indicators, iteration,\\n        )\\n        dea_inout.append(data)\\n    dea_inout_df = pd.concat(dea_inout)\\n    return dea_inout_df\";\n",
       "                var nbb_cells = Jupyter.notebook.get_cells();\n",
       "                for (var i = 0; i < nbb_cells.length; ++i) {\n",
       "                    if (nbb_cells[i].input_prompt_number == nbb_cell_id) {\n",
       "                        if (nbb_cells[i].get_text() == nbb_unformatted_code) {\n",
       "                             nbb_cells[i].set_text(nbb_formatted_code);\n",
       "                        }\n",
       "                        break;\n",
       "                    }\n",
       "                }\n",
       "            }, 500);\n",
       "            "
      ],
      "text/plain": [
       "<IPython.core.display.Javascript object>"
      ]
     },
     "metadata": {},
     "output_type": "display_data"
    }
   ],
   "source": [
    "def dea_inout(iteration):\n",
    "    dea_inout = []\n",
    "    for year in year_range:\n",
    "        data = connect_soc_lca(\n",
    "            data_year[str(year)], file_name_dict[str(year)], indicators, iteration,\n",
    "        )\n",
    "        dea_inout.append(data)\n",
    "    dea_inout_df = pd.concat(dea_inout)\n",
    "    return dea_inout_df"
   ]
  },
  {
   "cell_type": "code",
   "execution_count": 13,
   "metadata": {},
   "outputs": [
    {
     "data": {
      "application/javascript": [
       "\n",
       "            setTimeout(function() {\n",
       "                var nbb_cell_id = 13;\n",
       "                var nbb_unformatted_code = \"data_year = {}\\nfor year in year_range:\\n    data_year[str(year)] = socio_eco_data_sort.loc[\\n        socio_eco_data_sort.loc[:, \\\"year\\\"] == year\\n    ]\";\n",
       "                var nbb_formatted_code = \"data_year = {}\\nfor year in year_range:\\n    data_year[str(year)] = socio_eco_data_sort.loc[\\n        socio_eco_data_sort.loc[:, \\\"year\\\"] == year\\n    ]\";\n",
       "                var nbb_cells = Jupyter.notebook.get_cells();\n",
       "                for (var i = 0; i < nbb_cells.length; ++i) {\n",
       "                    if (nbb_cells[i].input_prompt_number == nbb_cell_id) {\n",
       "                        if (nbb_cells[i].get_text() == nbb_unformatted_code) {\n",
       "                             nbb_cells[i].set_text(nbb_formatted_code);\n",
       "                        }\n",
       "                        break;\n",
       "                    }\n",
       "                }\n",
       "            }, 500);\n",
       "            "
      ],
      "text/plain": [
       "<IPython.core.display.Javascript object>"
      ]
     },
     "metadata": {},
     "output_type": "display_data"
    }
   ],
   "source": [
    "data_year = {}\n",
    "for year in year_range:\n",
    "    data_year[str(year)] = socio_eco_data_sort.loc[\n",
    "        socio_eco_data_sort.loc[:, \"year\"] == year\n",
    "    ]"
   ]
  },
  {
   "cell_type": "code",
   "execution_count": 14,
   "metadata": {},
   "outputs": [
    {
     "data": {
      "application/javascript": [
       "\n",
       "            setTimeout(function() {\n",
       "                var nbb_cell_id = 14;\n",
       "                var nbb_unformatted_code = \"indicators = [\\\"GWP\\\", \\\"FDP\\\", \\\"PMFP\\\"]\\niteration = 1000\";\n",
       "                var nbb_formatted_code = \"indicators = [\\\"GWP\\\", \\\"FDP\\\", \\\"PMFP\\\"]\\niteration = 1000\";\n",
       "                var nbb_cells = Jupyter.notebook.get_cells();\n",
       "                for (var i = 0; i < nbb_cells.length; ++i) {\n",
       "                    if (nbb_cells[i].input_prompt_number == nbb_cell_id) {\n",
       "                        if (nbb_cells[i].get_text() == nbb_unformatted_code) {\n",
       "                             nbb_cells[i].set_text(nbb_formatted_code);\n",
       "                        }\n",
       "                        break;\n",
       "                    }\n",
       "                }\n",
       "            }, 500);\n",
       "            "
      ],
      "text/plain": [
       "<IPython.core.display.Javascript object>"
      ]
     },
     "metadata": {},
     "output_type": "display_data"
    }
   ],
   "source": [
    "indicators = [\"GWP\", \"FDP\", \"PMFP\"]\n",
    "iteration = 1000"
   ]
  },
  {
   "cell_type": "code",
   "execution_count": 15,
   "metadata": {},
   "outputs": [
    {
     "name": "stdout",
     "output_type": "stream",
     "text": [
      "Wall time: 44min 35s\n"
     ]
    },
    {
     "data": {
      "application/javascript": [
       "\n",
       "            setTimeout(function() {\n",
       "                var nbb_cell_id = 15;\n",
       "                var nbb_unformatted_code = \"%%time\\nwith pd.ExcelWriter(os.path.join(dir_data,\\\"DEA_inout.xlsx\\\")) as writer:\\n    for i in range(iteration):\\n        dea_inout(i).to_excel(writer,sheet_name=str(i))\";\n",
       "                var nbb_formatted_code = \"%%time\\nwith pd.ExcelWriter(os.path.join(dir_data,\\\"DEA_inout.xlsx\\\")) as writer:\\n    for i in range(iteration):\\n        dea_inout(i).to_excel(writer,sheet_name=str(i))\";\n",
       "                var nbb_cells = Jupyter.notebook.get_cells();\n",
       "                for (var i = 0; i < nbb_cells.length; ++i) {\n",
       "                    if (nbb_cells[i].input_prompt_number == nbb_cell_id) {\n",
       "                        if (nbb_cells[i].get_text() == nbb_unformatted_code) {\n",
       "                             nbb_cells[i].set_text(nbb_formatted_code);\n",
       "                        }\n",
       "                        break;\n",
       "                    }\n",
       "                }\n",
       "            }, 500);\n",
       "            "
      ],
      "text/plain": [
       "<IPython.core.display.Javascript object>"
      ]
     },
     "metadata": {},
     "output_type": "display_data"
    }
   ],
   "source": [
    "%%time\n",
    "with pd.ExcelWriter(os.path.join(dir_data,\"DEA_inout.xlsx\")) as writer:\n",
    "    for i in range(iteration):\n",
    "        dea_inout(i).to_excel(writer,sheet_name=str(i))"
   ]
  }
 ],
 "metadata": {
  "kernelspec": {
   "display_name": "Python [conda env:LC_DEA]",
   "language": "python",
   "name": "conda-env-LC_DEA-py"
  },
  "language_info": {
   "codemirror_mode": {
    "name": "ipython",
    "version": 3
   },
   "file_extension": ".py",
   "mimetype": "text/x-python",
   "name": "python",
   "nbconvert_exporter": "python",
   "pygments_lexer": "ipython3",
   "version": "3.8.3"
  },
  "toc": {
   "base_numbering": 1,
   "nav_menu": {},
   "number_sections": true,
   "sideBar": true,
   "skip_h1_title": false,
   "title_cell": "Table of Contents",
   "title_sidebar": "Contents",
   "toc_cell": false,
   "toc_position": {},
   "toc_section_display": true,
   "toc_window_display": false
  }
 },
 "nbformat": 4,
 "nbformat_minor": 4
}
