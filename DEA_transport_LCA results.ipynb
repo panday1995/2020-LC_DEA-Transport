{
 "cells": [
  {
   "cell_type": "code",
   "execution_count": 2,
   "metadata": {},
   "outputs": [
    {
     "data": {
      "application/javascript": [
       "\n",
       "            setTimeout(function() {\n",
       "                var nbb_cell_id = 2;\n",
       "                var nbb_unformatted_code = \"from multiprocessing import Pool\\nfrom itertools import product\\nimport matplotlib.pyplot as plt\\nimport numpy as np\\nimport os\\nimport pandas as pd\\nimport pickle\\nimport seaborn as sns\\n\\n%load_ext nb_black\";\n",
       "                var nbb_formatted_code = \"from multiprocessing import Pool\\nfrom itertools import product\\nimport matplotlib.pyplot as plt\\nimport numpy as np\\nimport os\\nimport pandas as pd\\nimport pickle\\nimport seaborn as sns\\n\\n%load_ext nb_black\";\n",
       "                var nbb_cells = Jupyter.notebook.get_cells();\n",
       "                for (var i = 0; i < nbb_cells.length; ++i) {\n",
       "                    if (nbb_cells[i].input_prompt_number == nbb_cell_id) {\n",
       "                        if (nbb_cells[i].get_text() == nbb_unformatted_code) {\n",
       "                             nbb_cells[i].set_text(nbb_formatted_code);\n",
       "                        }\n",
       "                        break;\n",
       "                    }\n",
       "                }\n",
       "            }, 500);\n",
       "            "
      ],
      "text/plain": [
       "<IPython.core.display.Javascript object>"
      ]
     },
     "metadata": {},
     "output_type": "display_data"
    }
   ],
   "source": [
    "from multiprocessing import Pool\n",
    "from itertools import product\n",
    "import matplotlib.pyplot as plt\n",
    "import numpy as np\n",
    "import os\n",
    "import pandas as pd\n",
    "import pickle\n",
    "import seaborn as sns\n",
    "\n",
    "%load_ext nb_black"
   ]
  },
  {
   "cell_type": "code",
   "execution_count": 3,
   "metadata": {},
   "outputs": [
    {
     "data": {
      "application/javascript": [
       "\n",
       "            setTimeout(function() {\n",
       "                var nbb_cell_id = 3;\n",
       "                var nbb_unformatted_code = \"file_path = (\\n    r\\\"E:\\\\tencent files\\\\chrome Download\\\\Research\\\\DEA\\\\DEA_transport\\\\Data_input\\\\city_mc\\\"\\n)\\nos.chdir(file_path)\\nlca_data_pickle = os.path.join(file_path, os.listdir(file_path)[1])\";\n",
       "                var nbb_formatted_code = \"file_path = (\\n    r\\\"E:\\\\tencent files\\\\chrome Download\\\\Research\\\\DEA\\\\DEA_transport\\\\Data_input\\\\city_mc\\\"\\n)\\nos.chdir(file_path)\\nlca_data_pickle = os.path.join(file_path, os.listdir(file_path)[1])\";\n",
       "                var nbb_cells = Jupyter.notebook.get_cells();\n",
       "                for (var i = 0; i < nbb_cells.length; ++i) {\n",
       "                    if (nbb_cells[i].input_prompt_number == nbb_cell_id) {\n",
       "                        if (nbb_cells[i].get_text() == nbb_unformatted_code) {\n",
       "                             nbb_cells[i].set_text(nbb_formatted_code);\n",
       "                        }\n",
       "                        break;\n",
       "                    }\n",
       "                }\n",
       "            }, 500);\n",
       "            "
      ],
      "text/plain": [
       "<IPython.core.display.Javascript object>"
      ]
     },
     "metadata": {},
     "output_type": "display_data"
    }
   ],
   "source": [
    "file_path = (\n",
    "    r\"E:\\tencent files\\chrome Download\\Research\\DEA\\DEA_transport\\Data_input\\city_mc\"\n",
    ")\n",
    "os.chdir(file_path)\n",
    "lca_data_pickle = os.path.join(file_path, os.listdir(file_path)[1])"
   ]
  },
  {
   "cell_type": "code",
   "execution_count": 4,
   "metadata": {},
   "outputs": [
    {
     "data": {
      "application/javascript": [
       "\n",
       "            setTimeout(function() {\n",
       "                var nbb_cell_id = 4;\n",
       "                var nbb_unformatted_code = \"def read_pickle(province, year):\\n    #\\u8bfb\\u53d6\\u5404\\u4e2a\\u7701\\u7684\\u5404\\u4e2a\\u5e74\\u7684\\u6570\\u636e \\u8fd4\\u56deLCA\\u8ba1\\u7b97\\u7684\\u7ed3\\u679c\\n    file_name = province + year + \\\".pickle\\\"\\n    lca_data_pickle = os.path.join(file_path, file_name)\\n    with open(lca_data_pickle, \\\"rb\\\") as file:\\n        lca_data = pickle.load(file)\\n    return lca_data\";\n",
       "                var nbb_formatted_code = \"def read_pickle(province, year):\\n    # \\u8bfb\\u53d6\\u5404\\u4e2a\\u7701\\u7684\\u5404\\u4e2a\\u5e74\\u7684\\u6570\\u636e \\u8fd4\\u56deLCA\\u8ba1\\u7b97\\u7684\\u7ed3\\u679c\\n    file_name = province + year + \\\".pickle\\\"\\n    lca_data_pickle = os.path.join(file_path, file_name)\\n    with open(lca_data_pickle, \\\"rb\\\") as file:\\n        lca_data = pickle.load(file)\\n    return lca_data\";\n",
       "                var nbb_cells = Jupyter.notebook.get_cells();\n",
       "                for (var i = 0; i < nbb_cells.length; ++i) {\n",
       "                    if (nbb_cells[i].input_prompt_number == nbb_cell_id) {\n",
       "                        if (nbb_cells[i].get_text() == nbb_unformatted_code) {\n",
       "                             nbb_cells[i].set_text(nbb_formatted_code);\n",
       "                        }\n",
       "                        break;\n",
       "                    }\n",
       "                }\n",
       "            }, 500);\n",
       "            "
      ],
      "text/plain": [
       "<IPython.core.display.Javascript object>"
      ]
     },
     "metadata": {},
     "output_type": "display_data"
    }
   ],
   "source": [
    "def read_pickle(province, year):\n",
    "    # 读取各个省的各个年的数据 返回LCA计算的结果\n",
    "    file_name = province + year + \".pickle\"\n",
    "    lca_data_pickle = os.path.join(file_path, file_name)\n",
    "    with open(lca_data_pickle, \"rb\") as file:\n",
    "        lca_data = pickle.load(file)\n",
    "    return lca_data"
   ]
  },
  {
   "cell_type": "code",
   "execution_count": 5,
   "metadata": {},
   "outputs": [
    {
     "data": {
      "application/javascript": [
       "\n",
       "            setTimeout(function() {\n",
       "                var nbb_cell_id = 5;\n",
       "                var nbb_unformatted_code = \"def impact_sum(province, year, impact):\\n    #\\u8ba1\\u7b97\\u4e00\\u4e2a\\u7701\\uff0c\\u5355\\u5e74\\u7684\\u67d0\\u4e00\\u4e2a\\u73af\\u5883\\u5f71\\u54cd\\u7684\\u603b\\u503c\\u5e73\\u5747\\n    data = read_pickle(province, str(year))\\n    lca_results = data.mean(axis=1)[impact].sum()\\n    return lca_results\";\n",
       "                var nbb_formatted_code = \"def impact_sum(province, year, impact):\\n    # \\u8ba1\\u7b97\\u4e00\\u4e2a\\u7701\\uff0c\\u5355\\u5e74\\u7684\\u67d0\\u4e00\\u4e2a\\u73af\\u5883\\u5f71\\u54cd\\u7684\\u603b\\u503c\\u5e73\\u5747\\n    data = read_pickle(province, str(year))\\n    lca_results = data.mean(axis=1)[impact].sum()\\n    return lca_results\";\n",
       "                var nbb_cells = Jupyter.notebook.get_cells();\n",
       "                for (var i = 0; i < nbb_cells.length; ++i) {\n",
       "                    if (nbb_cells[i].input_prompt_number == nbb_cell_id) {\n",
       "                        if (nbb_cells[i].get_text() == nbb_unformatted_code) {\n",
       "                             nbb_cells[i].set_text(nbb_formatted_code);\n",
       "                        }\n",
       "                        break;\n",
       "                    }\n",
       "                }\n",
       "            }, 500);\n",
       "            "
      ],
      "text/plain": [
       "<IPython.core.display.Javascript object>"
      ]
     },
     "metadata": {},
     "output_type": "display_data"
    }
   ],
   "source": [
    "def impact_sum(province, year, impact):\n",
    "    # 计算一个省，单年的某一个环境影响的总值平均\n",
    "    data = read_pickle(province, str(year))\n",
    "    lca_results = data.mean(axis=1)[impact].sum()\n",
    "    return lca_results"
   ]
  },
  {
   "cell_type": "code",
   "execution_count": 6,
   "metadata": {},
   "outputs": [
    {
     "data": {
      "application/javascript": [
       "\n",
       "            setTimeout(function() {\n",
       "                var nbb_cell_id = 6;\n",
       "                var nbb_unformatted_code = \"def province_list(year=2013):\\n    file_path = r\\\"E:\\\\tencent files\\\\chrome Download\\\\Research\\\\DEA\\\\DEA_transport\\\\Data_input\\\\city_efficency\\\"\\n\\n    def load_pickle(\\n        iteration,\\n        columns=[\\\"scalingFacotr_b_0\\\", \\\"scalingFacotr_b_1\\\"],\\n        file_path=file_path,\\n    ):\\n        pickle_ls = os.listdir(file_path)\\n        os.chdir(file_path)\\n        with open(pickle_ls[iteration], \\\"rb\\\") as file:\\n            results = pickle.load(file)\\n        efficiency_results = results.loc[:, columns]\\n\\n        return efficiency_results\\n\\n    DMU_df_total = load_pickle(0, columns=[\\\"City name\\\", \\\"year\\\"])\\n    DMU_df = DMU_df_total[DMU_df_total[\\\"year\\\"] == 2013]\\n    return DMU_df[\\\"City name\\\"]\";\n",
       "                var nbb_formatted_code = \"def province_list(year=2013):\\n    file_path = r\\\"E:\\\\tencent files\\\\chrome Download\\\\Research\\\\DEA\\\\DEA_transport\\\\Data_input\\\\city_efficency\\\"\\n\\n    def load_pickle(\\n        iteration,\\n        columns=[\\\"scalingFacotr_b_0\\\", \\\"scalingFacotr_b_1\\\"],\\n        file_path=file_path,\\n    ):\\n        pickle_ls = os.listdir(file_path)\\n        os.chdir(file_path)\\n        with open(pickle_ls[iteration], \\\"rb\\\") as file:\\n            results = pickle.load(file)\\n        efficiency_results = results.loc[:, columns]\\n\\n        return efficiency_results\\n\\n    DMU_df_total = load_pickle(0, columns=[\\\"City name\\\", \\\"year\\\"])\\n    DMU_df = DMU_df_total[DMU_df_total[\\\"year\\\"] == 2013]\\n    return DMU_df[\\\"City name\\\"]\";\n",
       "                var nbb_cells = Jupyter.notebook.get_cells();\n",
       "                for (var i = 0; i < nbb_cells.length; ++i) {\n",
       "                    if (nbb_cells[i].input_prompt_number == nbb_cell_id) {\n",
       "                        if (nbb_cells[i].get_text() == nbb_unformatted_code) {\n",
       "                             nbb_cells[i].set_text(nbb_formatted_code);\n",
       "                        }\n",
       "                        break;\n",
       "                    }\n",
       "                }\n",
       "            }, 500);\n",
       "            "
      ],
      "text/plain": [
       "<IPython.core.display.Javascript object>"
      ]
     },
     "metadata": {},
     "output_type": "display_data"
    }
   ],
   "source": [
    "def province_list(year=2013):\n",
    "    file_path = r\"E:\\tencent files\\chrome Download\\Research\\DEA\\DEA_transport\\Data_input\\city_efficency\"\n",
    "\n",
    "    def load_pickle(\n",
    "        iteration,\n",
    "        columns=[\"scalingFacotr_b_0\", \"scalingFacotr_b_1\"],\n",
    "        file_path=file_path,\n",
    "    ):\n",
    "        pickle_ls = os.listdir(file_path)\n",
    "        os.chdir(file_path)\n",
    "        with open(pickle_ls[iteration], \"rb\") as file:\n",
    "            results = pickle.load(file)\n",
    "        efficiency_results = results.loc[:, columns]\n",
    "\n",
    "        return efficiency_results\n",
    "\n",
    "    DMU_df_total = load_pickle(0, columns=[\"City name\", \"year\"])\n",
    "    DMU_df = DMU_df_total[DMU_df_total[\"year\"] == 2013]\n",
    "    return DMU_df[\"City name\"]"
   ]
  },
  {
   "cell_type": "code",
   "execution_count": 7,
   "metadata": {},
   "outputs": [
    {
     "data": {
      "application/javascript": [
       "\n",
       "            setTimeout(function() {\n",
       "                var nbb_cell_id = 7;\n",
       "                var nbb_unformatted_code = \"def descriptive_data_ls(imapct_name):\\n    lca_ls = []\\n    for DMU in province_list():\\n        for year in range(2013,2018):\\n            data = impact_sum(DMU, 2017, imapct_name)\\n            lca_ls.append(data)\\n    return lca_ls\";\n",
       "                var nbb_formatted_code = \"def descriptive_data_ls(imapct_name):\\n    lca_ls = []\\n    for DMU in province_list():\\n        for year in range(2013, 2018):\\n            data = impact_sum(DMU, 2017, imapct_name)\\n            lca_ls.append(data)\\n    return lca_ls\";\n",
       "                var nbb_cells = Jupyter.notebook.get_cells();\n",
       "                for (var i = 0; i < nbb_cells.length; ++i) {\n",
       "                    if (nbb_cells[i].input_prompt_number == nbb_cell_id) {\n",
       "                        if (nbb_cells[i].get_text() == nbb_unformatted_code) {\n",
       "                             nbb_cells[i].set_text(nbb_formatted_code);\n",
       "                        }\n",
       "                        break;\n",
       "                    }\n",
       "                }\n",
       "            }, 500);\n",
       "            "
      ],
      "text/plain": [
       "<IPython.core.display.Javascript object>"
      ]
     },
     "metadata": {},
     "output_type": "display_data"
    }
   ],
   "source": [
    "def descriptive_data_ls(imapct_name):\n",
    "    lca_ls = []\n",
    "    for DMU in province_list():\n",
    "        for year in range(2013, 2018):\n",
    "            data = impact_sum(DMU, 2017, imapct_name)\n",
    "            lca_ls.append(data)\n",
    "    return lca_ls"
   ]
  },
  {
   "cell_type": "code",
   "execution_count": 10,
   "metadata": {},
   "outputs": [
    {
     "data": {
      "application/javascript": [
       "\n",
       "            setTimeout(function() {\n",
       "                var nbb_cell_id = 10;\n",
       "                var nbb_unformatted_code = \"lca_FDP = descriptive_data_ls(\\\"FDP\\\")\\nlca_GWP = descriptive_data_ls(\\\"GWP\\\")\\nlca_PMFP = descriptive_data_ls(\\\"PMFP\\\")\";\n",
       "                var nbb_formatted_code = \"lca_FDP = descriptive_data_ls(\\\"FDP\\\")\\nlca_GWP = descriptive_data_ls(\\\"GWP\\\")\\nlca_PMFP = descriptive_data_ls(\\\"PMFP\\\")\";\n",
       "                var nbb_cells = Jupyter.notebook.get_cells();\n",
       "                for (var i = 0; i < nbb_cells.length; ++i) {\n",
       "                    if (nbb_cells[i].input_prompt_number == nbb_cell_id) {\n",
       "                        if (nbb_cells[i].get_text() == nbb_unformatted_code) {\n",
       "                             nbb_cells[i].set_text(nbb_formatted_code);\n",
       "                        }\n",
       "                        break;\n",
       "                    }\n",
       "                }\n",
       "            }, 500);\n",
       "            "
      ],
      "text/plain": [
       "<IPython.core.display.Javascript object>"
      ]
     },
     "metadata": {},
     "output_type": "display_data"
    }
   ],
   "source": [
    "lca_FDP = descriptive_data_ls(\"FDP\")\n",
    "lca_GWP = descriptive_data_ls(\"GWP\")\n",
    "lca_PMFP = descriptive_data_ls(\"PMFP\")"
   ]
  },
  {
   "cell_type": "code",
   "execution_count": 13,
   "metadata": {},
   "outputs": [
    {
     "data": {
      "text/plain": [
       "(262.8750427624815, 760.5529467789486, 1.7764929001807115)"
      ]
     },
     "execution_count": 13,
     "metadata": {},
     "output_type": "execute_result"
    },
    {
     "data": {
      "application/javascript": [
       "\n",
       "            setTimeout(function() {\n",
       "                var nbb_cell_id = 13;\n",
       "                var nbb_unformatted_code = \"np.array(lca_FDP).mean(),np.array(lca_GWP).mean(),np.array(lca_PMFP).mean()\";\n",
       "                var nbb_formatted_code = \"np.array(lca_FDP).mean(), np.array(lca_GWP).mean(), np.array(lca_PMFP).mean()\";\n",
       "                var nbb_cells = Jupyter.notebook.get_cells();\n",
       "                for (var i = 0; i < nbb_cells.length; ++i) {\n",
       "                    if (nbb_cells[i].input_prompt_number == nbb_cell_id) {\n",
       "                        if (nbb_cells[i].get_text() == nbb_unformatted_code) {\n",
       "                             nbb_cells[i].set_text(nbb_formatted_code);\n",
       "                        }\n",
       "                        break;\n",
       "                    }\n",
       "                }\n",
       "            }, 500);\n",
       "            "
      ],
      "text/plain": [
       "<IPython.core.display.Javascript object>"
      ]
     },
     "metadata": {},
     "output_type": "display_data"
    }
   ],
   "source": [
    "np.array(lca_FDP).mean(),np.array(lca_GWP).mean(),np.array(lca_PMFP).mean()"
   ]
  },
  {
   "cell_type": "code",
   "execution_count": 14,
   "metadata": {},
   "outputs": [
    {
     "data": {
      "text/plain": [
       "(769.2297810078394, 2322.3965014129317, 6.290247263805059)"
      ]
     },
     "execution_count": 14,
     "metadata": {},
     "output_type": "execute_result"
    },
    {
     "data": {
      "application/javascript": [
       "\n",
       "            setTimeout(function() {\n",
       "                var nbb_cell_id = 14;\n",
       "                var nbb_unformatted_code = \"np.array(lca_FDP).max(),np.array(lca_GWP).max(),np.array(lca_PMFP).max()\";\n",
       "                var nbb_formatted_code = \"np.array(lca_FDP).max(), np.array(lca_GWP).max(), np.array(lca_PMFP).max()\";\n",
       "                var nbb_cells = Jupyter.notebook.get_cells();\n",
       "                for (var i = 0; i < nbb_cells.length; ++i) {\n",
       "                    if (nbb_cells[i].input_prompt_number == nbb_cell_id) {\n",
       "                        if (nbb_cells[i].get_text() == nbb_unformatted_code) {\n",
       "                             nbb_cells[i].set_text(nbb_formatted_code);\n",
       "                        }\n",
       "                        break;\n",
       "                    }\n",
       "                }\n",
       "            }, 500);\n",
       "            "
      ],
      "text/plain": [
       "<IPython.core.display.Javascript object>"
      ]
     },
     "metadata": {},
     "output_type": "display_data"
    }
   ],
   "source": [
    "np.array(lca_FDP).max(), np.array(lca_GWP).max(), np.array(lca_PMFP).max()"
   ]
  },
  {
   "cell_type": "code",
   "execution_count": 15,
   "metadata": {},
   "outputs": [
    {
     "data": {
      "text/plain": [
       "(26.332555127705497, 75.81561790489073, 0.168986449092432)"
      ]
     },
     "execution_count": 15,
     "metadata": {},
     "output_type": "execute_result"
    },
    {
     "data": {
      "application/javascript": [
       "\n",
       "            setTimeout(function() {\n",
       "                var nbb_cell_id = 15;\n",
       "                var nbb_unformatted_code = \"np.array(lca_FDP).min(), np.array(lca_GWP).min(), np.array(lca_PMFP).min()\";\n",
       "                var nbb_formatted_code = \"np.array(lca_FDP).min(), np.array(lca_GWP).min(), np.array(lca_PMFP).min()\";\n",
       "                var nbb_cells = Jupyter.notebook.get_cells();\n",
       "                for (var i = 0; i < nbb_cells.length; ++i) {\n",
       "                    if (nbb_cells[i].input_prompt_number == nbb_cell_id) {\n",
       "                        if (nbb_cells[i].get_text() == nbb_unformatted_code) {\n",
       "                             nbb_cells[i].set_text(nbb_formatted_code);\n",
       "                        }\n",
       "                        break;\n",
       "                    }\n",
       "                }\n",
       "            }, 500);\n",
       "            "
      ],
      "text/plain": [
       "<IPython.core.display.Javascript object>"
      ]
     },
     "metadata": {},
     "output_type": "display_data"
    }
   ],
   "source": [
    "np.array(lca_FDP).min(), np.array(lca_GWP).min(), np.array(lca_PMFP).min()"
   ]
  },
  {
   "cell_type": "code",
   "execution_count": 17,
   "metadata": {},
   "outputs": [
    {
     "data": {
      "text/plain": [
       "(195.01603397749582, 571.0888808434325, 1.4687460542579795)"
      ]
     },
     "execution_count": 17,
     "metadata": {},
     "output_type": "execute_result"
    },
    {
     "data": {
      "application/javascript": [
       "\n",
       "            setTimeout(function() {\n",
       "                var nbb_cell_id = 17;\n",
       "                var nbb_unformatted_code = \"np.array(lca_FDP).std(), np.array(lca_GWP).std(), np.array(lca_PMFP).std()\";\n",
       "                var nbb_formatted_code = \"np.array(lca_FDP).std(), np.array(lca_GWP).std(), np.array(lca_PMFP).std()\";\n",
       "                var nbb_cells = Jupyter.notebook.get_cells();\n",
       "                for (var i = 0; i < nbb_cells.length; ++i) {\n",
       "                    if (nbb_cells[i].input_prompt_number == nbb_cell_id) {\n",
       "                        if (nbb_cells[i].get_text() == nbb_unformatted_code) {\n",
       "                             nbb_cells[i].set_text(nbb_formatted_code);\n",
       "                        }\n",
       "                        break;\n",
       "                    }\n",
       "                }\n",
       "            }, 500);\n",
       "            "
      ],
      "text/plain": [
       "<IPython.core.display.Javascript object>"
      ]
     },
     "metadata": {},
     "output_type": "display_data"
    }
   ],
   "source": [
    "np.array(lca_FDP).std(), np.array(lca_GWP).std(), np.array(lca_PMFP).std()"
   ]
  }
 ],
 "metadata": {
  "kernelspec": {
   "display_name": "Python [conda env:LC_DEA]",
   "language": "python",
   "name": "conda-env-LC_DEA-py"
  },
  "language_info": {
   "codemirror_mode": {
    "name": "ipython",
    "version": 3
   },
   "file_extension": ".py",
   "mimetype": "text/x-python",
   "name": "python",
   "nbconvert_exporter": "python",
   "pygments_lexer": "ipython3",
   "version": "3.8.3"
  },
  "toc": {
   "base_numbering": 1,
   "nav_menu": {},
   "number_sections": true,
   "sideBar": true,
   "skip_h1_title": false,
   "title_cell": "Table of Contents",
   "title_sidebar": "Contents",
   "toc_cell": false,
   "toc_position": {},
   "toc_section_display": true,
   "toc_window_display": false
  }
 },
 "nbformat": 4,
 "nbformat_minor": 4
}
